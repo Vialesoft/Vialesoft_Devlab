{
 "cells": [
  {
   "cell_type": "markdown",
   "metadata": {},
   "source": [
    "### Config Structure\n",
    "\n",
    "- TWILIO_ACCOUNT_SID = ''\n",
    "- TWILIO_AUTH_TOKEN = ''\n",
    "- PHONE_NUMBER = '' # Twilio phone number\n",
    "- API_KEY_WAPI = ''\n",
    "- CIUDAD = ''\n"
   ]
  },
  {
   "cell_type": "code",
   "execution_count": 1,
   "metadata": {
    "scrolled": true
   },
   "outputs": [],
   "source": [
    "# pip install twilio"
   ]
  },
  {
   "cell_type": "code",
   "execution_count": 2,
   "metadata": {},
   "outputs": [],
   "source": [
    "# pip install tqdm"
   ]
  },
  {
   "cell_type": "code",
   "execution_count": 3,
   "metadata": {},
   "outputs": [],
   "source": [
    "import os\n",
    "from twilio.rest import Client\n",
    "from _config import *\n",
    "import time\n",
    "\n",
    "from requests import Request, Session\n",
    "from requests.exceptions import ConnectionError, Timeout, TooManyRedirects\n",
    "import json\n",
    "\n",
    "import pandas as pd\n",
    "import requests\n",
    "from bs4  import BeautifulSoup\n",
    "from tqdm import tqdm\n",
    "\n",
    "from datetime import datetime"
   ]
  },
  {
   "cell_type": "code",
   "execution_count": 4,
   "metadata": {},
   "outputs": [],
   "source": [
    "fecha = ''"
   ]
  },
  {
   "cell_type": "code",
   "execution_count": 5,
   "metadata": {},
   "outputs": [],
   "source": [
    "def generate_url():\n",
    "    api_key = API_KEY_WAPI\n",
    "    ciudad = CIUDAD\n",
    "    dias = 1\n",
    "    \n",
    "    url_clima = \"http://api.weatherapi.com/v1/forecast.json?key={0}&q={1}&days={2}&aqi=no&alerts=no\".format(api_key,ciudad,dias)\n",
    "\n",
    "    return url_clima"
   ]
  },
  {
   "cell_type": "code",
   "execution_count": 6,
   "metadata": {},
   "outputs": [],
   "source": [
    "def get_Response_Clima():\n",
    "    url_clima = generate_url()\n",
    "    \n",
    "    response = requests.get(url_clima).json()    \n",
    "    return response"
   ]
  },
  {
   "cell_type": "code",
   "execution_count": 7,
   "metadata": {},
   "outputs": [],
   "source": [
    "def get_forecast(response,i):\n",
    "    fecha = response['forecast']['forecastday'][0]['hour'][i]['time'].split()[0]\n",
    "    hora = int(response['forecast']['forecastday'][0]['hour'][i]['time'].split()[1].split(':')[0])\n",
    "    condicion = response['forecast']['forecastday'][0]['hour'][i]['condition']['text']\n",
    "    tempe = float(response['forecast']['forecastday'][0]['hour'][i]['temp_c'])\n",
    "    rain = response['forecast']['forecastday'][0]['hour'][i]['will_it_rain']\n",
    "    prob_rain = response['forecast']['forecastday'][0]['hour'][i]['chance_of_rain']\n",
    "\n",
    "    return fecha, hora, condicion, tempe, rain, prob_rain"
   ]
  },
  {
   "cell_type": "code",
   "execution_count": 13,
   "metadata": {},
   "outputs": [],
   "source": [
    "def get_InfoDelDiaOrdenada():\n",
    "    datos = []\n",
    "    clima = get_Response_Clima()\n",
    "\n",
    "    for i in tqdm(range(len(clima['forecast']['forecastday'][0]['hour'])), colour = 'blue'):\n",
    "        datos.append(get_forecast(clima,i))\n",
    "\n",
    "    cols = ['Fecha','Hora','Condicion','Temperatura','Lluvia','prob_lluvia']\n",
    "    retDF = pd.DataFrame(datos, columns=cols)\n",
    "    retDF = retDF.sort_values(by = 'Hora', ascending = True)\n",
    "\n",
    "    return retDF\n",
    "\n",
    "def get_InfoHorasDeLluvia():\n",
    "    dataOrdenada = get_InfoDelDiaOrdenada()\n",
    "\n",
    "    df_rain =  dataOrdenada[(dataOrdenada['Lluvia'] == 1) & (dataOrdenada['Hora'] > 6) & (dataOrdenada['Hora'] < 22)]\n",
    "    df_rain = df_rain[['Hora','Condicion']]\n",
    "    df_rain.set_index('Hora', inplace = True)\n",
    "\n",
    "    return df_rain"
   ]
  },
  {
   "cell_type": "code",
   "execution_count": 9,
   "metadata": {},
   "outputs": [],
   "source": [
    "# MENSAJES CON TWILIO\n",
    "\n",
    "def enviar_SMS(mensaje):\n",
    "    time.sleep(2)\n",
    "    account_sid = TWILIO_ACCOUNT_SID \n",
    "    auth_token = TWILIO_AUTH_TOKEN\n",
    "\n",
    "    client = Client(account_sid, auth_token)\n",
    "\n",
    "    message = client.messages \\\n",
    "                    .create(\n",
    "                         body = mensaje,\n",
    "                         from_ = PHONE_NUMBER,\n",
    "                         to = '+598 95 351 882'\n",
    "                     )\n",
    "\n",
    "    print('Mensaje Enviado ' + message.sid)\n",
    "\n",
    "def enviarWhatsapp(mensaje):\n",
    "    account_sid = TWILIO_ACCOUNT_SID\n",
    "    auth_token = TWILIO_AUTH_TOKEN\n",
    "    client = Client(account_sid, auth_token)\n",
    "\n",
    "    message = client.messages.create(\n",
    "      from_ ='whatsapp:+14155238886',\n",
    "      body = mensaje,\n",
    "      to = 'whatsapp:+59895351882'\n",
    "    )\n",
    "\n",
    "    print(message.sid)"
   ]
  },
  {
   "cell_type": "code",
   "execution_count": 15,
   "metadata": {},
   "outputs": [
    {
     "name": "stderr",
     "output_type": "stream",
     "text": [
      "100%|\u001b[34m██████████████████████████████████████████████████████████████████████████████████████████\u001b[0m| 24/24 [00:00<?, ?it/s]\u001b[0m"
     ]
    },
    {
     "name": "stdout",
     "output_type": "stream",
     "text": [
      "\n",
      "Hola! \n",
      "\n",
      "\n",
      " El pronostico del tiempo hoy en Montevideo es : \n",
      "\n",
      "\n",
      "                Condicion\n",
      "Hora                    \n",
      "7     Patchy rain nearby\n",
      "8     Patchy rain nearby\n",
      "9     Patchy rain nearby\n"
     ]
    },
    {
     "name": "stderr",
     "output_type": "stream",
     "text": [
      "\n"
     ]
    }
   ],
   "source": [
    "dataHorasDeLluvia = get_InfoHorasDeLluvia()\n",
    "dataHorasDeLluvia\n",
    "\n",
    "strMensaje = '\\nHola! \\n\\n\\n El pronostico del tiempo hoy en {0} es : \\n\\n\\n {1}'.format(CIUDAD, dataHorasDeLluvia)\n",
    "\n",
    "print(strMensaje)"
   ]
  },
  {
   "cell_type": "code",
   "execution_count": null,
   "metadata": {},
   "outputs": [],
   "source": [
    "enviarWhatsapp(strMensaje)"
   ]
  }
 ],
 "metadata": {
  "kernelspec": {
   "display_name": "Python 3 (ipykernel)",
   "language": "python",
   "name": "python3"
  },
  "language_info": {
   "codemirror_mode": {
    "name": "ipython",
    "version": 3
   },
   "file_extension": ".py",
   "mimetype": "text/x-python",
   "name": "python",
   "nbconvert_exporter": "python",
   "pygments_lexer": "ipython3",
   "version": "3.8.19"
  }
 },
 "nbformat": 4,
 "nbformat_minor": 4
}
