{
 "cells": [
  {
   "cell_type": "code",
   "execution_count": 3,
   "metadata": {
    "scrolled": true
   },
   "outputs": [],
   "source": [
    "### pip install twilio"
   ]
  },
  {
   "cell_type": "code",
   "execution_count": 3,
   "metadata": {},
   "outputs": [],
   "source": [
    "import os\n",
    "from twilio.rest import Client\n",
    "from twilio_config import *\n",
    "import time\n",
    "\n",
    "from requests import Request, Session\n",
    "from requests.exceptions import ConnectionError, Timeout, TooManyRedirects\n",
    "import json\n",
    "\n",
    "\n",
    "import pandas as pd\n",
    "import requests\n",
    "from bs4  import BeautifulSoup\n",
    "from tqdm import tqdm\n",
    "\n",
    "from datetime import datetime"
   ]
  },
  {
   "cell_type": "code",
   "execution_count": 1,
   "metadata": {},
   "outputs": [
    {
     "ename": "NameError",
     "evalue": "name 'API_KEY_WAPI' is not defined",
     "output_type": "error",
     "traceback": [
      "\u001b[1;31m---------------------------------------------------------------------------\u001b[0m",
      "\u001b[1;31mNameError\u001b[0m                                 Traceback (most recent call last)",
      "Cell \u001b[1;32mIn[1], line 2\u001b[0m\n\u001b[0;32m      1\u001b[0m query \u001b[38;5;241m=\u001b[39m \u001b[38;5;124m'\u001b[39m\u001b[38;5;124mMontevideo\u001b[39m\u001b[38;5;124m'\u001b[39m\n\u001b[1;32m----> 2\u001b[0m api_key \u001b[38;5;241m=\u001b[39m \u001b[43mAPI_KEY_WAPI\u001b[49m\n\u001b[0;32m      4\u001b[0m url_clima \u001b[38;5;241m=\u001b[39m \u001b[38;5;124m'\u001b[39m\u001b[38;5;124mhttp://api.weatherapi.com/v1/forecast.json?key=\u001b[39m\u001b[38;5;124m'\u001b[39m\u001b[38;5;241m+\u001b[39mapi_key\u001b[38;5;241m+\u001b[39m\u001b[38;5;124m'\u001b[39m\u001b[38;5;124m&q=\u001b[39m\u001b[38;5;124m'\u001b[39m\u001b[38;5;241m+\u001b[39mquery\u001b[38;5;241m+\u001b[39m\u001b[38;5;124m'\u001b[39m\u001b[38;5;124m&days=1&aqi=no&alerts=no\u001b[39m\u001b[38;5;124m'\u001b[39m\n\u001b[0;32m      5\u001b[0m url_clima\n",
      "\u001b[1;31mNameError\u001b[0m: name 'API_KEY_WAPI' is not defined"
     ]
    }
   ],
   "source": [
    "query = 'Montevideo'\n",
    "api_key = API_KEY_WAPI\n",
    "\n",
    "url_clima = 'http://api.weatherapi.com/v1/forecast.json?key='+api_key+'&q='+query+'&days=1&aqi=no&alerts=no'\n",
    "url_clima"
   ]
  },
  {
   "cell_type": "code",
   "execution_count": 5,
   "metadata": {},
   "outputs": [],
   "source": [
    "response = requests.get(url_clima).json()"
   ]
  },
  {
   "cell_type": "code",
   "execution_count": 1,
   "metadata": {},
   "outputs": [],
   "source": [
    "## response"
   ]
  },
  {
   "cell_type": "code",
   "execution_count": 7,
   "metadata": {},
   "outputs": [
    {
     "data": {
      "text/plain": [
       "dict_keys(['location', 'current', 'forecast'])"
      ]
     },
     "execution_count": 7,
     "metadata": {},
     "output_type": "execute_result"
    }
   ],
   "source": [
    "response.keys()"
   ]
  },
  {
   "cell_type": "code",
   "execution_count": 8,
   "metadata": {},
   "outputs": [
    {
     "data": {
      "text/plain": [
       "dict_keys(['date', 'date_epoch', 'day', 'astro', 'hour'])"
      ]
     },
     "execution_count": 8,
     "metadata": {},
     "output_type": "execute_result"
    }
   ],
   "source": [
    "response['forecast']['forecastday'][0].keys()"
   ]
  },
  {
   "cell_type": "code",
   "execution_count": 9,
   "metadata": {},
   "outputs": [
    {
     "data": {
      "text/plain": [
       "24"
      ]
     },
     "execution_count": 9,
     "metadata": {},
     "output_type": "execute_result"
    }
   ],
   "source": [
    "len(response['forecast']['forecastday'][0]['hour'])"
   ]
  },
  {
   "cell_type": "code",
   "execution_count": 10,
   "metadata": {},
   "outputs": [
    {
     "data": {
      "text/plain": [
       "{'time_epoch': 1735182000,\n",
       " 'time': '2024-12-26 00:00',\n",
       " 'temp_c': 18.6,\n",
       " 'temp_f': 65.5,\n",
       " 'is_day': 0,\n",
       " 'condition': {'text': 'Patchy rain nearby',\n",
       "  'icon': '//cdn.weatherapi.com/weather/64x64/night/176.png',\n",
       "  'code': 1063},\n",
       " 'wind_mph': 16.1,\n",
       " 'wind_kph': 25.9,\n",
       " 'wind_degree': 178,\n",
       " 'wind_dir': 'S',\n",
       " 'pressure_mb': 1012.0,\n",
       " 'pressure_in': 29.88,\n",
       " 'precip_mm': 0.14,\n",
       " 'precip_in': 0.01,\n",
       " 'snow_cm': 0.0,\n",
       " 'humidity': 78,\n",
       " 'cloud': 100,\n",
       " 'feelslike_c': 18.6,\n",
       " 'feelslike_f': 65.5,\n",
       " 'windchill_c': 18.6,\n",
       " 'windchill_f': 65.5,\n",
       " 'heatindex_c': 18.6,\n",
       " 'heatindex_f': 65.5,\n",
       " 'dewpoint_c': 14.7,\n",
       " 'dewpoint_f': 58.4,\n",
       " 'will_it_rain': 1,\n",
       " 'chance_of_rain': 100,\n",
       " 'will_it_snow': 0,\n",
       " 'chance_of_snow': 0,\n",
       " 'vis_km': 10.0,\n",
       " 'vis_miles': 6.0,\n",
       " 'gust_mph': 22.5,\n",
       " 'gust_kph': 36.3,\n",
       " 'uv': 0}"
      ]
     },
     "execution_count": 10,
     "metadata": {},
     "output_type": "execute_result"
    }
   ],
   "source": [
    "response['forecast']['forecastday'][0]['hour'][0]"
   ]
  },
  {
   "cell_type": "code",
   "execution_count": 23,
   "metadata": {},
   "outputs": [],
   "source": [
    "# Obtengo fecha, hora y demás datos interesantes\n",
    "\n",
    "fecha = response['forecast']['forecastday'][0]['hour'][0]['time'].split()[0]\n",
    "hora = response['forecast']['forecastday'][0]['hour'][0]['time'].split()[1].split(':')\n",
    "condicion = response['forecast']['forecastday'][0]['hour'][0]['condition']\n",
    "tempC = response['forecast']['forecastday'][0]['hour'][0]['temp_c']\n",
    "willItRain = response['forecast']['forecastday'][0]['hour'][0]['will_it_rain']\n",
    "channceRain = response['forecast']['forecastday'][0]['hour'][0]['chance_of_rain']"
   ]
  },
  {
   "cell_type": "code",
   "execution_count": 24,
   "metadata": {},
   "outputs": [
    {
     "name": "stdout",
     "output_type": "stream",
     "text": [
      "2024-12-26\n",
      "['00', '00']\n",
      "{'text': 'Patchy rain nearby', 'icon': '//cdn.weatherapi.com/weather/64x64/night/176.png', 'code': 1063}\n",
      "18.6\n",
      "1\n",
      "100\n"
     ]
    }
   ],
   "source": [
    "print(fecha)\n",
    "print(hora)\n",
    "print(condicion)\n",
    "\n",
    "print(tempC)\n",
    "print(willItRain)\n",
    "print(channceRain)"
   ]
  },
  {
   "cell_type": "code",
   "execution_count": 27,
   "metadata": {},
   "outputs": [],
   "source": [
    "def get_forecast(response,i):\n",
    "    \n",
    "    fecha = response['forecast']['forecastday'][0]['hour'][i]['time'].split()[0]\n",
    "    hora = int(response['forecast']['forecastday'][0]['hour'][i]['time'].split()[1].split(':')[0])\n",
    "    condicion = response['forecast']['forecastday'][0]['hour'][i]['condition']['text']\n",
    "    tempe = float(response['forecast']['forecastday'][0]['hour'][i]['temp_c'])\n",
    "    rain = response['forecast']['forecastday'][0]['hour'][i]['will_it_rain']\n",
    "    prob_rain = response['forecast']['forecastday'][0]['hour'][i]['chance_of_rain']\n",
    "    \n",
    "    return fecha,hora,condicion,tempe,rain,prob_rain"
   ]
  },
  {
   "cell_type": "code",
   "execution_count": 28,
   "metadata": {},
   "outputs": [
    {
     "name": "stderr",
     "output_type": "stream",
     "text": [
      "100%|\u001b[32m████████████████████████████████████████████████████████████████████████████████\u001b[0m| 24/24 [00:00<00:00, 5993.29it/s]\u001b[0m\n"
     ]
    }
   ],
   "source": [
    "datos = []\n",
    "\n",
    "for i in tqdm(range(len(response['forecast']['forecastday'][0]['hour'])),colour = 'green'):\n",
    "    \n",
    "    datos.append(get_forecast(response,i))"
   ]
  },
  {
   "cell_type": "code",
   "execution_count": 29,
   "metadata": {},
   "outputs": [
    {
     "data": {
      "text/plain": [
       "('2024-12-26', 0, 'Patchy rain nearby', 18.6, 1, 100)"
      ]
     },
     "execution_count": 29,
     "metadata": {},
     "output_type": "execute_result"
    }
   ],
   "source": [
    "datos[0]"
   ]
  },
  {
   "cell_type": "code",
   "execution_count": 31,
   "metadata": {},
   "outputs": [
    {
     "data": {
      "text/html": [
       "<div>\n",
       "<style scoped>\n",
       "    .dataframe tbody tr th:only-of-type {\n",
       "        vertical-align: middle;\n",
       "    }\n",
       "\n",
       "    .dataframe tbody tr th {\n",
       "        vertical-align: top;\n",
       "    }\n",
       "\n",
       "    .dataframe thead th {\n",
       "        text-align: right;\n",
       "    }\n",
       "</style>\n",
       "<table border=\"1\" class=\"dataframe\">\n",
       "  <thead>\n",
       "    <tr style=\"text-align: right;\">\n",
       "      <th></th>\n",
       "      <th>Fecha</th>\n",
       "      <th>Hora</th>\n",
       "      <th>Condicion</th>\n",
       "      <th>Temperatura</th>\n",
       "      <th>Lluvia</th>\n",
       "      <th>prob_lluvia</th>\n",
       "    </tr>\n",
       "  </thead>\n",
       "  <tbody>\n",
       "    <tr>\n",
       "      <th>0</th>\n",
       "      <td>2024-12-26</td>\n",
       "      <td>0</td>\n",
       "      <td>Patchy rain nearby</td>\n",
       "      <td>18.6</td>\n",
       "      <td>1</td>\n",
       "      <td>100</td>\n",
       "    </tr>\n",
       "    <tr>\n",
       "      <th>1</th>\n",
       "      <td>2024-12-26</td>\n",
       "      <td>1</td>\n",
       "      <td>Light rain shower</td>\n",
       "      <td>18.4</td>\n",
       "      <td>1</td>\n",
       "      <td>100</td>\n",
       "    </tr>\n",
       "    <tr>\n",
       "      <th>2</th>\n",
       "      <td>2024-12-26</td>\n",
       "      <td>2</td>\n",
       "      <td>Light rain shower</td>\n",
       "      <td>18.4</td>\n",
       "      <td>1</td>\n",
       "      <td>100</td>\n",
       "    </tr>\n",
       "    <tr>\n",
       "      <th>3</th>\n",
       "      <td>2024-12-26</td>\n",
       "      <td>3</td>\n",
       "      <td>Patchy rain nearby</td>\n",
       "      <td>18.5</td>\n",
       "      <td>1</td>\n",
       "      <td>100</td>\n",
       "    </tr>\n",
       "    <tr>\n",
       "      <th>4</th>\n",
       "      <td>2024-12-26</td>\n",
       "      <td>4</td>\n",
       "      <td>Light rain shower</td>\n",
       "      <td>18.4</td>\n",
       "      <td>1</td>\n",
       "      <td>100</td>\n",
       "    </tr>\n",
       "    <tr>\n",
       "      <th>5</th>\n",
       "      <td>2024-12-26</td>\n",
       "      <td>5</td>\n",
       "      <td>Light rain shower</td>\n",
       "      <td>18.5</td>\n",
       "      <td>1</td>\n",
       "      <td>100</td>\n",
       "    </tr>\n",
       "    <tr>\n",
       "      <th>6</th>\n",
       "      <td>2024-12-26</td>\n",
       "      <td>6</td>\n",
       "      <td>Patchy rain nearby</td>\n",
       "      <td>18.6</td>\n",
       "      <td>1</td>\n",
       "      <td>100</td>\n",
       "    </tr>\n",
       "    <tr>\n",
       "      <th>7</th>\n",
       "      <td>2024-12-26</td>\n",
       "      <td>7</td>\n",
       "      <td>Patchy rain nearby</td>\n",
       "      <td>19.0</td>\n",
       "      <td>1</td>\n",
       "      <td>86</td>\n",
       "    </tr>\n",
       "    <tr>\n",
       "      <th>8</th>\n",
       "      <td>2024-12-26</td>\n",
       "      <td>8</td>\n",
       "      <td>Patchy rain nearby</td>\n",
       "      <td>19.7</td>\n",
       "      <td>1</td>\n",
       "      <td>85</td>\n",
       "    </tr>\n",
       "    <tr>\n",
       "      <th>9</th>\n",
       "      <td>2024-12-26</td>\n",
       "      <td>9</td>\n",
       "      <td>Patchy rain nearby</td>\n",
       "      <td>20.6</td>\n",
       "      <td>1</td>\n",
       "      <td>77</td>\n",
       "    </tr>\n",
       "    <tr>\n",
       "      <th>10</th>\n",
       "      <td>2024-12-26</td>\n",
       "      <td>10</td>\n",
       "      <td>Patchy rain nearby</td>\n",
       "      <td>21.3</td>\n",
       "      <td>1</td>\n",
       "      <td>82</td>\n",
       "    </tr>\n",
       "    <tr>\n",
       "      <th>11</th>\n",
       "      <td>2024-12-26</td>\n",
       "      <td>11</td>\n",
       "      <td>Patchy rain nearby</td>\n",
       "      <td>21.8</td>\n",
       "      <td>1</td>\n",
       "      <td>100</td>\n",
       "    </tr>\n",
       "    <tr>\n",
       "      <th>12</th>\n",
       "      <td>2024-12-26</td>\n",
       "      <td>12</td>\n",
       "      <td>Patchy rain nearby</td>\n",
       "      <td>22.1</td>\n",
       "      <td>0</td>\n",
       "      <td>66</td>\n",
       "    </tr>\n",
       "    <tr>\n",
       "      <th>13</th>\n",
       "      <td>2024-12-26</td>\n",
       "      <td>13</td>\n",
       "      <td>Patchy rain nearby</td>\n",
       "      <td>22.2</td>\n",
       "      <td>1</td>\n",
       "      <td>100</td>\n",
       "    </tr>\n",
       "    <tr>\n",
       "      <th>14</th>\n",
       "      <td>2024-12-26</td>\n",
       "      <td>14</td>\n",
       "      <td>Patchy rain nearby</td>\n",
       "      <td>22.2</td>\n",
       "      <td>1</td>\n",
       "      <td>100</td>\n",
       "    </tr>\n",
       "    <tr>\n",
       "      <th>15</th>\n",
       "      <td>2024-12-26</td>\n",
       "      <td>15</td>\n",
       "      <td>Patchy rain nearby</td>\n",
       "      <td>21.8</td>\n",
       "      <td>1</td>\n",
       "      <td>100</td>\n",
       "    </tr>\n",
       "    <tr>\n",
       "      <th>16</th>\n",
       "      <td>2024-12-26</td>\n",
       "      <td>16</td>\n",
       "      <td>Patchy rain nearby</td>\n",
       "      <td>21.4</td>\n",
       "      <td>1</td>\n",
       "      <td>71</td>\n",
       "    </tr>\n",
       "    <tr>\n",
       "      <th>17</th>\n",
       "      <td>2024-12-26</td>\n",
       "      <td>17</td>\n",
       "      <td>Patchy rain nearby</td>\n",
       "      <td>21.2</td>\n",
       "      <td>0</td>\n",
       "      <td>64</td>\n",
       "    </tr>\n",
       "    <tr>\n",
       "      <th>18</th>\n",
       "      <td>2024-12-26</td>\n",
       "      <td>18</td>\n",
       "      <td>Patchy rain nearby</td>\n",
       "      <td>20.8</td>\n",
       "      <td>1</td>\n",
       "      <td>79</td>\n",
       "    </tr>\n",
       "    <tr>\n",
       "      <th>19</th>\n",
       "      <td>2024-12-26</td>\n",
       "      <td>19</td>\n",
       "      <td>Partly Cloudy</td>\n",
       "      <td>20.5</td>\n",
       "      <td>0</td>\n",
       "      <td>0</td>\n",
       "    </tr>\n",
       "    <tr>\n",
       "      <th>20</th>\n",
       "      <td>2024-12-26</td>\n",
       "      <td>20</td>\n",
       "      <td>Partly Cloudy</td>\n",
       "      <td>19.9</td>\n",
       "      <td>0</td>\n",
       "      <td>0</td>\n",
       "    </tr>\n",
       "    <tr>\n",
       "      <th>21</th>\n",
       "      <td>2024-12-26</td>\n",
       "      <td>21</td>\n",
       "      <td>Partly Cloudy</td>\n",
       "      <td>19.4</td>\n",
       "      <td>0</td>\n",
       "      <td>0</td>\n",
       "    </tr>\n",
       "    <tr>\n",
       "      <th>22</th>\n",
       "      <td>2024-12-26</td>\n",
       "      <td>22</td>\n",
       "      <td>Patchy rain nearby</td>\n",
       "      <td>19.2</td>\n",
       "      <td>1</td>\n",
       "      <td>86</td>\n",
       "    </tr>\n",
       "    <tr>\n",
       "      <th>23</th>\n",
       "      <td>2024-12-26</td>\n",
       "      <td>23</td>\n",
       "      <td>Patchy rain nearby</td>\n",
       "      <td>19.3</td>\n",
       "      <td>1</td>\n",
       "      <td>82</td>\n",
       "    </tr>\n",
       "  </tbody>\n",
       "</table>\n",
       "</div>"
      ],
      "text/plain": [
       "         Fecha  Hora           Condicion  Temperatura  Lluvia  prob_lluvia\n",
       "0   2024-12-26     0  Patchy rain nearby         18.6       1          100\n",
       "1   2024-12-26     1   Light rain shower         18.4       1          100\n",
       "2   2024-12-26     2   Light rain shower         18.4       1          100\n",
       "3   2024-12-26     3  Patchy rain nearby         18.5       1          100\n",
       "4   2024-12-26     4   Light rain shower         18.4       1          100\n",
       "5   2024-12-26     5   Light rain shower         18.5       1          100\n",
       "6   2024-12-26     6  Patchy rain nearby         18.6       1          100\n",
       "7   2024-12-26     7  Patchy rain nearby         19.0       1           86\n",
       "8   2024-12-26     8  Patchy rain nearby         19.7       1           85\n",
       "9   2024-12-26     9  Patchy rain nearby         20.6       1           77\n",
       "10  2024-12-26    10  Patchy rain nearby         21.3       1           82\n",
       "11  2024-12-26    11  Patchy rain nearby         21.8       1          100\n",
       "12  2024-12-26    12  Patchy rain nearby         22.1       0           66\n",
       "13  2024-12-26    13  Patchy rain nearby         22.2       1          100\n",
       "14  2024-12-26    14  Patchy rain nearby         22.2       1          100\n",
       "15  2024-12-26    15  Patchy rain nearby         21.8       1          100\n",
       "16  2024-12-26    16  Patchy rain nearby         21.4       1           71\n",
       "17  2024-12-26    17  Patchy rain nearby         21.2       0           64\n",
       "18  2024-12-26    18  Patchy rain nearby         20.8       1           79\n",
       "19  2024-12-26    19      Partly Cloudy          20.5       0            0\n",
       "20  2024-12-26    20      Partly Cloudy          19.9       0            0\n",
       "21  2024-12-26    21      Partly Cloudy          19.4       0            0\n",
       "22  2024-12-26    22  Patchy rain nearby         19.2       1           86\n",
       "23  2024-12-26    23  Patchy rain nearby         19.3       1           82"
      ]
     },
     "execution_count": 31,
     "metadata": {},
     "output_type": "execute_result"
    }
   ],
   "source": [
    "col = ['Fecha','Hora','Condicion','Temperatura','Lluvia','prob_lluvia']\n",
    "df = pd.DataFrame(datos,columns=col)\n",
    "df = df.sort_values(by = 'Hora',ascending = True)\n",
    "df"
   ]
  },
  {
   "cell_type": "code",
   "execution_count": 33,
   "metadata": {},
   "outputs": [],
   "source": [
    "# df[df['Lluvia']==1]\n",
    "\n",
    "df_rain =  df[(df['Lluvia']==1) & (df['Hora']>6) & (df['Hora']< 22)]\n",
    "df_rain = df_rain[['Hora','Condicion']]\n",
    "df_rain.set_index('Hora', inplace = True)"
   ]
  },
  {
   "cell_type": "code",
   "execution_count": 35,
   "metadata": {},
   "outputs": [
    {
     "data": {
      "text/html": [
       "<div>\n",
       "<style scoped>\n",
       "    .dataframe tbody tr th:only-of-type {\n",
       "        vertical-align: middle;\n",
       "    }\n",
       "\n",
       "    .dataframe tbody tr th {\n",
       "        vertical-align: top;\n",
       "    }\n",
       "\n",
       "    .dataframe thead th {\n",
       "        text-align: right;\n",
       "    }\n",
       "</style>\n",
       "<table border=\"1\" class=\"dataframe\">\n",
       "  <thead>\n",
       "    <tr style=\"text-align: right;\">\n",
       "      <th></th>\n",
       "      <th>Condicion</th>\n",
       "    </tr>\n",
       "    <tr>\n",
       "      <th>Hora</th>\n",
       "      <th></th>\n",
       "    </tr>\n",
       "  </thead>\n",
       "  <tbody>\n",
       "    <tr>\n",
       "      <th>7</th>\n",
       "      <td>Patchy rain nearby</td>\n",
       "    </tr>\n",
       "    <tr>\n",
       "      <th>8</th>\n",
       "      <td>Patchy rain nearby</td>\n",
       "    </tr>\n",
       "    <tr>\n",
       "      <th>9</th>\n",
       "      <td>Patchy rain nearby</td>\n",
       "    </tr>\n",
       "    <tr>\n",
       "      <th>10</th>\n",
       "      <td>Patchy rain nearby</td>\n",
       "    </tr>\n",
       "    <tr>\n",
       "      <th>11</th>\n",
       "      <td>Patchy rain nearby</td>\n",
       "    </tr>\n",
       "    <tr>\n",
       "      <th>13</th>\n",
       "      <td>Patchy rain nearby</td>\n",
       "    </tr>\n",
       "    <tr>\n",
       "      <th>14</th>\n",
       "      <td>Patchy rain nearby</td>\n",
       "    </tr>\n",
       "    <tr>\n",
       "      <th>15</th>\n",
       "      <td>Patchy rain nearby</td>\n",
       "    </tr>\n",
       "    <tr>\n",
       "      <th>16</th>\n",
       "      <td>Patchy rain nearby</td>\n",
       "    </tr>\n",
       "    <tr>\n",
       "      <th>18</th>\n",
       "      <td>Patchy rain nearby</td>\n",
       "    </tr>\n",
       "  </tbody>\n",
       "</table>\n",
       "</div>"
      ],
      "text/plain": [
       "               Condicion\n",
       "Hora                    \n",
       "7     Patchy rain nearby\n",
       "8     Patchy rain nearby\n",
       "9     Patchy rain nearby\n",
       "10    Patchy rain nearby\n",
       "11    Patchy rain nearby\n",
       "13    Patchy rain nearby\n",
       "14    Patchy rain nearby\n",
       "15    Patchy rain nearby\n",
       "16    Patchy rain nearby\n",
       "18    Patchy rain nearby"
      ]
     },
     "execution_count": 35,
     "metadata": {},
     "output_type": "execute_result"
    }
   ],
   "source": [
    "df_rain"
   ]
  },
  {
   "cell_type": "code",
   "execution_count": 37,
   "metadata": {},
   "outputs": [],
   "source": [
    "strMensaje = '\\nHola! \\n\\n\\n El pronostico del tiempo hoy '+ df['Fecha'][0] +' en ' + query +' es : \\n\\n\\n ' + str(df_rain)"
   ]
  },
  {
   "cell_type": "code",
   "execution_count": 39,
   "metadata": {},
   "outputs": [
    {
     "name": "stdout",
     "output_type": "stream",
     "text": [
      "\n",
      "Hola! \n",
      "\n",
      "\n",
      " El pronostico del tiempo hoy 2024-12-26 en Montevideo es : \n",
      "\n",
      "\n",
      "                Condicion\n",
      "Hora                    \n",
      "7     Patchy rain nearby\n",
      "8     Patchy rain nearby\n",
      "9     Patchy rain nearby\n",
      "10    Patchy rain nearby\n",
      "11    Patchy rain nearby\n",
      "13    Patchy rain nearby\n",
      "14    Patchy rain nearby\n",
      "15    Patchy rain nearby\n",
      "16    Patchy rain nearby\n",
      "18    Patchy rain nearby\n"
     ]
    }
   ],
   "source": [
    "print(strMensaje)"
   ]
  },
  {
   "cell_type": "code",
   "execution_count": 40,
   "metadata": {},
   "outputs": [
    {
     "data": {
      "text/plain": [
       "'+1 762 255 9233'"
      ]
     },
     "execution_count": 40,
     "metadata": {},
     "output_type": "execute_result"
    }
   ],
   "source": [
    "PHONE_NUMBER"
   ]
  },
  {
   "cell_type": "code",
   "execution_count": 42,
   "metadata": {},
   "outputs": [
    {
     "name": "stdout",
     "output_type": "stream",
     "text": [
      "Mensaje Enviado SMba28b65c71a64925e21e0911fd8a04e4\n"
     ]
    }
   ],
   "source": [
    "# MENSAJE CON TWILIO\n",
    "\n",
    "time.sleep(2)\n",
    "account_sid = TWILIO_ACCOUNT_SID \n",
    "auth_token = TWILIO_AUTH_TOKEN\n",
    "\n",
    "client = Client(account_sid, auth_token)\n",
    "\n",
    "message = client.messages \\\n",
    "                .create(\n",
    "                     body='\\nHola! \\n\\n\\n El pronostico de lluvia hoy '+ df['Fecha'][0] +' en ' + query +' es : \\n\\n\\n ' + str(df_rain),\n",
    "                     from_=PHONE_NUMBER,\n",
    "                     to='+'\n",
    "                 )\n",
    "\n",
    "print('Mensaje Enviado ' + message.sid)"
   ]
  },
  {
   "cell_type": "code",
   "execution_count": 48,
   "metadata": {},
   "outputs": [
    {
     "name": "stdout",
     "output_type": "stream",
     "text": [
      "SM013b88eceb09949daf03917a79ae233c\n"
     ]
    }
   ],
   "source": [
    "from twilio.rest import Client\n",
    "\n",
    "account_sid = TWILIO_ACCOUNT_SID \n",
    "auth_token = TWILIO_AUTH_TOKEN\n",
    "client = Client(account_sid, auth_token)\n",
    "\n",
    "message = client.messages.create(\n",
    "  from_='whatsapp:+',\n",
    "  body='CHUPALA',\n",
    "  to='whatsapp:+'\n",
    ")\n",
    "\n",
    "print(message.sid)"
   ]
  },
  {
   "cell_type": "code",
   "execution_count": null,
   "metadata": {},
   "outputs": [],
   "source": []
  }
 ],
 "metadata": {
  "kernelspec": {
   "display_name": "Python 3 (ipykernel)",
   "language": "python",
   "name": "python3"
  },
  "language_info": {
   "codemirror_mode": {
    "name": "ipython",
    "version": 3
   },
   "file_extension": ".py",
   "mimetype": "text/x-python",
   "name": "python",
   "nbconvert_exporter": "python",
   "pygments_lexer": "ipython3",
   "version": "3.8.19"
  }
 },
 "nbformat": 4,
 "nbformat_minor": 4
}
