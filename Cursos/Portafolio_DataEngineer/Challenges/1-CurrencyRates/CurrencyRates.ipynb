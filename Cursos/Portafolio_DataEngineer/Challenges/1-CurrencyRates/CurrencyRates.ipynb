{
 "cells": [
  {
   "cell_type": "markdown",
   "id": "8a225994-2e9f-49ab-97b0-7110d69676ff",
   "metadata": {},
   "source": [
    "### Config Structure\n",
    "\n",
    "- CURRENCYAPI_AUTH_TOKEN = ''\n",
    "- TWILIO_ACCOUNT_SID = ''\n",
    "- TWILIO_AUTH_TOKEN = ''\n",
    "- PHONE_NUMBER = ''"
   ]
  },
  {
   "cell_type": "code",
   "execution_count": 1,
   "id": "3704960a-8faf-4cb7-9e58-d8de3bbbc174",
   "metadata": {},
   "outputs": [],
   "source": [
    "import os\n",
    "from twilio.rest import Client\n",
    "from _config import *\n",
    "import time\n",
    "\n",
    "from requests import Request, Session\n",
    "from requests.exceptions import ConnectionError, Timeout, TooManyRedirects\n",
    "import json\n",
    "\n",
    "import pandas as pd\n",
    "import requests\n",
    "from bs4  import BeautifulSoup\n",
    "from tqdm import tqdm\n",
    "\n",
    "from datetime import datetime"
   ]
  },
  {
   "cell_type": "code",
   "execution_count": 2,
   "id": "27f8fc5e-ce37-42c3-909b-1357ea3fff8c",
   "metadata": {},
   "outputs": [],
   "source": [
    "currenciesList = ['UYU', 'BTC', 'ETH']"
   ]
  },
  {
   "cell_type": "code",
   "execution_count": 3,
   "id": "42024f8d-afea-40ad-a4b3-1cee32804810",
   "metadata": {},
   "outputs": [],
   "source": [
    "def generate_url():\n",
    "    api_key = CURRENCYAPI_AUTH_TOKEN\n",
    "    base_currency = 'USD'\n",
    "    currenciesStr = ','.join(currenciesList)\n",
    "    \n",
    "    url_currencies = \"https://api.currencyapi.com/v3/latest?apikey={0}&base_currency={1}&currencies={2}\".format(api_key,base_currency,currenciesStr)\n",
    "\n",
    "    return url_currencies\n",
    "\n",
    "def get_Response_Currencies():\n",
    "    url_currencies = generate_url()\n",
    "    \n",
    "    response = requests.get(url_currencies).json()    \n",
    "    return response\n",
    "\n",
    "def convertResult(res):\n",
    "    datos = []\n",
    "\n",
    "    for elem in currenciesList:\n",
    "        code = res['data'][elem]['code']\n",
    "        value = res['data'][elem]['value'] if(code == \"UYU\") else 1/(res['data'][elem]['value'])\n",
    "        \n",
    "        datos.append((value, code))\n",
    "\n",
    "    return datos"
   ]
  },
  {
   "cell_type": "code",
   "execution_count": 4,
   "id": "83029e5a-e185-403f-8eee-589b3b497463",
   "metadata": {},
   "outputs": [],
   "source": [
    "def enviar_SMS(mensaje):\n",
    "    time.sleep(2)\n",
    "    account_sid = TWILIO_ACCOUNT_SID \n",
    "    auth_token = TWILIO_AUTH_TOKEN\n",
    "\n",
    "    client = Client(account_sid, auth_token)\n",
    "\n",
    "    message = client.messages \\\n",
    "                    .create(\n",
    "                         body = mensaje,\n",
    "                         from_ = PHONE_NUMBER,\n",
    "                         to = '+598 95 351 882'\n",
    "                     )\n",
    "\n",
    "    print('Mensaje Enviado ' + message.sid)\n",
    "\n",
    "def enviarWhatsapp(mensaje):\n",
    "    account_sid = TWILIO_ACCOUNT_SID\n",
    "    auth_token = TWILIO_AUTH_TOKEN\n",
    "    client = Client(account_sid, auth_token)\n",
    "\n",
    "    message = client.messages.create(\n",
    "      from_ ='whatsapp:+14155238886',\n",
    "      body = mensaje,\n",
    "      to = 'whatsapp:+59895351882'\n",
    "    )\n",
    "\n",
    "    print(message.sid)"
   ]
  },
  {
   "cell_type": "code",
   "execution_count": 5,
   "id": "5d4b5287-1741-4216-b114-10ff1ef79953",
   "metadata": {},
   "outputs": [
    {
     "data": {
      "text/html": [
       "<div>\n",
       "<style scoped>\n",
       "    .dataframe tbody tr th:only-of-type {\n",
       "        vertical-align: middle;\n",
       "    }\n",
       "\n",
       "    .dataframe tbody tr th {\n",
       "        vertical-align: top;\n",
       "    }\n",
       "\n",
       "    .dataframe thead th {\n",
       "        text-align: right;\n",
       "    }\n",
       "</style>\n",
       "<table border=\"1\" class=\"dataframe\">\n",
       "  <thead>\n",
       "    <tr style=\"text-align: right;\">\n",
       "      <th></th>\n",
       "      <th>Value</th>\n",
       "      <th>Code</th>\n",
       "    </tr>\n",
       "  </thead>\n",
       "  <tbody>\n",
       "    <tr>\n",
       "      <th>0</th>\n",
       "      <td>43.922856</td>\n",
       "      <td>UYU</td>\n",
       "    </tr>\n",
       "    <tr>\n",
       "      <th>1</th>\n",
       "      <td>93682.080492</td>\n",
       "      <td>BTC</td>\n",
       "    </tr>\n",
       "    <tr>\n",
       "      <th>2</th>\n",
       "      <td>3352.454617</td>\n",
       "      <td>ETH</td>\n",
       "    </tr>\n",
       "  </tbody>\n",
       "</table>\n",
       "</div>"
      ],
      "text/plain": [
       "          Value Code\n",
       "0     43.922856  UYU\n",
       "1  93682.080492  BTC\n",
       "2   3352.454617  ETH"
      ]
     },
     "execution_count": 5,
     "metadata": {},
     "output_type": "execute_result"
    }
   ],
   "source": [
    "res = get_Response_Currencies()\n",
    "dataMonedas = convertResult(res)\n",
    "\n",
    "cols = [\"Value\", \"Code\"]\n",
    "dfDatos = pd.DataFrame(dataMonedas, columns=cols)\n",
    "dfDatos"
   ]
  },
  {
   "cell_type": "code",
   "execution_count": 6,
   "id": "d030bfbe-536f-483d-bd5d-5e00a59553af",
   "metadata": {},
   "outputs": [
    {
     "name": "stdout",
     "output_type": "stream",
     "text": [
      "\n",
      "Hola! \n",
      "\n",
      "\n",
      " Las cotizaciones del día de hoy en Uruguay son: \n",
      "\n",
      "\n",
      "           Value Code\n",
      "0     43.922856  UYU\n",
      "1  93682.080492  BTC\n",
      "2   3352.454617  ETH\n"
     ]
    }
   ],
   "source": [
    "strMensaje = '\\nHola! \\n\\n\\n Las cotizaciones del día de hoy en Uruguay son: \\n\\n\\n {0}'.format(dfDatos)\n",
    "\n",
    "print(strMensaje)"
   ]
  },
  {
   "cell_type": "code",
   "execution_count": 8,
   "id": "925523dc-305e-40a3-9ec9-47f763b00858",
   "metadata": {},
   "outputs": [
    {
     "name": "stdout",
     "output_type": "stream",
     "text": [
      "SMc843936c690e6149d5681e7a83cdc156\n"
     ]
    }
   ],
   "source": [
    "enviarWhatsapp(strMensaje)"
   ]
  },
  {
   "cell_type": "code",
   "execution_count": null,
   "id": "3b314228-936c-4c81-832d-21d6d9eee0f6",
   "metadata": {},
   "outputs": [],
   "source": []
  }
 ],
 "metadata": {
  "kernelspec": {
   "display_name": "Python 3 (ipykernel)",
   "language": "python",
   "name": "python3"
  },
  "language_info": {
   "codemirror_mode": {
    "name": "ipython",
    "version": 3
   },
   "file_extension": ".py",
   "mimetype": "text/x-python",
   "name": "python",
   "nbconvert_exporter": "python",
   "pygments_lexer": "ipython3",
   "version": "3.8.19"
  }
 },
 "nbformat": 4,
 "nbformat_minor": 5
}
