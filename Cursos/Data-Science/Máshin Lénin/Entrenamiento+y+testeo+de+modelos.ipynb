{
 "cells": [
  {
   "cell_type": "code",
   "execution_count": 1,
   "metadata": {},
   "outputs": [],
   "source": [
    "import warnings\n",
    "warnings.filterwarnings('ignore')"
   ]
  },
  {
   "cell_type": "markdown",
   "metadata": {},
   "source": [
    "## train y test split"
   ]
  },
  {
   "cell_type": "code",
   "execution_count": 2,
   "metadata": {},
   "outputs": [],
   "source": [
    "# Separa en DataSet en un set de entrenamiento y un set de testing\n",
    "from sklearn.model_selection import train_test_split"
   ]
  },
  {
   "cell_type": "code",
   "execution_count": 5,
   "metadata": {},
   "outputs": [],
   "source": [
    "import numpy as np\n",
    "\n",
    "X = 2 * np.random.rand(100, 1)\n",
    "y = 4 + 3 * X + np.random.randn(100, 1)"
   ]
  },
  {
   "cell_type": "code",
   "execution_count": 6,
   "metadata": {},
   "outputs": [],
   "source": [
    "# Separamos los datos en train y test\n",
    "# Por default, se separa un 75% para entrenar y un 25% para testear\n",
    "X_train, X_test, y_train, y_test = train_test_split(X,y) # test_size=0.5"
   ]
  },
  {
   "cell_type": "code",
   "execution_count": 8,
   "metadata": {},
   "outputs": [
    {
     "data": {
      "text/plain": [
       "(75, 1)"
      ]
     },
     "execution_count": 8,
     "metadata": {},
     "output_type": "execute_result"
    }
   ],
   "source": [
    "# Tamaño del set\n",
    "X_train.shape"
   ]
  },
  {
   "cell_type": "markdown",
   "metadata": {},
   "source": [
    "## Eligiendo un modelo"
   ]
  },
  {
   "cell_type": "code",
   "execution_count": null,
   "metadata": {},
   "outputs": [],
   "source": []
  },
  {
   "cell_type": "code",
   "execution_count": 9,
   "metadata": {},
   "outputs": [
    {
     "data": {
      "text/plain": [
       "LinearRegression()"
      ]
     },
     "execution_count": 9,
     "metadata": {},
     "output_type": "execute_result"
    }
   ],
   "source": [
    "# Desde scikit learn\n",
    "# Regresión Lineal\n",
    "from sklearn.linear_model import LinearRegression \n",
    "lin_reg = LinearRegression()\n",
    "lin_reg.fit(X_train, y_train)\n"
   ]
  },
  {
   "cell_type": "code",
   "execution_count": 10,
   "metadata": {},
   "outputs": [
    {
     "data": {
      "text/plain": [
       "SGDRegressor()"
      ]
     },
     "execution_count": 10,
     "metadata": {},
     "output_type": "execute_result"
    }
   ],
   "source": [
    "# Gradiente descendiente\n",
    "from sklearn.linear_model import SGDRegressor \n",
    "sgd_reg = SGDRegressor()\n",
    "sgd_reg.fit(X_train, y_train)"
   ]
  },
  {
   "cell_type": "code",
   "execution_count": 11,
   "metadata": {},
   "outputs": [
    {
     "data": {
      "text/plain": [
       "DecisionTreeRegressor()"
      ]
     },
     "execution_count": 11,
     "metadata": {},
     "output_type": "execute_result"
    }
   ],
   "source": [
    "from sklearn.tree import DecisionTreeRegressor \n",
    "tree_reg = DecisionTreeRegressor()\n",
    "tree_reg.fit(X_train, y_train)"
   ]
  },
  {
   "cell_type": "code",
   "execution_count": 12,
   "metadata": {},
   "outputs": [],
   "source": [
    "# Calculamos el rmse en el conjunto de entrenamiento \n",
    "lin_reg_predict = lin_reg.predict(X_train)\n",
    "sgd_reg_predict = sgd_reg.predict(X_train)\n",
    "tree_reg_predict = tree_reg.predict(X_train)"
   ]
  },
  {
   "cell_type": "code",
   "execution_count": 14,
   "metadata": {},
   "outputs": [],
   "source": [
    "from sklearn.metrics import mean_squared_error\n",
    "lin_mse = mean_squared_error(y_train, lin_reg_predict)\n",
    "sgd_mse = mean_squared_error(y_train, sgd_reg_predict)\n",
    "tree_mse = mean_squared_error(y_train, tree_reg_predict)"
   ]
  },
  {
   "cell_type": "code",
   "execution_count": 15,
   "metadata": {},
   "outputs": [
    {
     "name": "stdout",
     "output_type": "stream",
     "text": [
      "RMSE Entrenamiento:  1.034159499065231 1.0604620782048804 0.0\n"
     ]
    }
   ],
   "source": [
    "print(\"RMSE Entrenamiento: \", np.sqrt(lin_mse), np.sqrt(sgd_mse), np.sqrt(tree_mse))"
   ]
  },
  {
   "cell_type": "code",
   "execution_count": 16,
   "metadata": {},
   "outputs": [],
   "source": [
    "# Calculamos el rmse en el conjunto de test \n",
    "lin_reg_predict = lin_reg.predict(X_test)\n",
    "sgd_reg_predict = sgd_reg.predict(X_test)\n",
    "tree_reg_predict = tree_reg.predict(X_test)"
   ]
  },
  {
   "cell_type": "code",
   "execution_count": 17,
   "metadata": {},
   "outputs": [],
   "source": [
    "lin_mse = mean_squared_error(y_test, lin_reg_predict)\n",
    "sgd_mse = mean_squared_error(y_test, sgd_reg_predict)\n",
    "tree_mse = mean_squared_error(y_test, tree_reg_predict)"
   ]
  },
  {
   "cell_type": "code",
   "execution_count": 18,
   "metadata": {},
   "outputs": [
    {
     "name": "stdout",
     "output_type": "stream",
     "text": [
      "RMSE Test:  1.0071702221435936 1.0209165879177269 0.9842279276354351\n"
     ]
    }
   ],
   "source": [
    "print(\"RMSE Test: \", np.sqrt(lin_mse), np.sqrt(sgd_mse), np.sqrt(tree_mse))"
   ]
  },
  {
   "cell_type": "markdown",
   "metadata": {},
   "source": [
    "## Cross Validation"
   ]
  },
  {
   "cell_type": "code",
   "execution_count": 19,
   "metadata": {},
   "outputs": [],
   "source": [
    "from sklearn.model_selection import cross_val_score\n",
    "# Indicamos que queremos hacer cross validation con 10 cortes. \n",
    "# Es decir vamos a iterar 10 veces y obtener los scores de cada iteración\n",
    "scores = cross_val_score(tree_reg, X_train, y_train,\n",
    "                             scoring=\"neg_mean_squared_error\", cv=10)"
   ]
  },
  {
   "cell_type": "code",
   "execution_count": 20,
   "metadata": {},
   "outputs": [],
   "source": [
    "rmse_scores = np.sqrt(-scores)"
   ]
  },
  {
   "cell_type": "code",
   "execution_count": 21,
   "metadata": {},
   "outputs": [
    {
     "name": "stdout",
     "output_type": "stream",
     "text": [
      "Scores:  [1.47750085 1.15524289 1.54587769 1.02659546 1.38524952 1.23765475\n",
      " 1.1084716  1.29621445 1.25056447 1.57944124]\n",
      "Promedio:  1.3062812900214367\n",
      "Desvío estandar:  0.17766700800590873\n"
     ]
    }
   ],
   "source": [
    "print(\"Scores: \", rmse_scores)\n",
    "print(\"Promedio: \", rmse_scores.mean())\n",
    "print(\"Desvío estandar: \", rmse_scores.std())"
   ]
  },
  {
   "cell_type": "code",
   "execution_count": 22,
   "metadata": {},
   "outputs": [],
   "source": [
    "scores = cross_val_score(lin_reg, X_train, y_train,\n",
    "                             scoring=\"neg_mean_squared_error\", cv=10)\n",
    "rmse_scores = np.sqrt(-scores)\n"
   ]
  },
  {
   "cell_type": "code",
   "execution_count": 23,
   "metadata": {},
   "outputs": [
    {
     "name": "stdout",
     "output_type": "stream",
     "text": [
      "Scores:  [0.90626351 0.94773761 1.02080725 1.10501338 0.67361137 1.30726316\n",
      " 0.90960744 1.26872849 0.79393373 1.50613855]\n",
      "Promedio:  1.0439104488011495\n",
      "Desvío estandar:  0.2415911630923036\n"
     ]
    }
   ],
   "source": [
    "print(\"Scores: \", rmse_scores)\n",
    "print(\"Promedio: \", rmse_scores.mean())\n",
    "print(\"Desvío estandar: \", rmse_scores.std())"
   ]
  }
 ],
 "metadata": {
  "kernelspec": {
   "display_name": "Python 3",
   "language": "python",
   "name": "python3"
  },
  "language_info": {
   "codemirror_mode": {
    "name": "ipython",
    "version": 3
   },
   "file_extension": ".py",
   "mimetype": "text/x-python",
   "name": "python",
   "nbconvert_exporter": "python",
   "pygments_lexer": "ipython3",
   "version": "3.8.5"
  }
 },
 "nbformat": 4,
 "nbformat_minor": 4
}
