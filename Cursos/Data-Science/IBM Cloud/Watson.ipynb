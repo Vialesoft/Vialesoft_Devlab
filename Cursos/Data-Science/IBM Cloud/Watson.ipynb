{
 "cells": [
  {
   "cell_type": "code",
   "execution_count": 1,
   "metadata": {
    "collapsed": true,
    "jupyter": {
     "outputs_hidden": true
    }
   },
   "outputs": [
    {
     "name": "stdout",
     "output_type": "stream",
     "text": [
      "Collecting watson-developer-cloud\n",
      "  Downloading watson-developer-cloud-2.10.1.tar.gz (248 kB)\n",
      "Requirement already satisfied, skipping upgrade: requests<3.0,>=2.0 in c:\\users\\pc\\anaconda3\\lib\\site-packages (from watson-developer-cloud) (2.24.0)\n",
      "Requirement already satisfied, skipping upgrade: python_dateutil>=2.5.3 in c:\\users\\pc\\anaconda3\\lib\\site-packages (from watson-developer-cloud) (2.8.1)\n",
      "Collecting websocket-client==0.48.0\n",
      "  Downloading websocket_client-0.48.0-py2.py3-none-any.whl (198 kB)\n",
      "Requirement already satisfied, skipping upgrade: chardet<4,>=3.0.2 in c:\\users\\pc\\anaconda3\\lib\\site-packages (from requests<3.0,>=2.0->watson-developer-cloud) (3.0.4)\n",
      "Requirement already satisfied, skipping upgrade: certifi>=2017.4.17 in c:\\users\\pc\\anaconda3\\lib\\site-packages (from requests<3.0,>=2.0->watson-developer-cloud) (2020.6.20)\n",
      "Requirement already satisfied, skipping upgrade: idna<3,>=2.5 in c:\\users\\pc\\anaconda3\\lib\\site-packages (from requests<3.0,>=2.0->watson-developer-cloud) (2.10)\n",
      "Requirement already satisfied, skipping upgrade: urllib3!=1.25.0,!=1.25.1,<1.26,>=1.21.1 in c:\\users\\pc\\anaconda3\\lib\\site-packages (from requests<3.0,>=2.0->watson-developer-cloud) (1.25.11)\n",
      "Requirement already satisfied, skipping upgrade: six>=1.5 in c:\\users\\pc\\anaconda3\\lib\\site-packages (from python_dateutil>=2.5.3->watson-developer-cloud) (1.15.0)\n",
      "Building wheels for collected packages: watson-developer-cloud\n",
      "  Building wheel for watson-developer-cloud (setup.py): started\n",
      "  Building wheel for watson-developer-cloud (setup.py): finished with status 'done'\n",
      "  Created wheel for watson-developer-cloud: filename=watson_developer_cloud-2.10.1-py3-none-any.whl size=252818 sha256=5b9aa1132e51a09ca49b43137741164364bc90e8bc0e275e40b9c76b32049a70\n",
      "  Stored in directory: c:\\users\\pc\\appdata\\local\\pip\\cache\\wheels\\c9\\51\\7e\\561496a29874113952b76927e43f632085e3580b39c50cbc4e\n",
      "Successfully built watson-developer-cloud\n",
      "Installing collected packages: websocket-client, watson-developer-cloud\n",
      "Successfully installed watson-developer-cloud-2.10.1 websocket-client-0.48.0\n"
     ]
    }
   ],
   "source": [
    "!pip install --upgrade watson-developer-cloud"
   ]
  },
  {
   "cell_type": "code",
   "execution_count": 2,
   "metadata": {},
   "outputs": [],
   "source": [
    "import warnings\n",
    "warnings.filterwarnings(\"ignore\")\n",
    "\n",
    "import json\n",
    "import numpy as np\n",
    "import pandas as pd\n",
    "from watson_developer_cloud import NaturalLanguageUnderstandingV1\n",
    "from watson_developer_cloud.natural_language_understanding_v1 import Features, EmotionOptions, SentimentOptions\n",
    "\n",
    "# Necesitan tener acceso a la API: \n",
    "# https://console.bluemix.net/apidocs/natural-language-understanding\n",
    "# Seguir estos pasos para crear cuenta y obtener las credenciales \n",
    "# https://console.bluemix.net/docs/services/natural-language-understanding/getting-started.html#getting-started-tutorial\n",
    "\n"
   ]
  },
  {
   "cell_type": "code",
   "execution_count": 11,
   "metadata": {},
   "outputs": [],
   "source": [
    "# Esto es lo que aparece en el video. Pero la versión más actualizada\n",
    "# es la que figura en la celda de abajo\n",
    "#natural_language_understanding = NaturalLanguageUnderstandingV1(\n",
    "#  username='79f8dc7b-a837-4f52-adc0-d2ab0fe602b7',\n",
    "#  password='sptSuwEoWTpP',\n",
    "#  version='2018-03-16')\n"
   ]
  },
  {
   "cell_type": "code",
   "execution_count": 3,
   "metadata": {
    "collapsed": true,
    "jupyter": {
     "outputs_hidden": true
    }
   },
   "outputs": [
    {
     "name": "stderr",
     "output_type": "stream",
     "text": [
      "<ipython-input-3-6ae2c0e5812a>:1: DeprecationWarning: watson-developer-cloud moved to ibm-watson. To get updates, use the new package.\n",
      "  natural_language_understanding = NaturalLanguageUnderstandingV1(\n"
     ]
    },
    {
     "ename": "TypeError",
     "evalue": "__init__() got an unexpected keyword argument 'iam_api_key'",
     "output_type": "error",
     "traceback": [
      "\u001b[1;31m---------------------------------------------------------------------------\u001b[0m",
      "\u001b[1;31mTypeError\u001b[0m                                 Traceback (most recent call last)",
      "\u001b[1;32m<ipython-input-3-6ae2c0e5812a>\u001b[0m in \u001b[0;36m<module>\u001b[1;34m\u001b[0m\n\u001b[1;32m----> 1\u001b[1;33m natural_language_understanding = NaturalLanguageUnderstandingV1(\n\u001b[0m\u001b[0;32m      2\u001b[0m     \u001b[0mversion\u001b[0m\u001b[1;33m=\u001b[0m\u001b[1;34m'2018-11-16'\u001b[0m\u001b[1;33m,\u001b[0m\u001b[1;33m\u001b[0m\u001b[1;33m\u001b[0m\u001b[0m\n\u001b[0;32m      3\u001b[0m     \u001b[0miam_api_key\u001b[0m\u001b[1;33m=\u001b[0m\u001b[1;34m'-b4nsRMon0Xj1XzyeHHBiwFghrxT_D1PHwvlEfHEctdG'\u001b[0m\u001b[1;33m,\u001b[0m\u001b[1;33m\u001b[0m\u001b[1;33m\u001b[0m\u001b[0m\n\u001b[0;32m      4\u001b[0m     url='https://gateway.watsonplatform.net/natural-language-understanding/api')\n",
      "\u001b[1;32m~\\anaconda3\\lib\\site-packages\\watson_developer_cloud\\utils.py\u001b[0m in \u001b[0;36mdeprecated_func\u001b[1;34m(*args, **kwargs)\u001b[0m\n\u001b[0;32m      8\u001b[0m                           \u001b[0mcategory\u001b[0m\u001b[1;33m=\u001b[0m\u001b[0mDeprecationWarning\u001b[0m\u001b[1;33m,\u001b[0m\u001b[1;33m\u001b[0m\u001b[1;33m\u001b[0m\u001b[0m\n\u001b[0;32m      9\u001b[0m                           stacklevel=2)\n\u001b[1;32m---> 10\u001b[1;33m             \u001b[1;32mreturn\u001b[0m \u001b[0mfunc\u001b[0m\u001b[1;33m(\u001b[0m\u001b[1;33m*\u001b[0m\u001b[0margs\u001b[0m\u001b[1;33m,\u001b[0m \u001b[1;33m**\u001b[0m\u001b[0mkwargs\u001b[0m\u001b[1;33m)\u001b[0m\u001b[1;33m\u001b[0m\u001b[1;33m\u001b[0m\u001b[0m\n\u001b[0m\u001b[0;32m     11\u001b[0m \u001b[1;33m\u001b[0m\u001b[0m\n\u001b[0;32m     12\u001b[0m         \u001b[1;32mreturn\u001b[0m \u001b[0mdeprecated_func\u001b[0m\u001b[1;33m\u001b[0m\u001b[1;33m\u001b[0m\u001b[0m\n",
      "\u001b[1;31mTypeError\u001b[0m: __init__() got an unexpected keyword argument 'iam_api_key'"
     ]
    }
   ],
   "source": [
    "natural_language_understanding = NaturalLanguageUnderstandingV1(\n",
    "    version='2018-11-16',\n",
    "    iam_api_key='-b4nsRMon0Xj1XzyeHHBiwFghrxT_D1PHwvlEfHEctdG',\n",
    "    url='https://gateway.watsonplatform.net/natural-language-understanding/api')"
   ]
  },
  {
   "cell_type": "code",
   "execution_count": 2,
   "metadata": {},
   "outputs": [],
   "source": [
    "def analisis_watson(text):\n",
    "    text = text.decode(\"utf-8\")\n",
    "    print(text)\n",
    "    response = natural_language_understanding.analyze(\n",
    "        text=text,features=Features(emotion=EmotionOptions(), sentiment=SentimentOptions()))\n",
    "    return response"
   ]
  },
  {
   "cell_type": "code",
   "execution_count": 3,
   "metadata": {},
   "outputs": [],
   "source": [
    "\n",
    "import sklearn\n",
    "from sklearn.datasets import load_files\n",
    "moviedir = r'./dataset/movie_reviews' \n",
    "movie_reviews = load_files(moviedir, shuffle=True)"
   ]
  },
  {
   "cell_type": "code",
   "execution_count": 4,
   "metadata": {
    "scrolled": true
   },
   "outputs": [
    {
     "name": "stdout",
     "output_type": "stream",
     "text": [
      "kolya is one of the richest films i've seen in some time . \n",
      "zdenek sverak plays a confirmed old bachelor ( who's likely to remain so ) , who finds his life as a czech cellist increasingly impacted by the five-year old boy that he's taking care of . \n",
      "though it ends rather abruptly-- and i'm whining , 'cause i wanted to spend more time with these characters-- the acting , writing , and production values are as high as , if not higher than , comparable american dramas . \n",
      "this father-and-son delight-- sverak also wrote the script , while his son , jan , directed-- won a golden globe for best foreign language film and , a couple days after i saw it , walked away an oscar . \n",
      "in czech and russian , with english subtitles . \n",
      "\n",
      "{'usage': {'text_units': 1, 'text_characters': 727, 'features': 2}, 'sentiment': {'document': {'score': 0.428622, 'label': 'positive'}}, 'language': 'en', 'emotion': {'document': {'emotion': {'sadness': 0.174112, 'joy': 0.621866, 'fear': 0.453793, 'disgust': 0.064273, 'anger': 0.076822}}}}\n",
      "1\n"
     ]
    }
   ],
   "source": [
    "print(analisis_watson(movie_reviews.data[4]))\n",
    "print(movie_reviews.target[4])\n"
   ]
  },
  {
   "cell_type": "code",
   "execution_count": 5,
   "metadata": {},
   "outputs": [
    {
     "name": "stdout",
     "output_type": "stream",
     "text": [
      "I'm feeling terrible this morning. It's raining.\n",
      "{'usage': {'text_units': 1, 'text_characters': 48, 'features': 2}, 'sentiment': {'document': {'score': -0.964055, 'label': 'negative'}}, 'language': 'en', 'emotion': {'document': {'emotion': {'sadness': 0.530404, 'joy': 0.013504, 'fear': 0.387294, 'disgust': 0.115647, 'anger': 0.302067}}}}\n"
     ]
    }
   ],
   "source": [
    "# Ejemplo con un texto triste \n",
    "print(analisis_watson(b\"I'm feeling terrible this morning. It's raining.\"))"
   ]
  },
  {
   "cell_type": "code",
   "execution_count": 6,
   "metadata": {},
   "outputs": [
    {
     "name": "stdout",
     "output_type": "stream",
     "text": [
      "Life is a miracle. Rainbows everywhere!\n",
      "{'usage': {'text_units': 1, 'text_characters': 39, 'features': 2}, 'sentiment': {'document': {'score': 0.860088, 'label': 'positive'}}, 'language': 'en', 'emotion': {'document': {'emotion': {'sadness': 0.052147, 'joy': 0.85235, 'fear': 0.023147, 'disgust': 0.029171, 'anger': 0.005688}}}}\n"
     ]
    }
   ],
   "source": [
    "# Ejemplo con un texto feliz \n",
    "print(analisis_watson(b\"Life is a miracle. Rainbows everywhere!\"))"
   ]
  },
  {
   "cell_type": "code",
   "execution_count": 7,
   "metadata": {},
   "outputs": [
    {
     "name": "stdout",
     "output_type": "stream",
     "text": [
      "And suddenly... the mist\n",
      "{'usage': {'text_units': 1, 'text_characters': 24, 'features': 2}, 'sentiment': {'document': {'score': 0, 'label': 'neutral'}}, 'language': 'en', 'emotion': {'document': {'emotion': {'sadness': 0.137537, 'joy': 0.016811, 'fear': 0.863259, 'disgust': 0.093765, 'anger': 0.094129}}}}\n"
     ]
    }
   ],
   "source": [
    "# Ejemplo con un texto de miedo \n",
    "print(analisis_watson(b\"And suddenly... the mist\"))"
   ]
  }
 ],
 "metadata": {
  "kernelspec": {
   "display_name": "Python 3",
   "language": "python",
   "name": "python3"
  },
  "language_info": {
   "codemirror_mode": {
    "name": "ipython",
    "version": 3
   },
   "file_extension": ".py",
   "mimetype": "text/x-python",
   "name": "python",
   "nbconvert_exporter": "python",
   "pygments_lexer": "ipython3",
   "version": "3.8.5"
  }
 },
 "nbformat": 4,
 "nbformat_minor": 4
}
