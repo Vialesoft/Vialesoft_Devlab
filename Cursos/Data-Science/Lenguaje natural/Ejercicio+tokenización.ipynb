{
 "cells": [
  {
   "cell_type": "code",
   "execution_count": 1,
   "metadata": {},
   "outputs": [],
   "source": [
    "# 1) Tokenizar el siguiente texto por palabras, \n",
    "# tomando también los signos de puntuación \n",
    "import nltk\n",
    "s = '''\n",
    "     No temáis a la grandeza; \n",
    "     algunos nacen grandes, algunos \n",
    "     logran grandeza, a algunos la \n",
    "     grandeza les es impuesta y a \n",
    "     otros la grandeza les queda grande.\n",
    "'''\n",
    "\n"
   ]
  },
  {
   "cell_type": "code",
   "execution_count": 5,
   "metadata": {},
   "outputs": [],
   "source": [
    "from nltk.tokenize import sent_tokenize\n",
    "text=nltk.word_tokenize(s)"
   ]
  },
  {
   "cell_type": "code",
   "execution_count": 20,
   "metadata": {},
   "outputs": [
    {
     "data": {
      "text/plain": [
       "['No',\n",
       " 'temáis',\n",
       " 'a',\n",
       " 'la',\n",
       " 'grandeza',\n",
       " ';',\n",
       " 'algunos',\n",
       " 'nacen',\n",
       " 'grandes',\n",
       " ',',\n",
       " 'algunos',\n",
       " 'logran',\n",
       " 'grandeza',\n",
       " ',',\n",
       " 'a',\n",
       " 'algunos',\n",
       " 'la',\n",
       " 'grandeza',\n",
       " 'les',\n",
       " 'es',\n",
       " 'impuesta',\n",
       " 'y',\n",
       " 'a',\n",
       " 'otros',\n",
       " 'la',\n",
       " 'grandeza',\n",
       " 'les',\n",
       " 'queda',\n",
       " 'grande',\n",
       " '.']"
      ]
     },
     "execution_count": 20,
     "metadata": {},
     "output_type": "execute_result"
    }
   ],
   "source": [
    "text"
   ]
  },
  {
   "cell_type": "code",
   "execution_count": 7,
   "metadata": {},
   "outputs": [],
   "source": [
    "# 2) Tokenizar de la misma forma, pero esta vez normalizando los tokens\n",
    "# llevándolos a minúscula\n",
    "t = s.lower()\n",
    "text2 = nltk.word_tokenize(t)"
   ]
  },
  {
   "cell_type": "code",
   "execution_count": 14,
   "metadata": {
    "collapsed": true,
    "jupyter": {
     "outputs_hidden": true
    }
   },
   "outputs": [
    {
     "data": {
      "text/plain": [
       "['no',\n",
       " 'temáis',\n",
       " 'a',\n",
       " 'la',\n",
       " 'grandeza',\n",
       " ';',\n",
       " 'algunos',\n",
       " 'nacen',\n",
       " 'grandes',\n",
       " ',',\n",
       " 'algunos',\n",
       " 'logran',\n",
       " 'grandeza',\n",
       " ',',\n",
       " 'a',\n",
       " 'algunos',\n",
       " 'la',\n",
       " 'grandeza',\n",
       " 'les',\n",
       " 'es',\n",
       " 'impuesta',\n",
       " 'y',\n",
       " 'a',\n",
       " 'otros',\n",
       " 'la',\n",
       " 'grandeza',\n",
       " 'les',\n",
       " 'queda',\n",
       " 'grande',\n",
       " '.']"
      ]
     },
     "execution_count": 14,
     "metadata": {},
     "output_type": "execute_result"
    }
   ],
   "source": [
    "text2"
   ]
  },
  {
   "cell_type": "code",
   "execution_count": 12,
   "metadata": {},
   "outputs": [],
   "source": [
    "# 3) Esta vez, tokenizá el texto pero sin los signos de puntuación\n",
    "from nltk.tokenize import RegexpTokenizer\n",
    "tokenizer = RegexpTokenizer(\"[\\w]+\")\n",
    "word_tokens = tokenizer.tokenize(s)"
   ]
  },
  {
   "cell_type": "code",
   "execution_count": 15,
   "metadata": {
    "collapsed": true,
    "jupyter": {
     "outputs_hidden": true
    }
   },
   "outputs": [
    {
     "data": {
      "text/plain": [
       "['No',\n",
       " 'temáis',\n",
       " 'a',\n",
       " 'la',\n",
       " 'grandeza',\n",
       " 'algunos',\n",
       " 'nacen',\n",
       " 'grandes',\n",
       " 'algunos',\n",
       " 'logran',\n",
       " 'grandeza',\n",
       " 'a',\n",
       " 'algunos',\n",
       " 'la',\n",
       " 'grandeza',\n",
       " 'les',\n",
       " 'es',\n",
       " 'impuesta',\n",
       " 'y',\n",
       " 'a',\n",
       " 'otros',\n",
       " 'la',\n",
       " 'grandeza',\n",
       " 'les',\n",
       " 'queda',\n",
       " 'grande']"
      ]
     },
     "execution_count": 15,
     "metadata": {},
     "output_type": "execute_result"
    }
   ],
   "source": [
    "word_tokens"
   ]
  },
  {
   "cell_type": "code",
   "execution_count": 16,
   "metadata": {},
   "outputs": [
    {
     "data": {
      "text/plain": [
       "['\\n     No temáis a la grandeza; \\n     algunos nacen grandes, algunos \\n     logran grandeza, a algunos la \\n     grandeza les es impuesta y a \\n     otros la grandeza les queda grande.']"
      ]
     },
     "execution_count": 16,
     "metadata": {},
     "output_type": "execute_result"
    }
   ],
   "source": [
    "# 4) Ahora dividir el texto en oraciones\n",
    "from nltk.tokenize import sent_tokenize\n",
    "sent_tokenize(s)\n"
   ]
  },
  {
   "cell_type": "code",
   "execution_count": 18,
   "metadata": {},
   "outputs": [],
   "source": [
    "# 5) Probá ahora aplicar el siguiente tokenizador al siguiente tweet.\n",
    "from nltk.tokenize import TweetTokenizer\n",
    "tokenizer = TweetTokenizer()\n",
    "s = \"Lluvia de emoticoness #dummysmiley: :-) :-P <3 < > -> <--\"\n",
    "tweetTokenizado = tokenizer.tokenize(s)"
   ]
  },
  {
   "cell_type": "code",
   "execution_count": 19,
   "metadata": {},
   "outputs": [
    {
     "data": {
      "text/plain": [
       "['Lluvia',\n",
       " 'de',\n",
       " 'emoticoness',\n",
       " '#dummysmiley',\n",
       " ':',\n",
       " ':-)',\n",
       " ':-P',\n",
       " '<3',\n",
       " '<',\n",
       " '>',\n",
       " '->',\n",
       " '<--']"
      ]
     },
     "execution_count": 19,
     "metadata": {},
     "output_type": "execute_result"
    }
   ],
   "source": [
    "tweetTokenizado"
   ]
  },
  {
   "cell_type": "markdown",
   "metadata": {},
   "source": [
    "Conocé más sobre tokenizadores en la documentación de NLTK\n",
    "https://www.nltk.org/api/nltk.tokenize.html"
   ]
  }
 ],
 "metadata": {
  "kernelspec": {
   "display_name": "Python 3",
   "language": "python",
   "name": "python3"
  },
  "language_info": {
   "codemirror_mode": {
    "name": "ipython",
    "version": 3
   },
   "file_extension": ".py",
   "mimetype": "text/x-python",
   "name": "python",
   "nbconvert_exporter": "python",
   "pygments_lexer": "ipython3",
   "version": "3.8.5"
  }
 },
 "nbformat": 4,
 "nbformat_minor": 4
}
