{
 "cells": [
  {
   "cell_type": "markdown",
   "metadata": {},
   "source": [
    "# Arreglos en Numpy"
   ]
  },
  {
   "cell_type": "code",
   "execution_count": 2,
   "metadata": {},
   "outputs": [
    {
     "name": "stdout",
     "output_type": "stream",
     "text": [
      "[[ 1.16796124 -0.20345033  0.02887012]\n",
      " [ 1.58728571 -0.15896111 -0.3799295 ]]\n"
     ]
    }
   ],
   "source": [
    "import numpy as np\n",
    "\n",
    "#Generando un array random\n",
    "data = np.random.randn(2,3)\n",
    "print(data)"
   ]
  },
  {
   "cell_type": "code",
   "execution_count": 3,
   "metadata": {},
   "outputs": [
    {
     "data": {
      "text/plain": [
       "(array([[11.67961239, -2.03450327,  0.28870116],\n",
       "        [15.8728571 , -1.5896111 , -3.799295  ]]),\n",
       " array([[ 2.33592248, -0.40690065,  0.05774023],\n",
       "        [ 3.17457142, -0.31792222, -0.759859  ]]))"
      ]
     },
     "execution_count": 3,
     "metadata": {},
     "output_type": "execute_result"
    }
   ],
   "source": [
    "# Operaciones sobre arreglos\n",
    "# Multiplica cada elemento por 10, y suma cada elemento consigo mismo\n",
    "data *  10, data + data"
   ]
  },
  {
   "cell_type": "code",
   "execution_count": 6,
   "metadata": {},
   "outputs": [
    {
     "name": "stdout",
     "output_type": "stream",
     "text": [
      "[[1, 2, 3], [4, 5, 6]]\n",
      "[[1 2 3]\n",
      " [4 5 6]]\n"
     ]
    }
   ],
   "source": [
    "# Crea un array de Numpy a partir de un array de Python\n",
    "data = [[1,2,3], [4,5,6]]\n",
    "arr = np.array(data)\n",
    "\n",
    "print(data)\n",
    "print(arr)"
   ]
  },
  {
   "cell_type": "code",
   "execution_count": 10,
   "metadata": {},
   "outputs": [
    {
     "name": "stdout",
     "output_type": "stream",
     "text": [
      "(2, 3)\n",
      "2\n"
     ]
    }
   ],
   "source": [
    "# Shape da las distintas dimensiones de los arreglos (en este caso dos arreglos de tres elementos cada uno)\n",
    "# ndim da el largo total de la colección\n",
    "print(arr.shape)\n",
    "print(arr.ndim)"
   ]
  },
  {
   "cell_type": "code",
   "execution_count": 13,
   "metadata": {},
   "outputs": [
    {
     "data": {
      "text/plain": [
       "array([1. , 1.6, 2.2, 2.8, 3.4, 4. ])"
      ]
     },
     "execution_count": 13,
     "metadata": {},
     "output_type": "execute_result"
    }
   ],
   "source": [
    "# Arreglos de ceros\n",
    "np.zeros((2,3))\n",
    "\n",
    "# Crea un arreglo entre 0 y 9\n",
    "np.arange(10)\n",
    "\n",
    "# Crea un arreglo de valores espaciados de igual manera entre sí\n",
    "# Este ejemplo creará un array de 6 elementos entre 1 y 4\n",
    "np.linspace (1,4,6)"
   ]
  },
  {
   "cell_type": "markdown",
   "metadata": {},
   "source": [
    "# Slicing de una dimensión"
   ]
  },
  {
   "cell_type": "code",
   "execution_count": 21,
   "metadata": {},
   "outputs": [
    {
     "data": {
      "text/plain": [
       "array([ 0,  1, 58, 58, 58,  5,  6,  7])"
      ]
     },
     "execution_count": 21,
     "metadata": {},
     "output_type": "execute_result"
    }
   ],
   "source": [
    "arr = np.arange(8)\n",
    "arr[5]\n",
    "arr[2:5] # Muestra las posiciones 2 a 5\n",
    "arr[2:5] = 58 # Asigna a las posiciones 2 a 5 el número 58\n",
    "# arr[:] = 58 # Asigna a todas las posiciones el número 58\n",
    "arr"
   ]
  },
  {
   "cell_type": "markdown",
   "metadata": {},
   "source": [
    "# Slicing con dos dimensiones"
   ]
  },
  {
   "cell_type": "code",
   "execution_count": 41,
   "metadata": {},
   "outputs": [
    {
     "name": "stdout",
     "output_type": "stream",
     "text": [
      "[[1 2 3]\n",
      " [4 5 6]]\n",
      "[[2 3]\n",
      " [5 6]]\n"
     ]
    },
    {
     "data": {
      "text/plain": [
       "array([4, 5])"
      ]
     },
     "execution_count": 41,
     "metadata": {},
     "output_type": "execute_result"
    }
   ],
   "source": [
    "arr2d = np.array([[1,2,3],\n",
    "                 [4,5,6],\n",
    "                 [7,8,9]])\n",
    "\n",
    "arr2d\n",
    "\n",
    "print(arr2d[:2])\n",
    "\n",
    "print(arr2d[:2, 1:])\n",
    "arr2d[1, :2]"
   ]
  },
  {
   "cell_type": "code",
   "execution_count": 47,
   "metadata": {},
   "outputs": [
    {
     "data": {
      "text/plain": [
       "array([5, 6])"
      ]
     },
     "execution_count": 47,
     "metadata": {},
     "output_type": "execute_result"
    }
   ],
   "source": [
    "# start:stop:step\n",
    "# las posiciones entre 1 y 7 saltando de 2 en 2\n",
    "arr[1:7:2]\n",
    "# Vuelve hacia atrás en la colección\n",
    "arr[-3:7]"
   ]
  },
  {
   "cell_type": "code",
   "execution_count": 49,
   "metadata": {},
   "outputs": [
    {
     "data": {
      "text/plain": [
       "array([[ True, False, False],\n",
       "       [False, False, False],\n",
       "       [False, False, False]])"
      ]
     },
     "execution_count": 49,
     "metadata": {},
     "output_type": "execute_result"
    }
   ],
   "source": [
    "# Filtros booleanos\n",
    "arr2d < 2 # compara cada elemento con la condición"
   ]
  },
  {
   "cell_type": "code",
   "execution_count": 52,
   "metadata": {},
   "outputs": [
    {
     "data": {
      "text/plain": [
       "array([0, 1, 2, 3, 4, 5, 6, 7, 8, 9])"
      ]
     },
     "execution_count": 52,
     "metadata": {},
     "output_type": "execute_result"
    }
   ],
   "source": [
    "soyarr = np.arange(10)\n",
    "soyarr"
   ]
  },
  {
   "cell_type": "code",
   "execution_count": 58,
   "metadata": {},
   "outputs": [
    {
     "name": "stdout",
     "output_type": "stream",
     "text": [
      "[ 0  2  4  6  8 10 12 14 16 18]\n",
      "[ 0  2  4  6  8 10 12 14 16 18]\n"
     ]
    }
   ],
   "source": [
    "# Funciones universales\n",
    "\n",
    "np.sqrt(soyarr)\n",
    "np.abs(soyarr)\n",
    "np.square(soyarr)\n",
    "np.add(soyarr, soyarr)"
   ]
  },
  {
   "cell_type": "code",
   "execution_count": 60,
   "metadata": {},
   "outputs": [
    {
     "data": {
      "text/plain": [
       "array([[-1.71395734, -0.533106  ,  1.70106651,  1.198981  ],\n",
       "       [ 0.66507382, -0.17366564,  0.84017003, -0.84217379],\n",
       "       [-1.05721197,  0.25163118, -0.25897786,  0.77955377],\n",
       "       [ 2.33339694,  0.57438073,  0.35816131,  2.26701206],\n",
       "       [-0.67223997,  0.02395942,  0.52420367, -0.49426987]])"
      ]
     },
     "execution_count": 60,
     "metadata": {},
     "output_type": "execute_result"
    }
   ],
   "source": [
    "# Funciones de agregación\n",
    "newarr = np.random.randn(5,4)\n",
    "newarr"
   ]
  },
  {
   "cell_type": "code",
   "execution_count": 63,
   "metadata": {},
   "outputs": [
    {
     "data": {
      "text/plain": [
       "3.714675857761714e-05"
      ]
     },
     "execution_count": 63,
     "metadata": {},
     "output_type": "execute_result"
    }
   ],
   "source": [
    "newarr.mean() #promedio de todos los valores\n",
    "newarr.sum() #suma d etodos los elementos\n",
    "newarr.prod() #producto de todos los elementos\n"
   ]
  }
 ],
 "metadata": {
  "kernelspec": {
   "display_name": "Python 3",
   "language": "python",
   "name": "python3"
  },
  "language_info": {
   "codemirror_mode": {
    "name": "ipython",
    "version": 3
   },
   "file_extension": ".py",
   "mimetype": "text/x-python",
   "name": "python",
   "nbconvert_exporter": "python",
   "pygments_lexer": "ipython3",
   "version": "3.8.5"
  }
 },
 "nbformat": 4,
 "nbformat_minor": 4
}
