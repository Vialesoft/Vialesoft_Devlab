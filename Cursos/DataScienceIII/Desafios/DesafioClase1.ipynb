{
 "cells": [
  {
   "cell_type": "markdown",
   "id": "0806d652-110c-43e9-b613-8f835749489f",
   "metadata": {},
   "source": [
    "Ejercicio práctico:\n",
    "Tomar 10 titulares de dos diarios distintos (ej; Ámbito Financiero y Olé), guardarlos en un CSV.\n",
    "Luego, usando la técnica \"bag of words\", identificar las 10 palabras más frecuentes de cada diario"
   ]
  },
  {
   "cell_type": "markdown",
   "id": "d8851246-1fdd-4b2e-b823-b1e4ce1bb1c1",
   "metadata": {},
   "source": [
    "#### https://www.kaggle.com/code/vipulgandhi/bag-of-words-model-for-beginners\n",
    "#### https://eitca.org/artificial-intelligence/eitc-ai-tff-tensorflow-fundamentals/natural-language-processing-with-tensorflow/tokenization/can-tensorflow-keras-tokenizer-api-be-used-to-find-most-frequent-words/"
   ]
  },
  {
   "cell_type": "code",
   "execution_count": 16,
   "id": "6e271ec4-282c-4ba7-acff-88ccdbf0f45e",
   "metadata": {
    "scrolled": true
   },
   "outputs": [],
   "source": [
    "# pip install scikit-learn"
   ]
  },
  {
   "cell_type": "code",
   "execution_count": 17,
   "id": "2df58c41-80d2-4893-abae-3029136a8be2",
   "metadata": {},
   "outputs": [],
   "source": [
    "# pip install keras"
   ]
  },
  {
   "cell_type": "code",
   "execution_count": 21,
   "id": "14a8105f-117a-420d-89a4-205da0b26c6b",
   "metadata": {},
   "outputs": [],
   "source": [
    "# pip install tensorflow"
   ]
  },
  {
   "cell_type": "code",
   "execution_count": 57,
   "id": "943ecd10-ac90-4d87-87dd-99503179fb41",
   "metadata": {},
   "outputs": [],
   "source": [
    "# pip install spaCY"
   ]
  },
  {
   "cell_type": "code",
   "execution_count": 69,
   "id": "50e570ce-8976-4b40-ab1c-7f2c89b771ae",
   "metadata": {},
   "outputs": [],
   "source": [
    "# !python -m spacy download es_core_news_sm"
   ]
  },
  {
   "cell_type": "code",
   "execution_count": 1,
   "id": "da5ebf8f-bfc1-49b0-9d34-31a48120c970",
   "metadata": {},
   "outputs": [],
   "source": [
    "from tensorflow.keras.preprocessing.text import Tokenizer"
   ]
  },
  {
   "cell_type": "code",
   "execution_count": 10,
   "id": "b978f774-ad56-4fad-aab4-fd4bb0c0717a",
   "metadata": {},
   "outputs": [
    {
     "data": {
      "text/plain": [
       "<spacy.lang.es.Spanish at 0x28c88cfca70>"
      ]
     },
     "execution_count": 10,
     "metadata": {},
     "output_type": "execute_result"
    }
   ],
   "source": [
    "import spacy\n",
    "spacy.load(\"es_core_news_sm\")"
   ]
  },
  {
   "cell_type": "code",
   "execution_count": 3,
   "id": "496725cb-ac77-4d9c-a075-1cbf9969470d",
   "metadata": {},
   "outputs": [],
   "source": [
    "titulares = [\n",
    "    \"Balacera en Buceo: hay un segundo detenido y se divulgaron imágenes del ataque y la huida\",\n",
    "    \"'Puede traer quilombo judicial': crudo de entrevista a Milei evidenció 'guion' de Caputo\",\n",
    "    \"Encuesta: casi 8 de cada 10 personas cree que la delincuencia aumentó o se mantuvo igual\",\n",
    "    \"'Bielsa me quería fuera de la MLS', dijo Kike Olivera al ser presentado en Gremio\",\n",
    "    \"'El Estado siempre es lento': López Mena pidió aprobar “rápidamente” reformas en el Puerto\",\n",
    "    \"Sin mayorías: así se prepara Diputados para las inminentes negociaciones entre partidos\",\n",
    "    \"'Sape, sape!' declaraciones del Bananero después de tener relaciones con un enano trans\",\n",
    "    \"Terrible descarga: captan momento en el que ladrón de cables muere electrocutado\",\n",
    "    \"El golazo de uno de los hijos de Lionel Messi que ya es viral en las redes sociales\",\n",
    "    \"¿Pinchar con revólver? La curiosa amenaza de asaltante de bus en los accesos\",\n",
    "    \"Defensor Sporting y Racing recibieron una sanción por los incidentes del partido del sábado por el Torneo Apertura\"\n",
    "]"
   ]
  },
  {
   "cell_type": "markdown",
   "id": "167fdb49-f526-42e6-ad84-2ca71cf304af",
   "metadata": {},
   "source": [
    "## Keras"
   ]
  },
  {
   "cell_type": "code",
   "execution_count": 4,
   "id": "e8aa1b66-3717-4b6c-ba42-14640268651a",
   "metadata": {},
   "outputs": [],
   "source": [
    "# create the tokenizer\n",
    "tokenizer = Tokenizer()\n",
    "# fit the tokenizer on the documents\n",
    "tokenizer.fit_on_texts(titulares)"
   ]
  },
  {
   "cell_type": "code",
   "execution_count": 5,
   "id": "647279a3-928e-4aa0-919f-d54c9901134b",
   "metadata": {},
   "outputs": [],
   "source": [
    "word_counts = tokenizer.word_counts"
   ]
  },
  {
   "cell_type": "code",
   "execution_count": 6,
   "id": "99f51438-ec52-45ae-8e69-9211980bd854",
   "metadata": {},
   "outputs": [],
   "source": [
    "sorted_word_counts = sorted(word_counts.items(), key=lambda x: x[1], reverse=True)\n",
    "most_frequent_words = sorted_word_counts[:10]"
   ]
  },
  {
   "cell_type": "code",
   "execution_count": 7,
   "id": "8d3cae79-1e47-4d24-ac22-8c66bdb8e5d9",
   "metadata": {
    "scrolled": true
   },
   "outputs": [
    {
     "data": {
      "text/plain": [
       "[('de', 11),\n",
       " ('en', 6),\n",
       " ('del', 4),\n",
       " ('la', 4),\n",
       " ('el', 4),\n",
       " ('y', 3),\n",
       " ('se', 3),\n",
       " ('que', 3),\n",
       " ('los', 3),\n",
       " ('un', 2),\n",
       " ('es', 2),\n",
       " ('las', 2),\n",
       " ('con', 2),\n",
       " ('por', 2),\n",
       " ('balacera', 1),\n",
       " ('buceo', 1),\n",
       " ('hay', 1),\n",
       " ('segundo', 1),\n",
       " ('detenido', 1),\n",
       " ('divulgaron', 1),\n",
       " ('imágenes', 1),\n",
       " ('ataque', 1),\n",
       " ('huida', 1),\n",
       " (\"'puede\", 1),\n",
       " ('traer', 1),\n",
       " ('quilombo', 1),\n",
       " (\"judicial'\", 1),\n",
       " ('crudo', 1),\n",
       " ('entrevista', 1),\n",
       " ('a', 1),\n",
       " ('milei', 1),\n",
       " ('evidenció', 1),\n",
       " (\"'guion'\", 1),\n",
       " ('caputo', 1),\n",
       " ('encuesta', 1),\n",
       " ('casi', 1),\n",
       " ('8', 1),\n",
       " ('cada', 1),\n",
       " ('10', 1),\n",
       " ('personas', 1),\n",
       " ('cree', 1),\n",
       " ('delincuencia', 1),\n",
       " ('aumentó', 1),\n",
       " ('o', 1),\n",
       " ('mantuvo', 1),\n",
       " ('igual', 1),\n",
       " (\"'bielsa\", 1),\n",
       " ('me', 1),\n",
       " ('quería', 1),\n",
       " ('fuera', 1),\n",
       " (\"mls'\", 1),\n",
       " ('dijo', 1),\n",
       " ('kike', 1),\n",
       " ('olivera', 1),\n",
       " ('al', 1),\n",
       " ('ser', 1),\n",
       " ('presentado', 1),\n",
       " ('gremio', 1),\n",
       " (\"'el\", 1),\n",
       " ('estado', 1),\n",
       " ('siempre', 1),\n",
       " (\"lento'\", 1),\n",
       " ('lópez', 1),\n",
       " ('mena', 1),\n",
       " ('pidió', 1),\n",
       " ('aprobar', 1),\n",
       " ('“rápidamente”', 1),\n",
       " ('reformas', 1),\n",
       " ('puerto', 1),\n",
       " ('sin', 1),\n",
       " ('mayorías', 1),\n",
       " ('así', 1),\n",
       " ('prepara', 1),\n",
       " ('diputados', 1),\n",
       " ('para', 1),\n",
       " ('inminentes', 1),\n",
       " ('negociaciones', 1),\n",
       " ('entre', 1),\n",
       " ('partidos', 1),\n",
       " (\"'sape\", 1),\n",
       " ('sape', 1),\n",
       " (\"'\", 1),\n",
       " ('declaraciones', 1),\n",
       " ('bananero', 1),\n",
       " ('después', 1),\n",
       " ('tener', 1),\n",
       " ('relaciones', 1),\n",
       " ('enano', 1),\n",
       " ('trans', 1),\n",
       " ('terrible', 1),\n",
       " ('descarga', 1),\n",
       " ('captan', 1),\n",
       " ('momento', 1),\n",
       " ('ladrón', 1),\n",
       " ('cables', 1),\n",
       " ('muere', 1),\n",
       " ('electrocutado', 1),\n",
       " ('golazo', 1),\n",
       " ('uno', 1),\n",
       " ('hijos', 1),\n",
       " ('lionel', 1),\n",
       " ('messi', 1),\n",
       " ('ya', 1),\n",
       " ('viral', 1),\n",
       " ('redes', 1),\n",
       " ('sociales', 1),\n",
       " ('¿pinchar', 1),\n",
       " ('revólver', 1),\n",
       " ('curiosa', 1),\n",
       " ('amenaza', 1),\n",
       " ('asaltante', 1),\n",
       " ('bus', 1),\n",
       " ('accesos', 1),\n",
       " ('defensor', 1),\n",
       " ('sporting', 1),\n",
       " ('racing', 1),\n",
       " ('recibieron', 1),\n",
       " ('una', 1),\n",
       " ('sanción', 1),\n",
       " ('incidentes', 1),\n",
       " ('partido', 1),\n",
       " ('sábado', 1),\n",
       " ('torneo', 1),\n",
       " ('apertura', 1)]"
      ]
     },
     "execution_count": 7,
     "metadata": {},
     "output_type": "execute_result"
    }
   ],
   "source": [
    "sorted_word_counts"
   ]
  },
  {
   "cell_type": "code",
   "execution_count": 8,
   "id": "dc6d1ddc-481d-467c-be08-4824774e5e4e",
   "metadata": {},
   "outputs": [
    {
     "data": {
      "text/plain": [
       "[('de', 11),\n",
       " ('en', 6),\n",
       " ('del', 4),\n",
       " ('la', 4),\n",
       " ('el', 4),\n",
       " ('y', 3),\n",
       " ('se', 3),\n",
       " ('que', 3),\n",
       " ('los', 3),\n",
       " ('un', 2)]"
      ]
     },
     "execution_count": 8,
     "metadata": {},
     "output_type": "execute_result"
    }
   ],
   "source": [
    "most_frequent_words"
   ]
  },
  {
   "cell_type": "code",
   "execution_count": 13,
   "id": "a29e0d81-1736-49c4-b534-6d4c6d18bf88",
   "metadata": {},
   "outputs": [],
   "source": [
    "spacy_stopwords = spacy.lang.es.stop_words.STOP_WORDS\n",
    "no_stop_words = {k: v for k, v in sorted_word_counts if k not in spacy_stopwords}"
   ]
  },
  {
   "cell_type": "code",
   "execution_count": 15,
   "id": "42f11f51-2134-475c-a080-5524ec1a7ab5",
   "metadata": {},
   "outputs": [],
   "source": [
    "sorted_word_counts_nostop = sorted(no_stop_words.items(), key=lambda x: x[1], reverse=True)\n",
    "most_frequent_words_nostop = sorted_word_counts_nostop[:10]"
   ]
  },
  {
   "cell_type": "code",
   "execution_count": 16,
   "id": "82b63d65-1647-4ad1-bd31-daf521fae65a",
   "metadata": {},
   "outputs": [
    {
     "data": {
      "text/plain": [
       "[('balacera', 1),\n",
       " ('buceo', 1),\n",
       " ('detenido', 1),\n",
       " ('divulgaron', 1),\n",
       " ('imágenes', 1),\n",
       " ('ataque', 1),\n",
       " ('huida', 1),\n",
       " (\"'puede\", 1),\n",
       " ('traer', 1),\n",
       " ('quilombo', 1)]"
      ]
     },
     "execution_count": 16,
     "metadata": {},
     "output_type": "execute_result"
    }
   ],
   "source": [
    "most_frequent_words_nostop"
   ]
  },
  {
   "cell_type": "code",
   "execution_count": null,
   "id": "f85f31aa-a3d2-4919-b6d7-237b024c558f",
   "metadata": {},
   "outputs": [],
   "source": []
  }
 ],
 "metadata": {
  "kernelspec": {
   "display_name": "Python 3 (ipykernel)",
   "language": "python",
   "name": "python3"
  },
  "language_info": {
   "codemirror_mode": {
    "name": "ipython",
    "version": 3
   },
   "file_extension": ".py",
   "mimetype": "text/x-python",
   "name": "python",
   "nbconvert_exporter": "python",
   "pygments_lexer": "ipython3",
   "version": "3.12.9"
  }
 },
 "nbformat": 4,
 "nbformat_minor": 5
}
