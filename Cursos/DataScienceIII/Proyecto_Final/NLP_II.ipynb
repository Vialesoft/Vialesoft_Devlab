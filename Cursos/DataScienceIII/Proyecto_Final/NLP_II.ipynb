{
  "cells": [
    {
      "cell_type": "markdown",
      "source": [
        "![coderhouse-logo.png](data:image/png;base64,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)"
      ],
      "metadata": {
        "id": "5JX13hLg_HdN"
      }
    },
    {
      "cell_type": "markdown",
      "metadata": {
        "id": "8UtDTjZ4M3hn"
      },
      "source": [
        "# Uso de spaCY"
      ]
    },
    {
      "cell_type": "code",
      "execution_count": null,
      "metadata": {
        "colab": {
          "base_uri": "https://localhost:8080/"
        },
        "id": "qHIBPJTYOBwx",
        "outputId": "a52cf306-48af-4e42-f8a3-f31794230875"
      },
      "outputs": [
        {
          "output_type": "stream",
          "name": "stdout",
          "text": [
            "/usr/local/lib/python3.8/dist-packages/torch/cuda/__init__.py:497: UserWarning: Can't initialize NVML\n",
            "  warnings.warn(\"Can't initialize NVML\")\n",
            "2023-03-02 22:40:03.553083: W tensorflow/compiler/xla/stream_executor/platform/default/dso_loader.cc:64] Could not load dynamic library 'libnvinfer.so.7'; dlerror: libnvinfer.so.7: cannot open shared object file: No such file or directory; LD_LIBRARY_PATH: /usr/local/nvidia/lib:/usr/local/nvidia/lib64\n",
            "2023-03-02 22:40:03.553180: W tensorflow/compiler/xla/stream_executor/platform/default/dso_loader.cc:64] Could not load dynamic library 'libnvinfer_plugin.so.7'; dlerror: libnvinfer_plugin.so.7: cannot open shared object file: No such file or directory; LD_LIBRARY_PATH: /usr/local/nvidia/lib:/usr/local/nvidia/lib64\n",
            "2023-03-02 22:40:03.553201: W tensorflow/compiler/tf2tensorrt/utils/py_utils.cc:38] TF-TRT Warning: Cannot dlopen some TensorRT libraries. If you would like to use Nvidia GPU with TensorRT, please make sure the missing libraries mentioned above are installed properly.\n",
            "2023-03-02 22:40:05.316645: E tensorflow/compiler/xla/stream_executor/cuda/cuda_driver.cc:267] failed call to cuInit: CUDA_ERROR_NO_DEVICE: no CUDA-capable device is detected\n",
            "Looking in indexes: https://pypi.org/simple, https://us-python.pkg.dev/colab-wheels/public/simple/\n",
            "Collecting es-core-news-sm==3.4.0\n",
            "  Downloading https://github.com/explosion/spacy-models/releases/download/es_core_news_sm-3.4.0/es_core_news_sm-3.4.0-py3-none-any.whl (12.9 MB)\n",
            "\u001b[2K     \u001b[90m━━━━━━━━━━━━━━━━━━━━━━━━━━━━━━━━━━━━━━━━\u001b[0m \u001b[32m12.9/12.9 MB\u001b[0m \u001b[31m25.0 MB/s\u001b[0m eta \u001b[36m0:00:00\u001b[0m\n",
            "\u001b[?25hRequirement already satisfied: spacy<3.5.0,>=3.4.0 in /usr/local/lib/python3.8/dist-packages (from es-core-news-sm==3.4.0) (3.4.4)\n",
            "Requirement already satisfied: srsly<3.0.0,>=2.4.3 in /usr/local/lib/python3.8/dist-packages (from spacy<3.5.0,>=3.4.0->es-core-news-sm==3.4.0) (2.4.6)\n",
            "Requirement already satisfied: pathy>=0.3.5 in /usr/local/lib/python3.8/dist-packages (from spacy<3.5.0,>=3.4.0->es-core-news-sm==3.4.0) (0.10.1)\n",
            "Requirement already satisfied: smart-open<7.0.0,>=5.2.1 in /usr/local/lib/python3.8/dist-packages (from spacy<3.5.0,>=3.4.0->es-core-news-sm==3.4.0) (6.3.0)\n",
            "Requirement already satisfied: requests<3.0.0,>=2.13.0 in /usr/local/lib/python3.8/dist-packages (from spacy<3.5.0,>=3.4.0->es-core-news-sm==3.4.0) (2.25.1)\n",
            "Requirement already satisfied: spacy-legacy<3.1.0,>=3.0.10 in /usr/local/lib/python3.8/dist-packages (from spacy<3.5.0,>=3.4.0->es-core-news-sm==3.4.0) (3.0.12)\n",
            "Requirement already satisfied: spacy-loggers<2.0.0,>=1.0.0 in /usr/local/lib/python3.8/dist-packages (from spacy<3.5.0,>=3.4.0->es-core-news-sm==3.4.0) (1.0.4)\n",
            "Requirement already satisfied: preshed<3.1.0,>=3.0.2 in /usr/local/lib/python3.8/dist-packages (from spacy<3.5.0,>=3.4.0->es-core-news-sm==3.4.0) (3.0.8)\n",
            "Requirement already satisfied: cymem<2.1.0,>=2.0.2 in /usr/local/lib/python3.8/dist-packages (from spacy<3.5.0,>=3.4.0->es-core-news-sm==3.4.0) (2.0.7)\n",
            "Requirement already satisfied: thinc<8.2.0,>=8.1.0 in /usr/local/lib/python3.8/dist-packages (from spacy<3.5.0,>=3.4.0->es-core-news-sm==3.4.0) (8.1.7)\n",
            "Requirement already satisfied: wasabi<1.1.0,>=0.9.1 in /usr/local/lib/python3.8/dist-packages (from spacy<3.5.0,>=3.4.0->es-core-news-sm==3.4.0) (0.10.1)\n",
            "Requirement already satisfied: numpy>=1.15.0 in /usr/local/lib/python3.8/dist-packages (from spacy<3.5.0,>=3.4.0->es-core-news-sm==3.4.0) (1.22.4)\n",
            "Requirement already satisfied: typer<0.8.0,>=0.3.0 in /usr/local/lib/python3.8/dist-packages (from spacy<3.5.0,>=3.4.0->es-core-news-sm==3.4.0) (0.7.0)\n",
            "Requirement already satisfied: catalogue<2.1.0,>=2.0.6 in /usr/local/lib/python3.8/dist-packages (from spacy<3.5.0,>=3.4.0->es-core-news-sm==3.4.0) (2.0.8)\n",
            "Requirement already satisfied: murmurhash<1.1.0,>=0.28.0 in /usr/local/lib/python3.8/dist-packages (from spacy<3.5.0,>=3.4.0->es-core-news-sm==3.4.0) (1.0.9)\n",
            "Requirement already satisfied: langcodes<4.0.0,>=3.2.0 in /usr/local/lib/python3.8/dist-packages (from spacy<3.5.0,>=3.4.0->es-core-news-sm==3.4.0) (3.3.0)\n",
            "Requirement already satisfied: jinja2 in /usr/local/lib/python3.8/dist-packages (from spacy<3.5.0,>=3.4.0->es-core-news-sm==3.4.0) (3.1.2)\n",
            "Requirement already satisfied: pydantic!=1.8,!=1.8.1,<1.11.0,>=1.7.4 in /usr/local/lib/python3.8/dist-packages (from spacy<3.5.0,>=3.4.0->es-core-news-sm==3.4.0) (1.10.5)\n",
            "Requirement already satisfied: tqdm<5.0.0,>=4.38.0 in /usr/local/lib/python3.8/dist-packages (from spacy<3.5.0,>=3.4.0->es-core-news-sm==3.4.0) (4.64.1)\n",
            "Requirement already satisfied: packaging>=20.0 in /usr/local/lib/python3.8/dist-packages (from spacy<3.5.0,>=3.4.0->es-core-news-sm==3.4.0) (23.0)\n",
            "Requirement already satisfied: setuptools in /usr/local/lib/python3.8/dist-packages (from spacy<3.5.0,>=3.4.0->es-core-news-sm==3.4.0) (57.4.0)\n",
            "Requirement already satisfied: typing-extensions>=4.2.0 in /usr/local/lib/python3.8/dist-packages (from pydantic!=1.8,!=1.8.1,<1.11.0,>=1.7.4->spacy<3.5.0,>=3.4.0->es-core-news-sm==3.4.0) (4.5.0)\n",
            "Requirement already satisfied: chardet<5,>=3.0.2 in /usr/local/lib/python3.8/dist-packages (from requests<3.0.0,>=2.13.0->spacy<3.5.0,>=3.4.0->es-core-news-sm==3.4.0) (4.0.0)\n",
            "Requirement already satisfied: urllib3<1.27,>=1.21.1 in /usr/local/lib/python3.8/dist-packages (from requests<3.0.0,>=2.13.0->spacy<3.5.0,>=3.4.0->es-core-news-sm==3.4.0) (1.26.14)\n",
            "Requirement already satisfied: certifi>=2017.4.17 in /usr/local/lib/python3.8/dist-packages (from requests<3.0.0,>=2.13.0->spacy<3.5.0,>=3.4.0->es-core-news-sm==3.4.0) (2022.12.7)\n",
            "Requirement already satisfied: idna<3,>=2.5 in /usr/local/lib/python3.8/dist-packages (from requests<3.0.0,>=2.13.0->spacy<3.5.0,>=3.4.0->es-core-news-sm==3.4.0) (2.10)\n",
            "Requirement already satisfied: blis<0.8.0,>=0.7.8 in /usr/local/lib/python3.8/dist-packages (from thinc<8.2.0,>=8.1.0->spacy<3.5.0,>=3.4.0->es-core-news-sm==3.4.0) (0.7.9)\n",
            "Requirement already satisfied: confection<1.0.0,>=0.0.1 in /usr/local/lib/python3.8/dist-packages (from thinc<8.2.0,>=8.1.0->spacy<3.5.0,>=3.4.0->es-core-news-sm==3.4.0) (0.0.4)\n",
            "Requirement already satisfied: click<9.0.0,>=7.1.1 in /usr/local/lib/python3.8/dist-packages (from typer<0.8.0,>=0.3.0->spacy<3.5.0,>=3.4.0->es-core-news-sm==3.4.0) (8.1.3)\n",
            "Requirement already satisfied: MarkupSafe>=2.0 in /usr/local/lib/python3.8/dist-packages (from jinja2->spacy<3.5.0,>=3.4.0->es-core-news-sm==3.4.0) (2.1.2)\n",
            "\u001b[38;5;2m✔ Download and installation successful\u001b[0m\n",
            "You can now load the package via spacy.load('es_core_news_sm')\n",
            "Looking in indexes: https://pypi.org/simple, https://us-python.pkg.dev/colab-wheels/public/simple/\n",
            "Requirement already satisfied: symspellpy in /usr/local/lib/python3.8/dist-packages (6.7.7)\n",
            "Requirement already satisfied: editdistpy>=0.1.3 in /usr/local/lib/python3.8/dist-packages (from symspellpy) (0.1.3)\n"
          ]
        },
        {
          "output_type": "stream",
          "name": "stderr",
          "text": [
            "[nltk_data] Downloading package punkt to /root/nltk_data...\n",
            "[nltk_data]   Package punkt is already up-to-date!\n",
            "[nltk_data] Downloading package stopwords to /root/nltk_data...\n",
            "[nltk_data]   Package stopwords is already up-to-date!\n",
            "[nltk_data] Downloading package wordnet to /root/nltk_data...\n",
            "[nltk_data]   Package wordnet is already up-to-date!\n"
          ]
        }
      ],
      "source": [
        "!python -m spacy download es_core_news_sm\n",
        "! pip install -U symspellpy\n",
        "import nltk # importar natural language toolkit\n",
        "nltk.download('punkt')\n",
        "nltk.download('stopwords') # modulo para descargar stopwords en diferentes idiomas\n",
        "nltk.download('wordnet')\n",
        "from nltk.corpus import stopwords\n",
        "import pandas as pd\n",
        "import numpy  as np\n",
        "import re\n",
        "import string\n",
        "import plotly\n",
        "import matplotlib.pyplot as plt\n",
        "from nltk.stem import PorterStemmer\n",
        "import time\n",
        "import spacy\n",
        "import es_core_news_sm\n",
        "from nltk.corpus import stopwords\n",
        "from nltk.tokenize import word_tokenize\n",
        "from nltk.tokenize import sent_tokenize\n",
        "from sklearn.feature_extraction.text import CountVectorizer\n",
        "from sklearn.feature_extraction.text import TfidfTransformer\n",
        "from nltk.probability import FreqDist\n",
        "from wordcloud import WordCloud\n",
        "import pickle\n",
        "from symspellpy import SymSpell\n",
        "import pkg_resources\n",
        "from symspellpy import SymSpell, Verbosity"
      ]
    },
    {
      "cell_type": "code",
      "execution_count": null,
      "metadata": {
        "colab": {
          "base_uri": "https://localhost:8080/"
        },
        "id": "Pd-DOmGVOF0t",
        "outputId": "d3dc15f0-6c13-44fa-95e7-801f79f985fa"
      },
      "outputs": [
        {
          "output_type": "stream",
          "name": "stdout",
          "text": [
            "/usr/local/lib/python3.8/dist-packages/torch/cuda/__init__.py:497: UserWarning: Can't initialize NVML\n",
            "  warnings.warn(\"Can't initialize NVML\")\n",
            "2023-03-02 21:52:23.849015: W tensorflow/compiler/xla/stream_executor/platform/default/dso_loader.cc:64] Could not load dynamic library 'libnvinfer.so.7'; dlerror: libnvinfer.so.7: cannot open shared object file: No such file or directory; LD_LIBRARY_PATH: /usr/local/nvidia/lib:/usr/local/nvidia/lib64\n",
            "2023-03-02 21:52:23.849121: W tensorflow/compiler/xla/stream_executor/platform/default/dso_loader.cc:64] Could not load dynamic library 'libnvinfer_plugin.so.7'; dlerror: libnvinfer_plugin.so.7: cannot open shared object file: No such file or directory; LD_LIBRARY_PATH: /usr/local/nvidia/lib:/usr/local/nvidia/lib64\n",
            "2023-03-02 21:52:23.849144: W tensorflow/compiler/tf2tensorrt/utils/py_utils.cc:38] TF-TRT Warning: Cannot dlopen some TensorRT libraries. If you would like to use Nvidia GPU with TensorRT, please make sure the missing libraries mentioned above are installed properly.\n",
            "2023-03-02 21:52:26.090592: E tensorflow/compiler/xla/stream_executor/cuda/cuda_driver.cc:267] failed call to cuInit: CUDA_ERROR_NO_DEVICE: no CUDA-capable device is detected\n",
            "Looking in indexes: https://pypi.org/simple, https://us-python.pkg.dev/colab-wheels/public/simple/\n",
            "Collecting es-core-news-md==3.4.0\n",
            "  Downloading https://github.com/explosion/spacy-models/releases/download/es_core_news_md-3.4.0/es_core_news_md-3.4.0-py3-none-any.whl (42.3 MB)\n",
            "\u001b[2K     \u001b[90m━━━━━━━━━━━━━━━━━━━━━━━━━━━━━━━━━━━━━━━━\u001b[0m \u001b[32m42.3/42.3 MB\u001b[0m \u001b[31m8.4 MB/s\u001b[0m eta \u001b[36m0:00:00\u001b[0m\n",
            "\u001b[?25hRequirement already satisfied: spacy<3.5.0,>=3.4.0 in /usr/local/lib/python3.8/dist-packages (from es-core-news-md==3.4.0) (3.4.4)\n",
            "Requirement already satisfied: tqdm<5.0.0,>=4.38.0 in /usr/local/lib/python3.8/dist-packages (from spacy<3.5.0,>=3.4.0->es-core-news-md==3.4.0) (4.64.1)\n",
            "Requirement already satisfied: spacy-loggers<2.0.0,>=1.0.0 in /usr/local/lib/python3.8/dist-packages (from spacy<3.5.0,>=3.4.0->es-core-news-md==3.4.0) (1.0.4)\n",
            "Requirement already satisfied: smart-open<7.0.0,>=5.2.1 in /usr/local/lib/python3.8/dist-packages (from spacy<3.5.0,>=3.4.0->es-core-news-md==3.4.0) (6.3.0)\n",
            "Requirement already satisfied: setuptools in /usr/local/lib/python3.8/dist-packages (from spacy<3.5.0,>=3.4.0->es-core-news-md==3.4.0) (57.4.0)\n",
            "Requirement already satisfied: murmurhash<1.1.0,>=0.28.0 in /usr/local/lib/python3.8/dist-packages (from spacy<3.5.0,>=3.4.0->es-core-news-md==3.4.0) (1.0.9)\n",
            "Requirement already satisfied: langcodes<4.0.0,>=3.2.0 in /usr/local/lib/python3.8/dist-packages (from spacy<3.5.0,>=3.4.0->es-core-news-md==3.4.0) (3.3.0)\n",
            "Requirement already satisfied: requests<3.0.0,>=2.13.0 in /usr/local/lib/python3.8/dist-packages (from spacy<3.5.0,>=3.4.0->es-core-news-md==3.4.0) (2.25.1)\n",
            "Requirement already satisfied: spacy-legacy<3.1.0,>=3.0.10 in /usr/local/lib/python3.8/dist-packages (from spacy<3.5.0,>=3.4.0->es-core-news-md==3.4.0) (3.0.12)\n",
            "Requirement already satisfied: typer<0.8.0,>=0.3.0 in /usr/local/lib/python3.8/dist-packages (from spacy<3.5.0,>=3.4.0->es-core-news-md==3.4.0) (0.7.0)\n",
            "Requirement already satisfied: cymem<2.1.0,>=2.0.2 in /usr/local/lib/python3.8/dist-packages (from spacy<3.5.0,>=3.4.0->es-core-news-md==3.4.0) (2.0.7)\n",
            "Requirement already satisfied: catalogue<2.1.0,>=2.0.6 in /usr/local/lib/python3.8/dist-packages (from spacy<3.5.0,>=3.4.0->es-core-news-md==3.4.0) (2.0.8)\n",
            "Requirement already satisfied: pydantic!=1.8,!=1.8.1,<1.11.0,>=1.7.4 in /usr/local/lib/python3.8/dist-packages (from spacy<3.5.0,>=3.4.0->es-core-news-md==3.4.0) (1.10.5)\n",
            "Requirement already satisfied: pathy>=0.3.5 in /usr/local/lib/python3.8/dist-packages (from spacy<3.5.0,>=3.4.0->es-core-news-md==3.4.0) (0.10.1)\n",
            "Requirement already satisfied: srsly<3.0.0,>=2.4.3 in /usr/local/lib/python3.8/dist-packages (from spacy<3.5.0,>=3.4.0->es-core-news-md==3.4.0) (2.4.6)\n",
            "Requirement already satisfied: jinja2 in /usr/local/lib/python3.8/dist-packages (from spacy<3.5.0,>=3.4.0->es-core-news-md==3.4.0) (3.1.2)\n",
            "Requirement already satisfied: packaging>=20.0 in /usr/local/lib/python3.8/dist-packages (from spacy<3.5.0,>=3.4.0->es-core-news-md==3.4.0) (23.0)\n",
            "Requirement already satisfied: preshed<3.1.0,>=3.0.2 in /usr/local/lib/python3.8/dist-packages (from spacy<3.5.0,>=3.4.0->es-core-news-md==3.4.0) (3.0.8)\n",
            "Requirement already satisfied: thinc<8.2.0,>=8.1.0 in /usr/local/lib/python3.8/dist-packages (from spacy<3.5.0,>=3.4.0->es-core-news-md==3.4.0) (8.1.7)\n",
            "Requirement already satisfied: numpy>=1.15.0 in /usr/local/lib/python3.8/dist-packages (from spacy<3.5.0,>=3.4.0->es-core-news-md==3.4.0) (1.22.4)\n",
            "Requirement already satisfied: wasabi<1.1.0,>=0.9.1 in /usr/local/lib/python3.8/dist-packages (from spacy<3.5.0,>=3.4.0->es-core-news-md==3.4.0) (0.10.1)\n",
            "Requirement already satisfied: typing-extensions>=4.2.0 in /usr/local/lib/python3.8/dist-packages (from pydantic!=1.8,!=1.8.1,<1.11.0,>=1.7.4->spacy<3.5.0,>=3.4.0->es-core-news-md==3.4.0) (4.5.0)\n",
            "Requirement already satisfied: certifi>=2017.4.17 in /usr/local/lib/python3.8/dist-packages (from requests<3.0.0,>=2.13.0->spacy<3.5.0,>=3.4.0->es-core-news-md==3.4.0) (2022.12.7)\n",
            "Requirement already satisfied: urllib3<1.27,>=1.21.1 in /usr/local/lib/python3.8/dist-packages (from requests<3.0.0,>=2.13.0->spacy<3.5.0,>=3.4.0->es-core-news-md==3.4.0) (1.26.14)\n",
            "Requirement already satisfied: idna<3,>=2.5 in /usr/local/lib/python3.8/dist-packages (from requests<3.0.0,>=2.13.0->spacy<3.5.0,>=3.4.0->es-core-news-md==3.4.0) (2.10)\n",
            "Requirement already satisfied: chardet<5,>=3.0.2 in /usr/local/lib/python3.8/dist-packages (from requests<3.0.0,>=2.13.0->spacy<3.5.0,>=3.4.0->es-core-news-md==3.4.0) (4.0.0)\n",
            "Requirement already satisfied: blis<0.8.0,>=0.7.8 in /usr/local/lib/python3.8/dist-packages (from thinc<8.2.0,>=8.1.0->spacy<3.5.0,>=3.4.0->es-core-news-md==3.4.0) (0.7.9)\n",
            "Requirement already satisfied: confection<1.0.0,>=0.0.1 in /usr/local/lib/python3.8/dist-packages (from thinc<8.2.0,>=8.1.0->spacy<3.5.0,>=3.4.0->es-core-news-md==3.4.0) (0.0.4)\n",
            "Requirement already satisfied: click<9.0.0,>=7.1.1 in /usr/local/lib/python3.8/dist-packages (from typer<0.8.0,>=0.3.0->spacy<3.5.0,>=3.4.0->es-core-news-md==3.4.0) (8.1.3)\n",
            "Requirement already satisfied: MarkupSafe>=2.0 in /usr/local/lib/python3.8/dist-packages (from jinja2->spacy<3.5.0,>=3.4.0->es-core-news-md==3.4.0) (2.1.2)\n",
            "\u001b[38;5;2m✔ Download and installation successful\u001b[0m\n",
            "You can now load the package via spacy.load('es_core_news_md')\n"
          ]
        }
      ],
      "source": [
        "!python -m spacy download es_core_news_md"
      ]
    },
    {
      "cell_type": "code",
      "execution_count": null,
      "metadata": {
        "id": "vsxa_DTEMtNC"
      },
      "outputs": [],
      "source": [
        "import es_core_news_md\n",
        "nlp = es_core_news_md.load()"
      ]
    },
    {
      "cell_type": "markdown",
      "metadata": {
        "id": "2uB1-2VbOeRt"
      },
      "source": [
        "# Leer un string"
      ]
    },
    {
      "cell_type": "code",
      "execution_count": null,
      "metadata": {
        "colab": {
          "base_uri": "https://localhost:8080/"
        },
        "id": "ht5U8hbEM6pA",
        "outputId": "d78c30d9-4772-460c-ae5d-b3eabd308bff"
      },
      "outputs": [
        {
          "output_type": "stream",
          "name": "stdout",
          "text": [
            "['Este', 'es', 'un', 'tutorial', 'acerca', 'de', 'Procesamiento', 'de', 'lenguaje', 'usando', 'Python', 'con', 'spaCy']\n"
          ]
        }
      ],
      "source": [
        "texto= ('Este es un tutorial acerca de Procesamiento de lenguaje usando Python con spaCy')\n",
        "doc = nlp(texto)\n",
        "#tokenizar\n",
        "print([token.text for token in doc])"
      ]
    },
    {
      "cell_type": "markdown",
      "metadata": {
        "id": "eB-FMmvvOh90"
      },
      "source": [
        "# Deteccion de oraciones"
      ]
    },
    {
      "cell_type": "code",
      "execution_count": null,
      "metadata": {
        "colab": {
          "base_uri": "https://localhost:8080/"
        },
        "id": "teHetL6wOmGc",
        "outputId": "e4bc919d-6d1d-4c9e-cc2d-a92c4f0ae3ae"
      },
      "outputs": [
        {
          "output_type": "stream",
          "name": "stdout",
          "text": [
            "2\n",
            "Gus es un desarrollador en Python actualmente trabajando para una compañia Fintech en Londres Inglaterra.\n",
            "Se encuentra interesado en aprender NLP.\n"
          ]
        }
      ],
      "source": [
        "text=('Gus es un desarrollador en Python actualmente trabajando para una compañia Fintech en Londres Inglaterra. Se encuentra interesado en aprender NLP.')\n",
        "t=nlp(text)\n",
        "oraciones= list(t.sents)\n",
        "print(len(oraciones))\n",
        "for x in oraciones:\n",
        "  print(x)"
      ]
    },
    {
      "cell_type": "markdown",
      "metadata": {
        "id": "RrNKtx8EPrr1"
      },
      "source": [
        "# Tokenizacion"
      ]
    },
    {
      "cell_type": "code",
      "execution_count": null,
      "metadata": {
        "colab": {
          "base_uri": "https://localhost:8080/"
        },
        "id": "RROu30nCPs11",
        "outputId": "2689e7db-634d-487d-e433-5c46bbaeb0d9"
      },
      "outputs": [
        {
          "output_type": "stream",
          "name": "stdout",
          "text": [
            "Gus 0\n",
            "es 4\n",
            "un 7\n",
            "desarrollador 10\n",
            "en 24\n",
            "Python 27\n",
            "actualmente 34\n",
            "trabajando 46\n",
            "para 57\n",
            "una 62\n",
            "compañia 66\n",
            "Fintech 75\n",
            "en 83\n",
            "Londres 86\n",
            "Inglaterra 94\n",
            ". 104\n",
            "Se 106\n",
            "encuentra 109\n",
            "interesado 119\n",
            "en 130\n",
            "aprender 133\n",
            "NLP 142\n",
            ". 145\n"
          ]
        }
      ],
      "source": [
        "for token in t:\n",
        "  print(token, token.idx)"
      ]
    },
    {
      "cell_type": "code",
      "execution_count": null,
      "metadata": {
        "colab": {
          "base_uri": "https://localhost:8080/"
        },
        "id": "Rhv5on_BP9Jt",
        "outputId": "934e0134-f8eb-4d8d-cdf7-84dc42deb53c"
      },
      "outputs": [
        {
          "output_type": "stream",
          "name": "stdout",
          "text": [
            "Gus 0 Gus  True False False Xxx False\n",
            "es 4 es  True False False xx True\n",
            "un 7 un  True False False xx True\n",
            "desarrollador 10 desarrollador  True False False xxxx False\n",
            "en 24 en  True False False xx True\n",
            "Python 27 Python  True False False Xxxxx False\n",
            "actualmente 34 actualmente  True False False xxxx False\n",
            "trabajando 46 trabajando  True False False xxxx False\n",
            "para 57 para  True False False xxxx True\n",
            "una 62 una  True False False xxx True\n",
            "compañia 66 compañia  True False False xxxx False\n",
            "Fintech 75 Fintech  True False False Xxxxx False\n",
            "en 83 en  True False False xx True\n",
            "Londres 86 Londres  True False False Xxxxx False\n",
            "Inglaterra 94 Inglaterra True False False Xxxxx False\n",
            ". 104 .  False True False . False\n",
            "Se 106 Se  True False False Xx True\n",
            "encuentra 109 encuentra  True False False xxxx True\n",
            "interesado 119 interesado  True False False xxxx False\n",
            "en 130 en  True False False xx True\n",
            "aprender 133 aprender  True False False xxxx False\n",
            "NLP 142 NLP True False False XXX False\n",
            ". 145 . False True False . False\n"
          ]
        }
      ],
      "source": [
        "for token in t:\n",
        "  print(token, token.idx, token.text_with_ws,\n",
        "        token.is_alpha, token.is_punct, token.is_space,\n",
        "        token.shape_, token.is_stop)"
      ]
    },
    {
      "cell_type": "markdown",
      "metadata": {
        "id": "v6FvUx-UQFoz"
      },
      "source": [
        "En este ejemplo tenemos:\n",
        "\n",
        "- text_with_ws imprime el texto del token\n",
        "- is_alpha detecta si el token consiste en caracteres alfa numericos o no\n",
        "- is_punct detecta si el token es un simbolo de puntuacion.\n",
        "- is_space detecta si el token es un espacio o no.\n",
        "- shape_ imprime el output shape de la palabra.\n",
        "- is_stop detecta si es una stopword o no"
      ]
    },
    {
      "cell_type": "markdown",
      "metadata": {
        "id": "Lq1Cev75Qjy5"
      },
      "source": [
        "# Stopwords"
      ]
    },
    {
      "cell_type": "code",
      "execution_count": null,
      "metadata": {
        "colab": {
          "base_uri": "https://localhost:8080/"
        },
        "id": "_h2N2XmmQmaC",
        "outputId": "75339c46-b784-4277-ff7d-dfaceb86140a"
      },
      "outputs": [
        {
          "output_type": "stream",
          "name": "stdout",
          "text": [
            "521\n",
            "algún\n",
            "quienes\n",
            "alrededor\n",
            "diez\n",
            "bastante\n",
            "pasada\n",
            "eran\n",
            "lleva\n",
            "después\n",
            "primera\n"
          ]
        }
      ],
      "source": [
        "import spacy\n",
        "spacy_stopwords = spacy.lang.es.stop_words.STOP_WORDS\n",
        "print(len(spacy_stopwords))\n",
        "for stop_word in list(spacy_stopwords)[:10]:\n",
        "  print(stop_word)"
      ]
    },
    {
      "cell_type": "code",
      "execution_count": null,
      "metadata": {
        "colab": {
          "base_uri": "https://localhost:8080/"
        },
        "id": "PF9yA7o7Qu-5",
        "outputId": "157f35f9-84c7-418a-cc22-ea211e604753"
      },
      "outputs": [
        {
          "output_type": "stream",
          "name": "stdout",
          "text": [
            "Gus\n",
            "desarrollador\n",
            "Python\n",
            "actualmente\n",
            "trabajando\n",
            "compañia\n",
            "Fintech\n",
            "Londres\n",
            "Inglaterra\n",
            ".\n",
            "interesado\n",
            "aprender\n",
            "NLP\n",
            ".\n"
          ]
        }
      ],
      "source": [
        "for token in t:\n",
        "  if not token.is_stop:\n",
        "    print(token)"
      ]
    },
    {
      "cell_type": "code",
      "execution_count": null,
      "metadata": {
        "colab": {
          "base_uri": "https://localhost:8080/"
        },
        "id": "XZqDOi_qQ1td",
        "outputId": "8b36894d-f374-4f41-fc22-b2a30e0fdb22"
      },
      "outputs": [
        {
          "output_type": "stream",
          "name": "stdout",
          "text": [
            "[Gus, desarrollador, Python, actualmente, trabajando, compañia, Fintech, Londres, Inglaterra, ., interesado, aprender, NLP, .]\n"
          ]
        }
      ],
      "source": [
        "# Creacion adicional de stopwrods\n",
        "documento_sin_stopword = [token for token in t if not token.is_stop]\n",
        "print(documento_sin_stopword)"
      ]
    },
    {
      "cell_type": "markdown",
      "metadata": {
        "id": "27Owz6clRAe2"
      },
      "source": [
        "# Lemantizacion"
      ]
    },
    {
      "cell_type": "code",
      "execution_count": null,
      "metadata": {
        "colab": {
          "base_uri": "https://localhost:8080/"
        },
        "id": "siLYeWXjRDl6",
        "outputId": "96e7581e-31ce-478f-9ce2-d45180c8eecf"
      },
      "outputs": [
        {
          "output_type": "stream",
          "name": "stdout",
          "text": [
            "Gus - Gus\n",
            "es - ser\n",
            "un - uno\n",
            "desarrollador - desarrollador\n",
            "en - en\n",
            "Python - Python\n",
            "actualmente - actualmente\n",
            "trabajando - trabajar\n",
            "para - para\n",
            "una - uno\n",
            "compañia - compañia\n",
            "Fintech - Fintech\n",
            "en - en\n",
            "Londres - Londres\n",
            "Inglaterra - Inglaterra\n",
            ". - .\n",
            "Se - él\n",
            "encuentra - encontrar\n",
            "interesado - interesado\n",
            "en - en\n",
            "aprender - aprender\n",
            "NLP - NLP\n",
            ". - .\n"
          ]
        }
      ],
      "source": [
        "for token in t:\n",
        "  print(token, '-', token.lemma_)"
      ]
    },
    {
      "cell_type": "markdown",
      "metadata": {
        "id": "WPyUzf66RL-V"
      },
      "source": [
        "# Word Frequency"
      ]
    },
    {
      "cell_type": "code",
      "execution_count": null,
      "metadata": {
        "id": "a_P6U9n1RNUo"
      },
      "outputs": [],
      "source": [
        "texto= '''\n",
        "La FIFA responde así a una denuncia interpuesta por la Federación de Chile ante esa Comisión Disciplinaria, en la que presentaba alegaciones sobre la posible falsificación de los documentos que conceden la nacionalidad ecuatoriana Byron Castillo.\n",
        "\n",
        "La selección de Ecuador se clasificó de forma directa para el Mundial, junto con las de Brasil, Argentina y Uruguay, al contrario que las de Chile y Perú. El combinado peruano, que terminó quinto por detrás del ecuatoriano, disputará una repesca.\n",
        "\n",
        "El defensa fue alineado por el seleccionador ecuatoriano Gustavo Alfaro para los dos partidos contra Paraguay y Chile y en una ocasión ante Uruguay, Bolivia, Venezuela y Argentina, partidos clave para que el equipo lograse uno de los cupos directos para el Mundial.\n",
        "\n",
        "\"Innumerables pruebas de que nació en Colombia\"\n",
        "La Federación de Chile denunció el pasado día 5 que hay \"innumerables pruebas de que el jugador nació en Colombia\".\n",
        "\n",
        "\"Las investigaciones realizadas en Ecuador, entre ellas, un informe jurídico de la Dirección Nacional de Registro Civil, declararon la existencia de inconsistencias en el certificado de nacimiento presentado por el jugador\", afirmó este organismo, que acusó a la Federación Ecuatoriana de tener \"total conocimiento\" de las irregularidades.\n",
        "\n",
        "Una posible sanción de la FIFA podría implicar la resta de puntos a Ecuador por los partidos que Castillo jugó, lo que alteraría la nómina de clasificados.\n",
        "\n",
        "Un informe técnico jurídico de la dirección nacional del registro civil de Ecuador afirma que la inscripción de nacimiento de Byron Castillo en la ciudad ecuatoriana de Guayas no consta en el tomo, la página y el acta solicitado, según un documento oficial.\n",
        "'''"
      ]
    },
    {
      "cell_type": "code",
      "execution_count": null,
      "metadata": {
        "colab": {
          "base_uri": "https://localhost:8080/"
        },
        "id": "OVFSTmTCSbUI",
        "outputId": "33ffaf72-f319-4cb0-fd6c-a50ae0195966"
      },
      "outputs": [
        {
          "output_type": "execute_result",
          "data": {
            "text/plain": [
              "str"
            ]
          },
          "metadata": {},
          "execution_count": 16
        }
      ],
      "source": [
        "type(texto)"
      ]
    },
    {
      "cell_type": "code",
      "execution_count": null,
      "metadata": {
        "colab": {
          "base_uri": "https://localhost:8080/",
          "height": 157
        },
        "id": "YJEqi4TuSNHZ",
        "outputId": "bab3a824-b471-4269-8eda-0f090d8754fc"
      },
      "outputs": [
        {
          "output_type": "stream",
          "name": "stdout",
          "text": [
            "<class 'str'>\n"
          ]
        },
        {
          "output_type": "execute_result",
          "data": {
            "text/plain": [
              "'La FIFA responde así a una denuncia interpuesta por la Federación de Chile ante esa Comisión Disciplinaria, en la que presentaba alegaciones sobre la posible falsificación de los documentos que conceden la nacionalidad ecuatoriana Byron Castillo.La selección de Ecuador se clasificó de forma directa para el Mundial, junto con las de Brasil, Argentina y Uruguay, al contrario que las de Chile y Perú. El combinado peruano, que terminó quinto por detrás del ecuatoriano, disputará una repesca.El defensa fue alineado por el seleccionador ecuatoriano Gustavo Alfaro para los dos partidos contra Paraguay y Chile y en una ocasión ante Uruguay, Bolivia, Venezuela y Argentina, partidos clave para que el equipo lograse uno de los cupos directos para el Mundial.\"Innumerables pruebas de que nació en Colombia\"La Federación de Chile denunció el pasado día 5 que hay \"innumerables pruebas de que el jugador nació en Colombia\".\"Las investigaciones realizadas en Ecuador, entre ellas, un informe jurídico de la Dirección Nacional de Registro Civil, declararon la existencia de inconsistencias en el certificado de nacimiento presentado por el jugador\", afirmó este organismo, que acusó a la Federación Ecuatoriana de tener \"total conocimiento\" de las irregularidades.Una posible sanción de la FIFA podría implicar la resta de puntos a Ecuador por los partidos que Castillo jugó, lo que alteraría la nómina de clasificados.Un informe técnico jurídico de la dirección nacional del registro civil de Ecuador afirma que la inscripción de nacimiento de Byron Castillo en la ciudad ecuatoriana de Guayas no consta en el tomo, la página y el acta solicitado, según un documento oficial.'"
            ],
            "application/vnd.google.colaboratory.intrinsic+json": {
              "type": "string"
            }
          },
          "metadata": {},
          "execution_count": 17
        }
      ],
      "source": [
        "import re\n",
        "texto1 = re.sub('\\n', '', texto) #remover saltos de linea\n",
        "print(type(texto))\n",
        "str(texto1)"
      ]
    },
    {
      "cell_type": "code",
      "execution_count": null,
      "metadata": {
        "colab": {
          "base_uri": "https://localhost:8080/"
        },
        "id": "BaFYahOoRd6h",
        "outputId": "433d14a8-b219-4154-9840-0eb3872304eb"
      },
      "outputs": [
        {
          "output_type": "stream",
          "name": "stdout",
          "text": [
            "[('Chile', 4), ('Ecuador', 4), ('Federación', 3), ('Castillo', 3), ('partidos', 3)]\n",
            "['responde', 'denuncia', 'interpuesta', 'Comisión', 'Disciplinaria', 'presentaba', 'alegaciones', 'falsificación', 'documentos', 'conceden', 'nacionalidad', 'selección', 'clasificó', 'forma', 'directa', 'Brasil', 'contrario', 'Perú', 'combinado', 'peruano', 'terminó', 'quinto', 'disputará', 'repesca', 'defensa', 'alineado', 'seleccionador', 'Gustavo', 'Alfaro', 'Paraguay', 'ocasión', 'Bolivia', 'Venezuela', 'clave', 'equipo', 'lograse', 'cupos', 'directos', '\"Innumerables', 'Colombia\"La', 'denunció', '5', 'innumerables', 'Colombia\"', '\"Las', 'investigaciones', 'realizadas', 'Dirección', 'Nacional', 'Registro', 'Civil', 'declararon', 'existencia', 'inconsistencias', 'certificado', 'presentado', 'organismo', 'acusó', 'Ecuatoriana', 'conocimiento', 'irregularidades', 'sanción', 'implicar', 'resta', 'puntos', 'jugó', 'alteraría', 'nómina', 'clasificados', 'técnico', 'dirección', 'nacional', 'registro', 'civil', 'afirma', 'inscripción', 'ciudad', 'Guayas', 'consta', 'tomo', 'página', 'acta', 'solicitado', 'documento', 'oficial']\n"
          ]
        }
      ],
      "source": [
        "doc= nlp(texto1)\n",
        "# Remover stopwrods\n",
        "words= [token.text for token in doc if not token.is_stop and not token.is_punct]\n",
        "from collections import Counter\n",
        "word_freq= Counter(words)\n",
        "# Sacar las 5 mas frecuentes y sus frecuencias\n",
        "common_words= word_freq.most_common(5)\n",
        "print(common_words)\n",
        "unique_words = [word for (word, freq) in word_freq.items() if freq == 1]\n",
        "print(unique_words)"
      ]
    },
    {
      "cell_type": "markdown",
      "metadata": {
        "id": "qzhKZ2n_TEv4"
      },
      "source": [
        "# POS Tagging"
      ]
    },
    {
      "cell_type": "code",
      "execution_count": null,
      "metadata": {
        "colab": {
          "base_uri": "https://localhost:8080/"
        },
        "id": "KEF70sIAS-1d",
        "outputId": "cbe9f51a-1059-4124-824c-8066df43c884"
      },
      "outputs": [
        {
          "output_type": "stream",
          "name": "stdout",
          "text": [
            "La  - DET  - DET  - determiner\n",
            "FIFA  - PROPN  - PROPN  - proper noun\n",
            "responde  - VERB  - VERB  - verb\n",
            "así  - ADV  - ADV  - adverb\n",
            "a  - ADP  - ADP  - adposition\n",
            "una  - DET  - DET  - determiner\n",
            "denuncia  - NOUN  - NOUN  - noun\n",
            "interpuesta  - ADJ  - ADJ  - adjective\n",
            "por  - ADP  - ADP  - adposition\n",
            "la  - DET  - DET  - determiner\n",
            "Federación  - PROPN  - PROPN  - proper noun\n",
            "de  - ADP  - ADP  - adposition\n",
            "Chile  - PROPN  - PROPN  - proper noun\n",
            "ante  - ADP  - ADP  - adposition\n",
            "esa  - DET  - DET  - determiner\n",
            "Comisión  - PROPN  - PROPN  - proper noun\n",
            "Disciplinaria  - PROPN  - PROPN  - proper noun\n",
            ",  - PUNCT  - PUNCT  - punctuation\n",
            "en  - ADP  - ADP  - adposition\n",
            "la  - DET  - DET  - determiner\n",
            "que  - PRON  - PRON  - pronoun\n",
            "presentaba  - VERB  - VERB  - verb\n",
            "alegaciones  - NOUN  - NOUN  - noun\n",
            "sobre  - ADP  - ADP  - adposition\n",
            "la  - DET  - DET  - determiner\n",
            "posible  - ADJ  - ADJ  - adjective\n",
            "falsificación  - NOUN  - NOUN  - noun\n",
            "de  - ADP  - ADP  - adposition\n",
            "los  - DET  - DET  - determiner\n",
            "documentos  - NOUN  - NOUN  - noun\n",
            "que  - PRON  - PRON  - pronoun\n",
            "conceden  - VERB  - VERB  - verb\n",
            "la  - DET  - DET  - determiner\n",
            "nacionalidad  - NOUN  - NOUN  - noun\n",
            "ecuatoriana  - ADJ  - ADJ  - adjective\n",
            "Byron  - PROPN  - PROPN  - proper noun\n",
            "Castillo  - PROPN  - PROPN  - proper noun\n",
            ".  - PUNCT  - PUNCT  - punctuation\n",
            "La  - DET  - DET  - determiner\n",
            "selección  - NOUN  - NOUN  - noun\n",
            "de  - ADP  - ADP  - adposition\n",
            "Ecuador  - PROPN  - PROPN  - proper noun\n",
            "se  - PRON  - PRON  - pronoun\n",
            "clasificó  - VERB  - VERB  - verb\n",
            "de  - ADP  - ADP  - adposition\n",
            "forma  - NOUN  - NOUN  - noun\n",
            "directa  - ADJ  - ADJ  - adjective\n",
            "para  - ADP  - ADP  - adposition\n",
            "el  - DET  - DET  - determiner\n",
            "Mundial  - PROPN  - PROPN  - proper noun\n",
            ",  - PUNCT  - PUNCT  - punctuation\n",
            "junto  - ADJ  - ADJ  - adjective\n",
            "con  - ADP  - ADP  - adposition\n",
            "las  - DET  - DET  - determiner\n",
            "de  - ADP  - ADP  - adposition\n",
            "Brasil  - PROPN  - PROPN  - proper noun\n",
            ",  - PUNCT  - PUNCT  - punctuation\n",
            "Argentina  - PROPN  - PROPN  - proper noun\n",
            "y  - CCONJ  - CCONJ  - coordinating conjunction\n",
            "Uruguay  - PROPN  - PROPN  - proper noun\n",
            ",  - PUNCT  - PUNCT  - punctuation\n",
            "al  - ADP  - ADP  - adposition\n",
            "contrario  - NOUN  - NOUN  - noun\n",
            "que  - SCONJ  - SCONJ  - subordinating conjunction\n",
            "las  - DET  - DET  - determiner\n",
            "de  - ADP  - ADP  - adposition\n",
            "Chile  - PROPN  - PROPN  - proper noun\n",
            "y  - CCONJ  - CCONJ  - coordinating conjunction\n",
            "Perú  - PROPN  - PROPN  - proper noun\n",
            ".  - PUNCT  - PUNCT  - punctuation\n",
            "El  - DET  - DET  - determiner\n",
            "combinado  - NOUN  - NOUN  - noun\n",
            "peruano  - ADJ  - ADJ  - adjective\n",
            ",  - PUNCT  - PUNCT  - punctuation\n",
            "que  - PRON  - PRON  - pronoun\n",
            "terminó  - VERB  - VERB  - verb\n",
            "quinto  - ADV  - ADV  - adverb\n",
            "por  - ADP  - ADP  - adposition\n",
            "detrás  - ADV  - ADV  - adverb\n",
            "del  - DET  - DET  - determiner\n",
            "ecuatoriano  - NOUN  - NOUN  - noun\n",
            ",  - PUNCT  - PUNCT  - punctuation\n",
            "disputará  - VERB  - VERB  - verb\n",
            "una  - DET  - DET  - determiner\n",
            "repesca  - NOUN  - NOUN  - noun\n",
            ".  - PUNCT  - PUNCT  - punctuation\n",
            "El  - DET  - DET  - determiner\n",
            "defensa  - NOUN  - NOUN  - noun\n",
            "fue  - AUX  - AUX  - auxiliary\n",
            "alineado  - VERB  - VERB  - verb\n",
            "por  - ADP  - ADP  - adposition\n",
            "el  - DET  - DET  - determiner\n",
            "seleccionador  - NOUN  - NOUN  - noun\n",
            "ecuatoriano  - ADJ  - ADJ  - adjective\n",
            "Gustavo  - PROPN  - PROPN  - proper noun\n",
            "Alfaro  - PROPN  - PROPN  - proper noun\n",
            "para  - ADP  - ADP  - adposition\n",
            "los  - DET  - DET  - determiner\n",
            "dos  - NUM  - NUM  - numeral\n",
            "partidos  - NOUN  - NOUN  - noun\n",
            "contra  - ADP  - ADP  - adposition\n",
            "Paraguay  - PROPN  - PROPN  - proper noun\n",
            "y  - CCONJ  - CCONJ  - coordinating conjunction\n",
            "Chile  - PROPN  - PROPN  - proper noun\n",
            "y  - CCONJ  - CCONJ  - coordinating conjunction\n",
            "en  - ADP  - ADP  - adposition\n",
            "una  - DET  - DET  - determiner\n",
            "ocasión  - NOUN  - NOUN  - noun\n",
            "ante  - ADP  - ADP  - adposition\n",
            "Uruguay  - PROPN  - PROPN  - proper noun\n",
            ",  - PUNCT  - PUNCT  - punctuation\n",
            "Bolivia  - PROPN  - PROPN  - proper noun\n",
            ",  - PUNCT  - PUNCT  - punctuation\n",
            "Venezuela  - PROPN  - PROPN  - proper noun\n",
            "y  - CCONJ  - CCONJ  - coordinating conjunction\n",
            "Argentina  - PROPN  - PROPN  - proper noun\n",
            ",  - PUNCT  - PUNCT  - punctuation\n",
            "partidos  - NOUN  - NOUN  - noun\n",
            "clave  - NOUN  - NOUN  - noun\n",
            "para  - ADP  - ADP  - adposition\n",
            "que  - SCONJ  - SCONJ  - subordinating conjunction\n",
            "el  - DET  - DET  - determiner\n",
            "equipo  - NOUN  - NOUN  - noun\n",
            "lograse  - VERB  - VERB  - verb\n",
            "uno  - PRON  - PRON  - pronoun\n",
            "de  - ADP  - ADP  - adposition\n",
            "los  - DET  - DET  - determiner\n",
            "cupos  - NOUN  - NOUN  - noun\n",
            "directos  - ADJ  - ADJ  - adjective\n",
            "para  - ADP  - ADP  - adposition\n",
            "el  - DET  - DET  - determiner\n",
            "Mundial  - PROPN  - PROPN  - proper noun\n",
            ".  - PUNCT  - PUNCT  - punctuation\n",
            "\"Innumerables  - ADJ  - ADJ  - adjective\n",
            "pruebas  - NOUN  - NOUN  - noun\n",
            "de  - ADP  - ADP  - adposition\n",
            "que  - SCONJ  - SCONJ  - subordinating conjunction\n",
            "nació  - VERB  - VERB  - verb\n",
            "en  - ADP  - ADP  - adposition\n",
            "Colombia\"La  - NOUN  - NOUN  - noun\n",
            "Federación  - PROPN  - PROPN  - proper noun\n",
            "de  - ADP  - ADP  - adposition\n",
            "Chile  - PROPN  - PROPN  - proper noun\n",
            "denunció  - VERB  - VERB  - verb\n",
            "el  - DET  - DET  - determiner\n",
            "pasado  - ADJ  - ADJ  - adjective\n",
            "día  - NOUN  - NOUN  - noun\n",
            "5  - NUM  - NUM  - numeral\n",
            "que  - PRON  - PRON  - pronoun\n",
            "hay  - AUX  - AUX  - auxiliary\n",
            "\"  - PUNCT  - PUNCT  - punctuation\n",
            "innumerables  - ADJ  - ADJ  - adjective\n",
            "pruebas  - NOUN  - NOUN  - noun\n",
            "de  - ADP  - ADP  - adposition\n",
            "que  - SCONJ  - SCONJ  - subordinating conjunction\n",
            "el  - DET  - DET  - determiner\n",
            "jugador  - NOUN  - NOUN  - noun\n",
            "nació  - VERB  - VERB  - verb\n",
            "en  - ADP  - ADP  - adposition\n",
            "Colombia\"  - NOUN  - NOUN  - noun\n",
            ".  - PUNCT  - PUNCT  - punctuation\n",
            "\"Las  - DET  - DET  - determiner\n",
            "investigaciones  - NOUN  - NOUN  - noun\n",
            "realizadas  - ADJ  - ADJ  - adjective\n",
            "en  - ADP  - ADP  - adposition\n",
            "Ecuador  - PROPN  - PROPN  - proper noun\n",
            ",  - PUNCT  - PUNCT  - punctuation\n",
            "entre  - ADP  - ADP  - adposition\n",
            "ellas  - PRON  - PRON  - pronoun\n",
            ",  - PUNCT  - PUNCT  - punctuation\n",
            "un  - DET  - DET  - determiner\n",
            "informe  - NOUN  - NOUN  - noun\n",
            "jurídico  - ADJ  - ADJ  - adjective\n",
            "de  - ADP  - ADP  - adposition\n",
            "la  - DET  - DET  - determiner\n",
            "Dirección  - PROPN  - PROPN  - proper noun\n",
            "Nacional  - PROPN  - PROPN  - proper noun\n",
            "de  - ADP  - ADP  - adposition\n",
            "Registro  - PROPN  - PROPN  - proper noun\n",
            "Civil  - PROPN  - PROPN  - proper noun\n",
            ",  - PUNCT  - PUNCT  - punctuation\n",
            "declararon  - VERB  - VERB  - verb\n",
            "la  - DET  - DET  - determiner\n",
            "existencia  - NOUN  - NOUN  - noun\n",
            "de  - ADP  - ADP  - adposition\n",
            "inconsistencias  - NOUN  - NOUN  - noun\n",
            "en  - ADP  - ADP  - adposition\n",
            "el  - DET  - DET  - determiner\n",
            "certificado  - NOUN  - NOUN  - noun\n",
            "de  - ADP  - ADP  - adposition\n",
            "nacimiento  - NOUN  - NOUN  - noun\n",
            "presentado  - ADJ  - ADJ  - adjective\n",
            "por  - ADP  - ADP  - adposition\n",
            "el  - DET  - DET  - determiner\n",
            "jugador  - NOUN  - NOUN  - noun\n",
            "\"  - PUNCT  - PUNCT  - punctuation\n",
            ",  - PUNCT  - PUNCT  - punctuation\n",
            "afirmó  - VERB  - VERB  - verb\n",
            "este  - DET  - DET  - determiner\n",
            "organismo  - NOUN  - NOUN  - noun\n",
            ",  - PUNCT  - PUNCT  - punctuation\n",
            "que  - PRON  - PRON  - pronoun\n",
            "acusó  - VERB  - VERB  - verb\n",
            "a  - ADP  - ADP  - adposition\n",
            "la  - DET  - DET  - determiner\n",
            "Federación  - PROPN  - PROPN  - proper noun\n",
            "Ecuatoriana  - PROPN  - PROPN  - proper noun\n",
            "de  - ADP  - ADP  - adposition\n",
            "tener  - VERB  - VERB  - verb\n",
            "\"  - PUNCT  - PUNCT  - punctuation\n",
            "total  - ADJ  - ADJ  - adjective\n",
            "conocimiento  - NOUN  - NOUN  - noun\n",
            "\"  - PUNCT  - PUNCT  - punctuation\n",
            "de  - ADP  - ADP  - adposition\n",
            "las  - DET  - DET  - determiner\n",
            "irregularidades  - NOUN  - NOUN  - noun\n",
            ".  - PUNCT  - PUNCT  - punctuation\n",
            "Una  - DET  - DET  - determiner\n",
            "posible  - ADJ  - ADJ  - adjective\n",
            "sanción  - NOUN  - NOUN  - noun\n",
            "de  - ADP  - ADP  - adposition\n",
            "la  - DET  - DET  - determiner\n",
            "FIFA  - PROPN  - PROPN  - proper noun\n",
            "podría  - AUX  - AUX  - auxiliary\n",
            "implicar  - VERB  - VERB  - verb\n",
            "la  - DET  - DET  - determiner\n",
            "resta  - NOUN  - NOUN  - noun\n",
            "de  - ADP  - ADP  - adposition\n",
            "puntos  - NOUN  - NOUN  - noun\n",
            "a  - ADP  - ADP  - adposition\n",
            "Ecuador  - PROPN  - PROPN  - proper noun\n",
            "por  - ADP  - ADP  - adposition\n",
            "los  - DET  - DET  - determiner\n",
            "partidos  - NOUN  - NOUN  - noun\n",
            "que  - PRON  - PRON  - pronoun\n",
            "Castillo  - PROPN  - PROPN  - proper noun\n",
            "jugó  - VERB  - VERB  - verb\n",
            ",  - PUNCT  - PUNCT  - punctuation\n",
            "lo  - PRON  - PRON  - pronoun\n",
            "que  - PRON  - PRON  - pronoun\n",
            "alteraría  - VERB  - VERB  - verb\n",
            "la  - DET  - DET  - determiner\n",
            "nómina  - NOUN  - NOUN  - noun\n",
            "de  - ADP  - ADP  - adposition\n",
            "clasificados  - NOUN  - NOUN  - noun\n",
            ".  - PUNCT  - PUNCT  - punctuation\n",
            "Un  - DET  - DET  - determiner\n",
            "informe  - NOUN  - NOUN  - noun\n",
            "técnico  - ADJ  - ADJ  - adjective\n",
            "jurídico  - ADJ  - ADJ  - adjective\n",
            "de  - ADP  - ADP  - adposition\n",
            "la  - DET  - DET  - determiner\n",
            "dirección  - NOUN  - NOUN  - noun\n",
            "nacional  - ADJ  - ADJ  - adjective\n",
            "del  - ADP  - ADP  - adposition\n",
            "registro  - NOUN  - NOUN  - noun\n",
            "civil  - ADJ  - ADJ  - adjective\n",
            "de  - ADP  - ADP  - adposition\n",
            "Ecuador  - PROPN  - PROPN  - proper noun\n",
            "afirma  - VERB  - VERB  - verb\n",
            "que  - SCONJ  - SCONJ  - subordinating conjunction\n",
            "la  - DET  - DET  - determiner\n",
            "inscripción  - NOUN  - NOUN  - noun\n",
            "de  - ADP  - ADP  - adposition\n",
            "nacimiento  - NOUN  - NOUN  - noun\n",
            "de  - ADP  - ADP  - adposition\n",
            "Byron  - PROPN  - PROPN  - proper noun\n",
            "Castillo  - PROPN  - PROPN  - proper noun\n",
            "en  - ADP  - ADP  - adposition\n",
            "la  - DET  - DET  - determiner\n",
            "ciudad  - NOUN  - NOUN  - noun\n",
            "ecuatoriana  - ADJ  - ADJ  - adjective\n",
            "de  - ADP  - ADP  - adposition\n",
            "Guayas  - PROPN  - PROPN  - proper noun\n",
            "no  - ADV  - ADV  - adverb\n",
            "consta  - VERB  - VERB  - verb\n",
            "en  - ADP  - ADP  - adposition\n",
            "el  - DET  - DET  - determiner\n",
            "tomo  - NOUN  - NOUN  - noun\n",
            ",  - PUNCT  - PUNCT  - punctuation\n",
            "la  - DET  - DET  - determiner\n",
            "página  - NOUN  - NOUN  - noun\n",
            "y  - CCONJ  - CCONJ  - coordinating conjunction\n",
            "el  - DET  - DET  - determiner\n",
            "acta  - NOUN  - NOUN  - noun\n",
            "solicitado  - ADJ  - ADJ  - adjective\n",
            ",  - PUNCT  - PUNCT  - punctuation\n",
            "según  - ADP  - ADP  - adposition\n",
            "un  - DET  - DET  - determiner\n",
            "documento  - NOUN  - NOUN  - noun\n",
            "oficial  - ADJ  - ADJ  - adjective\n",
            ".  - PUNCT  - PUNCT  - punctuation\n"
          ]
        }
      ],
      "source": [
        "for token in doc:\n",
        "  print(token,' -', token.tag_, ' -', token.pos_,' -' ,spacy.explain(token.tag_))"
      ]
    },
    {
      "cell_type": "markdown",
      "metadata": {
        "id": "A9U1VToeTcGl"
      },
      "source": [
        "1. tag_ listas las estructuras finas del POS\n",
        "2. pos_ lista la estructuras gruesas del POS\n",
        "3. spacy.explain da los detalles descriptivos sobre un POS particular"
      ]
    },
    {
      "cell_type": "code",
      "execution_count": null,
      "metadata": {
        "colab": {
          "base_uri": "https://localhost:8080/"
        },
        "id": "ePn4C2N_ToHG",
        "outputId": "221d755a-14df-466d-e2d1-a76cc7530d1b"
      },
      "outputs": [
        {
          "output_type": "stream",
          "name": "stdout",
          "text": [
            "[denuncia, alegaciones, falsificación, documentos, nacionalidad, selección, forma, contrario, combinado, ecuatoriano, repesca, defensa, seleccionador, partidos, ocasión, partidos, clave, equipo, cupos, pruebas, Colombia\"La, día, pruebas, jugador, Colombia\", investigaciones, informe, existencia, inconsistencias, certificado, nacimiento, jugador, organismo, conocimiento, irregularidades, sanción, resta, puntos, partidos, nómina, clasificados, informe, dirección, registro, inscripción, nacimiento, ciudad, tomo, página, acta, documento]\n",
            "[interpuesta, posible, ecuatoriana, directa, junto, peruano, ecuatoriano, directos, \"Innumerables, pasado, innumerables, realizadas, jurídico, presentado, total, posible, técnico, jurídico, nacional, civil, ecuatoriana, solicitado, oficial]\n"
          ]
        }
      ],
      "source": [
        "nouns=[]\n",
        "adjectives=[]\n",
        "for token in doc:\n",
        "  if token.pos_ =='NOUN':\n",
        "    nouns.append(token)\n",
        "  if token.pos_ =='ADJ':\n",
        "    adjectives.append(token)\n",
        "print(nouns)\n",
        "print(adjectives)"
      ]
    },
    {
      "cell_type": "markdown",
      "metadata": {
        "id": "asrthaXMT1j0"
      },
      "source": [
        "# Visualizacion usando spaCY"
      ]
    },
    {
      "cell_type": "code",
      "execution_count": null,
      "metadata": {
        "colab": {
          "base_uri": "https://localhost:8080/",
          "height": 353
        },
        "id": "67YSTloeT3Ou",
        "outputId": "001f1685-2ff8-4a2f-a219-8e29bca65ed1"
      },
      "outputs": [
        {
          "output_type": "display_data",
          "data": {
            "text/plain": [
              "<IPython.core.display.HTML object>"
            ],
            "text/html": [
              "<span class=\"tex2jax_ignore\"><svg xmlns=\"http://www.w3.org/2000/svg\" xmlns:xlink=\"http://www.w3.org/1999/xlink\" xml:lang=\"es\" id=\"7b971c53020e421b942f42c6b032ca8e-0\" class=\"displacy\" width=\"1800\" height=\"312.0\" direction=\"ltr\" style=\"max-width: none; height: 312.0px; color: #000000; background: #ffffff; font-family: Arial; direction: ltr\">\n",
              "<text class=\"displacy-token\" fill=\"currentColor\" text-anchor=\"middle\" y=\"222.0\">\n",
              "    <tspan class=\"displacy-word\" fill=\"currentColor\" x=\"50\">el</tspan>\n",
              "    <tspan class=\"displacy-tag\" dy=\"2em\" fill=\"currentColor\" x=\"50\">DET</tspan>\n",
              "</text>\n",
              "\n",
              "<text class=\"displacy-token\" fill=\"currentColor\" text-anchor=\"middle\" y=\"222.0\">\n",
              "    <tspan class=\"displacy-word\" fill=\"currentColor\" x=\"225\">se</tspan>\n",
              "    <tspan class=\"displacy-tag\" dy=\"2em\" fill=\"currentColor\" x=\"225\">PRON</tspan>\n",
              "</text>\n",
              "\n",
              "<text class=\"displacy-token\" fill=\"currentColor\" text-anchor=\"middle\" y=\"222.0\">\n",
              "    <tspan class=\"displacy-word\" fill=\"currentColor\" x=\"400\">encuentra</tspan>\n",
              "    <tspan class=\"displacy-tag\" dy=\"2em\" fill=\"currentColor\" x=\"400\">VERB</tspan>\n",
              "</text>\n",
              "\n",
              "<text class=\"displacy-token\" fill=\"currentColor\" text-anchor=\"middle\" y=\"222.0\">\n",
              "    <tspan class=\"displacy-word\" fill=\"currentColor\" x=\"575\">interesado</tspan>\n",
              "    <tspan class=\"displacy-tag\" dy=\"2em\" fill=\"currentColor\" x=\"575\">ADJ</tspan>\n",
              "</text>\n",
              "\n",
              "<text class=\"displacy-token\" fill=\"currentColor\" text-anchor=\"middle\" y=\"222.0\">\n",
              "    <tspan class=\"displacy-word\" fill=\"currentColor\" x=\"750\">en</tspan>\n",
              "    <tspan class=\"displacy-tag\" dy=\"2em\" fill=\"currentColor\" x=\"750\">ADP</tspan>\n",
              "</text>\n",
              "\n",
              "<text class=\"displacy-token\" fill=\"currentColor\" text-anchor=\"middle\" y=\"222.0\">\n",
              "    <tspan class=\"displacy-word\" fill=\"currentColor\" x=\"925\">aprender</tspan>\n",
              "    <tspan class=\"displacy-tag\" dy=\"2em\" fill=\"currentColor\" x=\"925\">VERB</tspan>\n",
              "</text>\n",
              "\n",
              "<text class=\"displacy-token\" fill=\"currentColor\" text-anchor=\"middle\" y=\"222.0\">\n",
              "    <tspan class=\"displacy-word\" fill=\"currentColor\" x=\"1100\">Procesamiento</tspan>\n",
              "    <tspan class=\"displacy-tag\" dy=\"2em\" fill=\"currentColor\" x=\"1100\">PROPN</tspan>\n",
              "</text>\n",
              "\n",
              "<text class=\"displacy-token\" fill=\"currentColor\" text-anchor=\"middle\" y=\"222.0\">\n",
              "    <tspan class=\"displacy-word\" fill=\"currentColor\" x=\"1275\">de</tspan>\n",
              "    <tspan class=\"displacy-tag\" dy=\"2em\" fill=\"currentColor\" x=\"1275\">ADP</tspan>\n",
              "</text>\n",
              "\n",
              "<text class=\"displacy-token\" fill=\"currentColor\" text-anchor=\"middle\" y=\"222.0\">\n",
              "    <tspan class=\"displacy-word\" fill=\"currentColor\" x=\"1450\">Lenguaje</tspan>\n",
              "    <tspan class=\"displacy-tag\" dy=\"2em\" fill=\"currentColor\" x=\"1450\">PROPN</tspan>\n",
              "</text>\n",
              "\n",
              "<text class=\"displacy-token\" fill=\"currentColor\" text-anchor=\"middle\" y=\"222.0\">\n",
              "    <tspan class=\"displacy-word\" fill=\"currentColor\" x=\"1625\">Natural</tspan>\n",
              "    <tspan class=\"displacy-tag\" dy=\"2em\" fill=\"currentColor\" x=\"1625\">PROPN</tspan>\n",
              "</text>\n",
              "\n",
              "<g class=\"displacy-arrow\">\n",
              "    <path class=\"displacy-arc\" id=\"arrow-7b971c53020e421b942f42c6b032ca8e-0-0\" stroke-width=\"2px\" d=\"M70,177.0 C70,2.0 400.0,2.0 400.0,177.0\" fill=\"none\" stroke=\"currentColor\"/>\n",
              "    <text dy=\"1.25em\" style=\"font-size: 0.8em; letter-spacing: 1px\">\n",
              "        <textPath xlink:href=\"#arrow-7b971c53020e421b942f42c6b032ca8e-0-0\" class=\"displacy-label\" startOffset=\"50%\" side=\"left\" fill=\"currentColor\" text-anchor=\"middle\">nsubj</textPath>\n",
              "    </text>\n",
              "    <path class=\"displacy-arrowhead\" d=\"M70,179.0 L62,167.0 78,167.0\" fill=\"currentColor\"/>\n",
              "</g>\n",
              "\n",
              "<g class=\"displacy-arrow\">\n",
              "    <path class=\"displacy-arc\" id=\"arrow-7b971c53020e421b942f42c6b032ca8e-0-1\" stroke-width=\"2px\" d=\"M245,177.0 C245,89.5 395.0,89.5 395.0,177.0\" fill=\"none\" stroke=\"currentColor\"/>\n",
              "    <text dy=\"1.25em\" style=\"font-size: 0.8em; letter-spacing: 1px\">\n",
              "        <textPath xlink:href=\"#arrow-7b971c53020e421b942f42c6b032ca8e-0-1\" class=\"displacy-label\" startOffset=\"50%\" side=\"left\" fill=\"currentColor\" text-anchor=\"middle\">expl:pv</textPath>\n",
              "    </text>\n",
              "    <path class=\"displacy-arrowhead\" d=\"M245,179.0 L237,167.0 253,167.0\" fill=\"currentColor\"/>\n",
              "</g>\n",
              "\n",
              "<g class=\"displacy-arrow\">\n",
              "    <path class=\"displacy-arc\" id=\"arrow-7b971c53020e421b942f42c6b032ca8e-0-2\" stroke-width=\"2px\" d=\"M420,177.0 C420,89.5 570.0,89.5 570.0,177.0\" fill=\"none\" stroke=\"currentColor\"/>\n",
              "    <text dy=\"1.25em\" style=\"font-size: 0.8em; letter-spacing: 1px\">\n",
              "        <textPath xlink:href=\"#arrow-7b971c53020e421b942f42c6b032ca8e-0-2\" class=\"displacy-label\" startOffset=\"50%\" side=\"left\" fill=\"currentColor\" text-anchor=\"middle\">xcomp</textPath>\n",
              "    </text>\n",
              "    <path class=\"displacy-arrowhead\" d=\"M570.0,179.0 L578.0,167.0 562.0,167.0\" fill=\"currentColor\"/>\n",
              "</g>\n",
              "\n",
              "<g class=\"displacy-arrow\">\n",
              "    <path class=\"displacy-arc\" id=\"arrow-7b971c53020e421b942f42c6b032ca8e-0-3\" stroke-width=\"2px\" d=\"M770,177.0 C770,89.5 920.0,89.5 920.0,177.0\" fill=\"none\" stroke=\"currentColor\"/>\n",
              "    <text dy=\"1.25em\" style=\"font-size: 0.8em; letter-spacing: 1px\">\n",
              "        <textPath xlink:href=\"#arrow-7b971c53020e421b942f42c6b032ca8e-0-3\" class=\"displacy-label\" startOffset=\"50%\" side=\"left\" fill=\"currentColor\" text-anchor=\"middle\">mark</textPath>\n",
              "    </text>\n",
              "    <path class=\"displacy-arrowhead\" d=\"M770,179.0 L762,167.0 778,167.0\" fill=\"currentColor\"/>\n",
              "</g>\n",
              "\n",
              "<g class=\"displacy-arrow\">\n",
              "    <path class=\"displacy-arc\" id=\"arrow-7b971c53020e421b942f42c6b032ca8e-0-4\" stroke-width=\"2px\" d=\"M595,177.0 C595,2.0 925.0,2.0 925.0,177.0\" fill=\"none\" stroke=\"currentColor\"/>\n",
              "    <text dy=\"1.25em\" style=\"font-size: 0.8em; letter-spacing: 1px\">\n",
              "        <textPath xlink:href=\"#arrow-7b971c53020e421b942f42c6b032ca8e-0-4\" class=\"displacy-label\" startOffset=\"50%\" side=\"left\" fill=\"currentColor\" text-anchor=\"middle\">xcomp</textPath>\n",
              "    </text>\n",
              "    <path class=\"displacy-arrowhead\" d=\"M925.0,179.0 L933.0,167.0 917.0,167.0\" fill=\"currentColor\"/>\n",
              "</g>\n",
              "\n",
              "<g class=\"displacy-arrow\">\n",
              "    <path class=\"displacy-arc\" id=\"arrow-7b971c53020e421b942f42c6b032ca8e-0-5\" stroke-width=\"2px\" d=\"M945,177.0 C945,89.5 1095.0,89.5 1095.0,177.0\" fill=\"none\" stroke=\"currentColor\"/>\n",
              "    <text dy=\"1.25em\" style=\"font-size: 0.8em; letter-spacing: 1px\">\n",
              "        <textPath xlink:href=\"#arrow-7b971c53020e421b942f42c6b032ca8e-0-5\" class=\"displacy-label\" startOffset=\"50%\" side=\"left\" fill=\"currentColor\" text-anchor=\"middle\">obj</textPath>\n",
              "    </text>\n",
              "    <path class=\"displacy-arrowhead\" d=\"M1095.0,179.0 L1103.0,167.0 1087.0,167.0\" fill=\"currentColor\"/>\n",
              "</g>\n",
              "\n",
              "<g class=\"displacy-arrow\">\n",
              "    <path class=\"displacy-arc\" id=\"arrow-7b971c53020e421b942f42c6b032ca8e-0-6\" stroke-width=\"2px\" d=\"M1295,177.0 C1295,89.5 1445.0,89.5 1445.0,177.0\" fill=\"none\" stroke=\"currentColor\"/>\n",
              "    <text dy=\"1.25em\" style=\"font-size: 0.8em; letter-spacing: 1px\">\n",
              "        <textPath xlink:href=\"#arrow-7b971c53020e421b942f42c6b032ca8e-0-6\" class=\"displacy-label\" startOffset=\"50%\" side=\"left\" fill=\"currentColor\" text-anchor=\"middle\">case</textPath>\n",
              "    </text>\n",
              "    <path class=\"displacy-arrowhead\" d=\"M1295,179.0 L1287,167.0 1303,167.0\" fill=\"currentColor\"/>\n",
              "</g>\n",
              "\n",
              "<g class=\"displacy-arrow\">\n",
              "    <path class=\"displacy-arc\" id=\"arrow-7b971c53020e421b942f42c6b032ca8e-0-7\" stroke-width=\"2px\" d=\"M1120,177.0 C1120,2.0 1450.0,2.0 1450.0,177.0\" fill=\"none\" stroke=\"currentColor\"/>\n",
              "    <text dy=\"1.25em\" style=\"font-size: 0.8em; letter-spacing: 1px\">\n",
              "        <textPath xlink:href=\"#arrow-7b971c53020e421b942f42c6b032ca8e-0-7\" class=\"displacy-label\" startOffset=\"50%\" side=\"left\" fill=\"currentColor\" text-anchor=\"middle\">flat</textPath>\n",
              "    </text>\n",
              "    <path class=\"displacy-arrowhead\" d=\"M1450.0,179.0 L1458.0,167.0 1442.0,167.0\" fill=\"currentColor\"/>\n",
              "</g>\n",
              "\n",
              "<g class=\"displacy-arrow\">\n",
              "    <path class=\"displacy-arc\" id=\"arrow-7b971c53020e421b942f42c6b032ca8e-0-8\" stroke-width=\"2px\" d=\"M1470,177.0 C1470,89.5 1620.0,89.5 1620.0,177.0\" fill=\"none\" stroke=\"currentColor\"/>\n",
              "    <text dy=\"1.25em\" style=\"font-size: 0.8em; letter-spacing: 1px\">\n",
              "        <textPath xlink:href=\"#arrow-7b971c53020e421b942f42c6b032ca8e-0-8\" class=\"displacy-label\" startOffset=\"50%\" side=\"left\" fill=\"currentColor\" text-anchor=\"middle\">flat</textPath>\n",
              "    </text>\n",
              "    <path class=\"displacy-arrowhead\" d=\"M1620.0,179.0 L1628.0,167.0 1612.0,167.0\" fill=\"currentColor\"/>\n",
              "</g>\n",
              "</svg></span>"
            ]
          },
          "metadata": {}
        }
      ],
      "source": [
        "from spacy import displacy\n",
        "texto = ('el se encuentra interesado en aprender Procesamiento de Lenguaje Natural')\n",
        "t = nlp(texto)\n",
        "displacy.render(t, style='dep',jupyter=True)"
      ]
    },
    {
      "cell_type": "markdown",
      "metadata": {
        "id": "Tkpc-IyM6Vv7"
      },
      "source": [
        "# Caso aplicado: ¿Cómo podemos predecir el sentimiento asociado con una interacción con el cliente?"
      ]
    },
    {
      "cell_type": "code",
      "execution_count": null,
      "metadata": {
        "id": "eY8dg6Hc6e4m"
      },
      "outputs": [],
      "source": [
        "import os\n",
        "from collections import Counter\n",
        "\n",
        "import matplotlib.pyplot as plt\n",
        "import nltk\n",
        "import numpy as np\n",
        "import pandas as pd\n",
        "\n",
        "from pylab import rcParams\n",
        "from wordcloud import WordCloud\n",
        "from nltk import word_tokenize\n",
        "\n",
        "from sklearn.feature_extraction.text import CountVectorizer\n",
        "from sklearn.model_selection import train_test_split\n",
        "from sklearn.linear_model import LogisticRegression\n",
        "from sklearn.metrics import accuracy_score\n",
        "from sklearn.metrics import f1_score\n",
        "from sklearn.ensemble import RandomForestClassifier\n",
        "from sklearn.feature_extraction.text import TfidfVectorizer\n",
        "\n",
        "rcParams['figure.figsize'] = 30, 60\n",
        "%matplotlib inline"
      ]
    },
    {
      "cell_type": "markdown",
      "metadata": {
        "id": "3wPhXiFl6kbd"
      },
      "source": [
        "# Metas\n",
        "\n",
        "Después de trabajar en este caso, debería poder aplicar el análisis de sentimientos a los problemas comerciales. Comprenderá cómo utilizar técnicas de clasificación de texto para crear un modelo de análisis de opiniones y podrá aplicar modelos de opiniones a datos del mundo real.\n",
        "\n",
        "Habrá adquirido experiencia en el uso de varias técnicas diferentes de vectorización y creación de modelos, utilizando bibliotecas populares de Python como scikit-learn y gensim. Habrá utilizado tanto vectorizaciones basadas en conteo como incrustaciones de palabras, y comprenderá los pros y los contras de cada una."
      ]
    },
    {
      "cell_type": "markdown",
      "metadata": {
        "id": "KMDBHuy06rc1"
      },
      "source": [
        "# Introducción\n",
        "**Contexto empresarial**. Eres un científico de datos para una gran empresa de comercio electrónico. Tienes decenas de miles de clientes que escriben reseñas sobre productos cada día. Cada revisión contiene comentarios textuales junto con un sistema de calificación de 1 a 5 estrellas (siendo 1 la menos satisfecha y 5 la más satisfecha).\n",
        "\n",
        "También tiene un equipo de atención al cliente que interactúa con los clientes a través de servicios de llamadas y mensajes. Su empresa también recopila comentarios sobre las experiencias de sus clientes con la interacción del sitio web después de cada compra. Ni este comentario ni el servicio de mensajería tienen un número de calificación. La empresa quiere cuantificar la satisfacción del cliente proveniente de estas interacciones no calificadas para ayudar con futuras decisiones comerciales (por ejemplo, determinar qué tan bien se están desempeñando sus diversos agentes de servicio al cliente).\n",
        "\n",
        "**Problema de negocio** Su tarea es construir modelos que puedan identificar el sentimiento (positivo o negativo) de cada una de estas interacciones no calificadas.\n",
        "\n",
        "**Contexto analitico** Los datos son un conjunto de reseñas en formato de archivo CSV. Combinaremos lo que aprendimos sobre el procesamiento de texto y los modelos de clasificación para desarrollar algoritmos capaces de clasificar las interacciones por sentimiento.\n",
        "\n",
        "El caso está estructurado de la siguiente manera: 1) leerá y analizará los datos del texto de entrada y las variables de respuesta correspondientes (calificaciones); 2) realizara un preprocesamiento básico para preparar los datos para el modelado; 3) aprendera y aplicara varias formas de caracterizar el texto de reseñas; y finalmente 4) construira modelos de aprendizaje automático para clasificar el texto como mostrando un sentimiento positivo o negativo (1 o 0)."
      ]
    },
    {
      "cell_type": "markdown",
      "metadata": {
        "id": "hhEWNyxp7J9a"
      },
      "source": [
        "# Lectura de datos y analisis basico"
      ]
    },
    {
      "cell_type": "code",
      "execution_count": null,
      "metadata": {
        "colab": {
          "base_uri": "https://localhost:8080/"
        },
        "id": "CQFxWy6n7Wda",
        "outputId": "724865e8-5d7e-4473-80ab-a8e14dc2f954"
      },
      "outputs": [
        {
          "output_type": "stream",
          "name": "stdout",
          "text": [
            "Drive already mounted at /content/gdrive; to attempt to forcibly remount, call drive.mount(\"/content/gdrive\", force_remount=True).\n",
            "/content\n"
          ]
        }
      ],
      "source": [
        "from google.colab import drive\n",
        "import os\n",
        "drive.mount('/content/gdrive')\n",
        "# Establecer ruta de acceso en dr\n",
        "import os\n",
        "print(os.getcwd())\n",
        "os.chdir(\"/content/gdrive/My Drive\")"
      ]
    },
    {
      "cell_type": "code",
      "execution_count": null,
      "metadata": {
        "colab": {
          "base_uri": "https://localhost:8080/",
          "height": 423
        },
        "id": "zp73tMGp6haN",
        "outputId": "5807bfbe-72ef-4177-a606-80617982ded5"
      },
      "outputs": [
        {
          "output_type": "execute_result",
          "data": {
            "text/plain": [
              "   Id   ProductId          UserId                      ProfileName  \\\n",
              "0   1  B001E4KFG0  A3SGXH7AUHU8GW                       delmartian   \n",
              "1   2  B00813GRG4  A1D87F6ZCVE5NK                           dll pa   \n",
              "2   3  B000LQOCH0   ABXLMWJIXXAIN  Natalia Corres \"Natalia Corres\"   \n",
              "3   4  B000UA0QIQ  A395BORC6FGVXV                             Karl   \n",
              "4   5  B006K2ZZ7K  A1UQRSCLF8GW1T    Michael D. Bigham \"M. Wassir\"   \n",
              "\n",
              "   HelpfulnessNumerator  HelpfulnessDenominator  Score        Time  \\\n",
              "0                     1                       1      5  1303862400   \n",
              "1                     0                       0      1  1346976000   \n",
              "2                     1                       1      4  1219017600   \n",
              "3                     3                       3      2  1307923200   \n",
              "4                     0                       0      5  1350777600   \n",
              "\n",
              "                 Summary                                               Text  \n",
              "0  Good Quality Dog Food  I have bought several of the Vitality canned d...  \n",
              "1      Not as Advertised  Product arrived labeled as Jumbo Salted Peanut...  \n",
              "2  \"Delight\" says it all  This is a confection that has been around a fe...  \n",
              "3         Cough Medicine  If you are looking for the secret ingredient i...  \n",
              "4            Great taffy  Great taffy at a great price.  There was a wid...  "
            ],
            "text/html": [
              "\n",
              "  <div id=\"df-151c2e37-cea6-4bdd-80bd-1e43b7783bc8\">\n",
              "    <div class=\"colab-df-container\">\n",
              "      <div>\n",
              "<style scoped>\n",
              "    .dataframe tbody tr th:only-of-type {\n",
              "        vertical-align: middle;\n",
              "    }\n",
              "\n",
              "    .dataframe tbody tr th {\n",
              "        vertical-align: top;\n",
              "    }\n",
              "\n",
              "    .dataframe thead th {\n",
              "        text-align: right;\n",
              "    }\n",
              "</style>\n",
              "<table border=\"1\" class=\"dataframe\">\n",
              "  <thead>\n",
              "    <tr style=\"text-align: right;\">\n",
              "      <th></th>\n",
              "      <th>Id</th>\n",
              "      <th>ProductId</th>\n",
              "      <th>UserId</th>\n",
              "      <th>ProfileName</th>\n",
              "      <th>HelpfulnessNumerator</th>\n",
              "      <th>HelpfulnessDenominator</th>\n",
              "      <th>Score</th>\n",
              "      <th>Time</th>\n",
              "      <th>Summary</th>\n",
              "      <th>Text</th>\n",
              "    </tr>\n",
              "  </thead>\n",
              "  <tbody>\n",
              "    <tr>\n",
              "      <th>0</th>\n",
              "      <td>1</td>\n",
              "      <td>B001E4KFG0</td>\n",
              "      <td>A3SGXH7AUHU8GW</td>\n",
              "      <td>delmartian</td>\n",
              "      <td>1</td>\n",
              "      <td>1</td>\n",
              "      <td>5</td>\n",
              "      <td>1303862400</td>\n",
              "      <td>Good Quality Dog Food</td>\n",
              "      <td>I have bought several of the Vitality canned d...</td>\n",
              "    </tr>\n",
              "    <tr>\n",
              "      <th>1</th>\n",
              "      <td>2</td>\n",
              "      <td>B00813GRG4</td>\n",
              "      <td>A1D87F6ZCVE5NK</td>\n",
              "      <td>dll pa</td>\n",
              "      <td>0</td>\n",
              "      <td>0</td>\n",
              "      <td>1</td>\n",
              "      <td>1346976000</td>\n",
              "      <td>Not as Advertised</td>\n",
              "      <td>Product arrived labeled as Jumbo Salted Peanut...</td>\n",
              "    </tr>\n",
              "    <tr>\n",
              "      <th>2</th>\n",
              "      <td>3</td>\n",
              "      <td>B000LQOCH0</td>\n",
              "      <td>ABXLMWJIXXAIN</td>\n",
              "      <td>Natalia Corres \"Natalia Corres\"</td>\n",
              "      <td>1</td>\n",
              "      <td>1</td>\n",
              "      <td>4</td>\n",
              "      <td>1219017600</td>\n",
              "      <td>\"Delight\" says it all</td>\n",
              "      <td>This is a confection that has been around a fe...</td>\n",
              "    </tr>\n",
              "    <tr>\n",
              "      <th>3</th>\n",
              "      <td>4</td>\n",
              "      <td>B000UA0QIQ</td>\n",
              "      <td>A395BORC6FGVXV</td>\n",
              "      <td>Karl</td>\n",
              "      <td>3</td>\n",
              "      <td>3</td>\n",
              "      <td>2</td>\n",
              "      <td>1307923200</td>\n",
              "      <td>Cough Medicine</td>\n",
              "      <td>If you are looking for the secret ingredient i...</td>\n",
              "    </tr>\n",
              "    <tr>\n",
              "      <th>4</th>\n",
              "      <td>5</td>\n",
              "      <td>B006K2ZZ7K</td>\n",
              "      <td>A1UQRSCLF8GW1T</td>\n",
              "      <td>Michael D. Bigham \"M. Wassir\"</td>\n",
              "      <td>0</td>\n",
              "      <td>0</td>\n",
              "      <td>5</td>\n",
              "      <td>1350777600</td>\n",
              "      <td>Great taffy</td>\n",
              "      <td>Great taffy at a great price.  There was a wid...</td>\n",
              "    </tr>\n",
              "  </tbody>\n",
              "</table>\n",
              "</div>\n",
              "      <button class=\"colab-df-convert\" onclick=\"convertToInteractive('df-151c2e37-cea6-4bdd-80bd-1e43b7783bc8')\"\n",
              "              title=\"Convert this dataframe to an interactive table.\"\n",
              "              style=\"display:none;\">\n",
              "        \n",
              "  <svg xmlns=\"http://www.w3.org/2000/svg\" height=\"24px\"viewBox=\"0 0 24 24\"\n",
              "       width=\"24px\">\n",
              "    <path d=\"M0 0h24v24H0V0z\" fill=\"none\"/>\n",
              "    <path d=\"M18.56 5.44l.94 2.06.94-2.06 2.06-.94-2.06-.94-.94-2.06-.94 2.06-2.06.94zm-11 1L8.5 8.5l.94-2.06 2.06-.94-2.06-.94L8.5 2.5l-.94 2.06-2.06.94zm10 10l.94 2.06.94-2.06 2.06-.94-2.06-.94-.94-2.06-.94 2.06-2.06.94z\"/><path d=\"M17.41 7.96l-1.37-1.37c-.4-.4-.92-.59-1.43-.59-.52 0-1.04.2-1.43.59L10.3 9.45l-7.72 7.72c-.78.78-.78 2.05 0 2.83L4 21.41c.39.39.9.59 1.41.59.51 0 1.02-.2 1.41-.59l7.78-7.78 2.81-2.81c.8-.78.8-2.07 0-2.86zM5.41 20L4 18.59l7.72-7.72 1.47 1.35L5.41 20z\"/>\n",
              "  </svg>\n",
              "      </button>\n",
              "      \n",
              "  <style>\n",
              "    .colab-df-container {\n",
              "      display:flex;\n",
              "      flex-wrap:wrap;\n",
              "      gap: 12px;\n",
              "    }\n",
              "\n",
              "    .colab-df-convert {\n",
              "      background-color: #E8F0FE;\n",
              "      border: none;\n",
              "      border-radius: 50%;\n",
              "      cursor: pointer;\n",
              "      display: none;\n",
              "      fill: #1967D2;\n",
              "      height: 32px;\n",
              "      padding: 0 0 0 0;\n",
              "      width: 32px;\n",
              "    }\n",
              "\n",
              "    .colab-df-convert:hover {\n",
              "      background-color: #E2EBFA;\n",
              "      box-shadow: 0px 1px 2px rgba(60, 64, 67, 0.3), 0px 1px 3px 1px rgba(60, 64, 67, 0.15);\n",
              "      fill: #174EA6;\n",
              "    }\n",
              "\n",
              "    [theme=dark] .colab-df-convert {\n",
              "      background-color: #3B4455;\n",
              "      fill: #D2E3FC;\n",
              "    }\n",
              "\n",
              "    [theme=dark] .colab-df-convert:hover {\n",
              "      background-color: #434B5C;\n",
              "      box-shadow: 0px 1px 3px 1px rgba(0, 0, 0, 0.15);\n",
              "      filter: drop-shadow(0px 1px 2px rgba(0, 0, 0, 0.3));\n",
              "      fill: #FFFFFF;\n",
              "    }\n",
              "  </style>\n",
              "\n",
              "      <script>\n",
              "        const buttonEl =\n",
              "          document.querySelector('#df-151c2e37-cea6-4bdd-80bd-1e43b7783bc8 button.colab-df-convert');\n",
              "        buttonEl.style.display =\n",
              "          google.colab.kernel.accessAllowed ? 'block' : 'none';\n",
              "\n",
              "        async function convertToInteractive(key) {\n",
              "          const element = document.querySelector('#df-151c2e37-cea6-4bdd-80bd-1e43b7783bc8');\n",
              "          const dataTable =\n",
              "            await google.colab.kernel.invokeFunction('convertToInteractive',\n",
              "                                                     [key], {});\n",
              "          if (!dataTable) return;\n",
              "\n",
              "          const docLinkHtml = 'Like what you see? Visit the ' +\n",
              "            '<a target=\"_blank\" href=https://colab.research.google.com/notebooks/data_table.ipynb>data table notebook</a>'\n",
              "            + ' to learn more about interactive tables.';\n",
              "          element.innerHTML = '';\n",
              "          dataTable['output_type'] = 'display_data';\n",
              "          await google.colab.output.renderOutput(dataTable, element);\n",
              "          const docLink = document.createElement('div');\n",
              "          docLink.innerHTML = docLinkHtml;\n",
              "          element.appendChild(docLink);\n",
              "        }\n",
              "      </script>\n",
              "    </div>\n",
              "  </div>\n",
              "  "
            ]
          },
          "metadata": {},
          "execution_count": 8
        }
      ],
      "source": [
        "import pandas as pd\n",
        "amazon_reviews = pd.read_csv('Reviews.csv')\n",
        "# Seleccionando solo los primeros 10,000 registros para calculo mas rapido\n",
        "#amazon_reviews = amazon_reviews[:10000]\n",
        "amazon_reviews.head()"
      ]
    },
    {
      "cell_type": "code",
      "execution_count": null,
      "metadata": {
        "colab": {
          "base_uri": "https://localhost:8080/"
        },
        "id": "zJSLM18R0Ytm",
        "outputId": "63568caa-41dd-4e80-d07b-9f9123066a27"
      },
      "outputs": [
        {
          "output_type": "execute_result",
          "data": {
            "text/plain": [
              "(568454, 10)"
            ]
          },
          "metadata": {},
          "execution_count": 25
        }
      ],
      "source": [
        "amazon_reviews.shape"
      ]
    },
    {
      "cell_type": "markdown",
      "metadata": {
        "id": "IsuNvQ957m-W"
      },
      "source": [
        "Columnas del dataset:\n",
        "\n",
        "- **ID**: valor unico para cada fila\n",
        "- **ProductId**: una referencia del producto sobre la reseña\n",
        "- **UserId**: una referencia del usuario que dejo el review\n",
        "- **HelpfulnessNumerator**: numero de lectores que han indicado que la reseña ayuda o es interesante\n",
        "- **HelpfulnessDenominator**: numero total de personas que han dado una indicacion de si la reseña ha sido util o no\n",
        "- **Score**:  rating (1-5)\n",
        "- **Time**: fecha formato timestamp que indica cuando se creo la revision\n",
        "- **Summary**: El resumen escrito por el usuario de lo que trata la reseña\n",
        "- **Text**: la revisión escrita por el usuario"
      ]
    },
    {
      "cell_type": "markdown",
      "metadata": {
        "id": "dq6TigUN8Zxy"
      },
      "source": [
        "Miremos la distribucion del numero de palabras por review"
      ]
    },
    {
      "cell_type": "code",
      "execution_count": null,
      "metadata": {
        "colab": {
          "base_uri": "https://localhost:8080/",
          "height": 312
        },
        "id": "FRoXoAfh8cUJ",
        "outputId": "bbaa1f91-c571-4acf-e01c-b224ffafce35"
      },
      "outputs": [
        {
          "output_type": "execute_result",
          "data": {
            "text/plain": [
              "Text(0, 0.5, 'Frecuencia')"
            ]
          },
          "metadata": {},
          "execution_count": 26
        },
        {
          "output_type": "display_data",
          "data": {
            "text/plain": [
              "<Figure size 432x288 with 1 Axes>"
            ],
            "image/png": "[encoded data removed]"
          },
          "metadata": {
            "needs_background": "light"
          }
        }
      ],
      "source": [
        "words_per_review = amazon_reviews.Text.apply(lambda x: len(x.split(\" \")))\n",
        "words_per_review.hist(bins = 100)\n",
        "plt.title('Numero de palabras por revision')\n",
        "plt.xlabel('Palabras')\n",
        "plt.ylabel('Frecuencia')"
      ]
    },
    {
      "cell_type": "code",
      "execution_count": null,
      "metadata": {
        "colab": {
          "base_uri": "https://localhost:8080/"
        },
        "id": "7mcYXdhd8f1Z",
        "outputId": "8f66b9ed-4891-431d-ef4c-11fb18d6a3e8"
      },
      "outputs": [
        {
          "output_type": "execute_result",
          "data": {
            "text/plain": [
              "82.00552199474363"
            ]
          },
          "metadata": {},
          "execution_count": 27
        }
      ],
      "source": [
        "words_per_review.mean()"
      ]
    },
    {
      "cell_type": "markdown",
      "metadata": {
        "id": "rRCyuNQ38gmB"
      },
      "source": [
        "Distrobucion de los ratings"
      ]
    },
    {
      "cell_type": "code",
      "execution_count": null,
      "metadata": {
        "colab": {
          "base_uri": "https://localhost:8080/"
        },
        "id": "CIio-PLz8iHJ",
        "outputId": "26880ad1-8b4c-43c8-b0aa-e45ab43a1323"
      },
      "outputs": [
        {
          "output_type": "execute_result",
          "data": {
            "text/plain": [
              "5    363122\n",
              "4     80655\n",
              "1     52268\n",
              "3     42640\n",
              "2     29769\n",
              "Name: Score, dtype: int64"
            ]
          },
          "metadata": {},
          "execution_count": 28
        }
      ],
      "source": [
        "amazon_reviews.Score.value_counts()"
      ]
    },
    {
      "cell_type": "code",
      "execution_count": null,
      "metadata": {
        "colab": {
          "base_uri": "https://localhost:8080/"
        },
        "id": "wWAVP9ad8jSL",
        "outputId": "05b71eaf-3f8e-4f75-c2d6-6fc1c8fd8388"
      },
      "outputs": [
        {
          "output_type": "execute_result",
          "data": {
            "text/plain": [
              "5    63.878871\n",
              "4    14.188483\n",
              "1     9.194763\n",
              "3     7.501047\n",
              "2     5.236835\n",
              "Name: Score, dtype: float64"
            ]
          },
          "metadata": {},
          "execution_count": 29
        }
      ],
      "source": [
        "percent_val = 100 * amazon_reviews.Score.value_counts()/amazon_reviews.shape[0]\n",
        "percent_val"
      ]
    },
    {
      "cell_type": "code",
      "execution_count": null,
      "metadata": {
        "colab": {
          "base_uri": "https://localhost:8080/",
          "height": 309
        },
        "id": "GUlRhwhj8lEa",
        "outputId": "2dd095f3-661d-4ad7-86e3-40ccd129bb8d"
      },
      "outputs": [
        {
          "output_type": "execute_result",
          "data": {
            "text/plain": [
              "Text(0, 0.5, 'Porcentaje (%)')"
            ]
          },
          "metadata": {},
          "execution_count": 30
        },
        {
          "output_type": "display_data",
          "data": {
            "text/plain": [
              "<Figure size 432x288 with 1 Axes>"
            ],
            "image/png": "[encoded data removed]"
          },
          "metadata": {
            "needs_background": "light"
          }
        }
      ],
      "source": [
        "percent_val.plot.bar()\n",
        "plt.title('Revisiones por scores')\n",
        "plt.xlabel('Score')\n",
        "plt.ylabel('Porcentaje (%)')"
      ]
    },
    {
      "cell_type": "markdown",
      "metadata": {
        "id": "jJMFaoaW8oE7"
      },
      "source": [
        "la distribucion es asimetrica, con un gran valor para los ratings de 5s y pocos par 3,2 y 1"
      ]
    },
    {
      "cell_type": "markdown",
      "metadata": {
        "id": "z6JfoGI18uT2"
      },
      "source": [
        "# Wordcloud"
      ]
    },
    {
      "cell_type": "code",
      "source": [
        "amazon_reviews.Text -\n",
        "amazon_reviews['Text']"
      ],
      "metadata": {
        "id": "up7614eceT7J"
      },
      "execution_count": null,
      "outputs": []
    },
    {
      "cell_type": "code",
      "execution_count": null,
      "metadata": {
        "colab": {
          "base_uri": "https://localhost:8080/",
          "height": 374
        },
        "id": "p4T2z4H-8vat",
        "outputId": "41dbe3ad-a2f7-4bfb-9341-2b74210e62b6"
      },
      "outputs": [
        {
          "output_type": "stream",
          "name": "stdout",
          "text": [
            "247972188\n"
          ]
        },
        {
          "output_type": "display_data",
          "data": {
            "text/plain": [
              "<Figure size 864x432 with 1 Axes>"
            ],
            "image/png": "[encoded data removed]"
          },
          "metadata": {
            "needs_background": "light"
          }
        }
      ],
      "source": [
        "word_cloud_text = ''.join(amazon_reviews.Text)\n",
        "print(len(word_cloud_text))\n",
        "\n",
        "wordcloud = WordCloud(\n",
        "    max_font_size=100,\n",
        "    max_words=100,\n",
        "    background_color=\"white\",\n",
        "    scale=10,\n",
        "    width=800,\n",
        "    height=400\n",
        ").generate(word_cloud_text)\n",
        "\n",
        "plt.figure(figsize=(12,6))\n",
        "plt.imshow(wordcloud, interpolation=\"bilinear\")\n",
        "plt.axis(\"off\")\n",
        "plt.show()"
      ]
    },
    {
      "cell_type": "markdown",
      "metadata": {
        "id": "qQK8Ykur80AZ"
      },
      "source": [
        "El wordcloud muestra que hat muchos reviews que hablan sobre temas de comida (cafe, sabores, sabor, bebidas), tambien se observan otras palabras como bueno, amor y el mejor"
      ]
    },
    {
      "cell_type": "markdown",
      "metadata": {
        "id": "oCIjwyvX9DnC"
      },
      "source": [
        "# Estandarizacion de ratings para analisis de sentimiento"
      ]
    },
    {
      "cell_type": "markdown",
      "metadata": {
        "id": "CFpvV3IP9HPt"
      },
      "source": [
        "Para propositos del analisis de sentimiento convertiremos todos los ratings en valores binarios con las siguientes reglas:\n",
        "- ratings de 4 o 5 seran convertidos a 1 (positivo)\n",
        "- ratings de 1 o 2 seran convertidos a 0 (negativo)\n",
        "- ratings de 3 seran removidos del analisis"
      ]
    },
    {
      "cell_type": "code",
      "execution_count": null,
      "metadata": {
        "colab": {
          "base_uri": "https://localhost:8080/"
        },
        "id": "XE3s2uHi9W0t",
        "outputId": "4336b236-30d1-4d22-f397-2c95d5102110"
      },
      "outputs": [
        {
          "output_type": "execute_result",
          "data": {
            "text/plain": [
              "1    443777\n",
              "0    124677\n",
              "Name: Sentiment_rating, dtype: int64"
            ]
          },
          "metadata": {},
          "execution_count": 32
        }
      ],
      "source": [
        "amazon_reviews['Sentiment_rating'] = np.where(amazon_reviews.Score > 3, 1, 0)\n",
        "amazon_reviews['Sentiment_rating'].value_counts()"
      ]
    },
    {
      "cell_type": "markdown",
      "source": [],
      "metadata": {
        "id": "SbbvDI5ifymN"
      }
    },
    {
      "cell_type": "markdown",
      "source": [
        "!= negativo"
      ],
      "metadata": {
        "id": "No0ZOzvof1Ls"
      }
    },
    {
      "cell_type": "code",
      "execution_count": null,
      "metadata": {
        "id": "Ne9ciavE9Gp-"
      },
      "outputs": [],
      "source": [
        "# removiendo neutrales\n",
        "amazon_reviews = amazon_reviews[amazon_reviews.Score != 3]"
      ]
    },
    {
      "cell_type": "code",
      "execution_count": null,
      "metadata": {
        "colab": {
          "base_uri": "https://localhost:8080/",
          "height": 309
        },
        "id": "7EFLK3p69ajb",
        "outputId": "7213f3f0-5277-4471-ce6a-df03d0a58f83"
      },
      "outputs": [
        {
          "output_type": "execute_result",
          "data": {
            "text/plain": [
              "Text(0, 0.5, 'Frecuencia')"
            ]
          },
          "metadata": {},
          "execution_count": 34
        },
        {
          "output_type": "display_data",
          "data": {
            "text/plain": [
              "<Figure size 432x288 with 1 Axes>"
            ],
            "image/png": "[encoded data removed]"
          },
          "metadata": {
            "needs_background": "light"
          }
        }
      ],
      "source": [
        "#rcParams['figure.figsize'] = 8, 5\n",
        "amazon_reviews.Sentiment_rating.value_counts().plot.bar()\n",
        "plt.title('Scores luego de estandarizacion')\n",
        "plt.xlabel('Score')\n",
        "plt.ylabel('Frecuencia')"
      ]
    },
    {
      "cell_type": "markdown",
      "metadata": {
        "id": "yQHkuA0Y9e2q"
      },
      "source": [
        "# Preprocesamiento"
      ]
    },
    {
      "cell_type": "markdown",
      "metadata": {
        "id": "DqxWLz1PAfer"
      },
      "source": [
        "Recordemos que el preprocesamiento de texto y la normalizacion es crucial antes de desarrollar un modelo de NLP, algunos pasos importantes son:\n",
        "1. Convertir palabras a minusculas\n",
        "2. remover caracteres especiales\n",
        "3. remover stopwords y palabras de alta frecuencia\n",
        "4. Stemming y lemantizacion\n",
        "\n",
        "Procedamos con la primera fase"
      ]
    },
    {
      "cell_type": "code",
      "execution_count": null,
      "metadata": {
        "id": "nqPMAWzaAzWk"
      },
      "outputs": [],
      "source": [
        "amazon_reviews['reviews_text_new'] = amazon_reviews.Text.apply(lambda x: x.lower())"
      ]
    },
    {
      "cell_type": "markdown",
      "metadata": {
        "id": "417Vf1C4A1oI"
      },
      "source": [
        "Las siguientes fases:"
      ]
    },
    {
      "cell_type": "code",
      "execution_count": null,
      "metadata": {
        "colab": {
          "base_uri": "https://localhost:8080/"
        },
        "id": "zC_-ZELYA3Iz",
        "outputId": "f2ca7a61-0667-4741-bbf2-1989efe2bdcf"
      },
      "outputs": [
        {
          "output_type": "stream",
          "name": "stderr",
          "text": [
            "[nltk_data] Downloading package punkt to /root/nltk_data...\n",
            "[nltk_data]   Package punkt is already up-to-date!\n"
          ]
        },
        {
          "output_type": "stream",
          "name": "stdout",
          "text": [
            "Numero de tokens unicos antes:  240699\n",
            "Numero de tokens unicos nuevos:  197737\n"
          ]
        }
      ],
      "source": [
        "from nltk import word_tokenize\n",
        "import nltk\n",
        "\n",
        "nltk.download('punkt')\n",
        "\n",
        "token_lists = [word_tokenize(each) for each in amazon_reviews.Text]\n",
        "tokens = [item for sublist in token_lists for item in sublist]\n",
        "print(\"Numero de tokens unicos antes: \", len(set(tokens)))\n",
        "\n",
        "token_lists_lower = [word_tokenize(each) for each in amazon_reviews.reviews_text_new]\n",
        "tokens_lower = [item for sublist in token_lists_lower for item in sublist]\n",
        "print(\"Numero de tokens unicos nuevos: \", len(set(tokens_lower)))"
      ]
    },
    {
      "cell_type": "code",
      "execution_count": null,
      "metadata": {
        "colab": {
          "base_uri": "https://localhost:8080/"
        },
        "id": "2Ixj5AbQBFaN",
        "outputId": "fa76a564-ece9-445a-86cb-78bf10ac01b0"
      },
      "outputs": [
        {
          "output_type": "execute_result",
          "data": {
            "text/plain": [
              "-0.18043657478762679"
            ]
          },
          "metadata": {},
          "execution_count": 37
        }
      ],
      "source": [
        "(22865-27899)/27899"
      ]
    },
    {
      "cell_type": "markdown",
      "metadata": {
        "id": "EQBzVKWlA_-0"
      },
      "source": [
        "El numero de tokens han bajado en cerca del 18% con la normalizacion"
      ]
    },
    {
      "cell_type": "markdown",
      "metadata": {
        "id": "uIH8nmc8BMav"
      },
      "source": [
        "¿Es la eliminación de caracteres especiales incluso una buena idea? ¿Cuáles son algunos ejemplos de caracteres que probablemente sería seguro eliminar y cuáles no?"
      ]
    },
    {
      "cell_type": "markdown",
      "metadata": {
        "id": "8SnPc7g6BV9N"
      },
      "source": [
        "Eliminar caracteres especiales es una decisión subjetiva, especialmente en casos como este. Las personas a menudo usan caracteres especiales para expresar sus emociones y pueden dejar una reseña como \"¡¡¡Este producto es el peor!!!\", mientras que una reseña positiva podría ser \"Este producto es el mejor\". ¡Me encantó!' Aquí, la presencia de signos de exclamación indica claramente algo sobre el sentimiento subyacente, por lo que eliminarlos puede no ser una buena idea.\n",
        "\n",
        "Por otro lado, eliminar la puntuación sin carga emocional, como las comas, los puntos y el punto y coma, probablemente sea seguro.\n",
        "\n",
        "En aras de la simplicidad, procederemos eliminando todos los caracteres especiales; sin embargo, vale la pena tener en cuenta que esto es algo para revisar dependiendo de los resultados que obtengamos más adelante. Lo siguiente da una lista de todos los caracteres especiales en nuestro conjunto de datos:"
      ]
    },
    {
      "cell_type": "code",
      "execution_count": null,
      "metadata": {
        "colab": {
          "base_uri": "https://localhost:8080/"
        },
        "id": "33IALa4i9gB8",
        "outputId": "880b9f4a-ec6b-4fbe-db84-e2d21f0d057d"
      },
      "outputs": [
        {
          "output_type": "stream",
          "name": "stdout",
          "text": [
            "{'&', '@', ',', '#', '!', ')', '-', '_', '>', '$', '^', '×', '[', '»', '¢', '\\x06', '=', '¨', '©', '°', '¦', '%', '\\xad', '¬', '{', '±', '§', ':', '}', '.', '`', \"'\", '+', '?', '·', '\\x07', ']', '®', '(', '\"', '\\x99', '\\\\', '/', '£', '|', '\\x0f', '*', ';', '\\x10', '<', '«', '\\x0c', '~'}\n"
          ]
        }
      ],
      "source": [
        "# Seleccionando los caracteres no alfa numericos que no son espacios\n",
        "special_chars = amazon_reviews.reviews_text_new.apply(lambda x: [each for each in list(x) if not each.isalnum() and each != ' '])\n",
        "\n",
        "# obtener una lista de listas\n",
        "flat_list = [item for sublist in special_chars for item in sublist]\n",
        "\n",
        "# caracteres especiales unicos\n",
        "print(set(flat_list))"
      ]
    },
    {
      "cell_type": "markdown",
      "metadata": {
        "id": "kJeTZCmfBrX8"
      },
      "source": [
        "Ahora removamos los caracteres especiales de los reviews"
      ]
    },
    {
      "cell_type": "code",
      "execution_count": null,
      "metadata": {
        "id": "tI1Zh8MiBuZw"
      },
      "outputs": [],
      "source": [
        "import re\n",
        "review_backup = amazon_reviews.reviews_text_new.copy()\n",
        "amazon_reviews.reviews_text_new = amazon_reviews.reviews_text_new.apply(\n",
        "    lambda x: re.sub('[^A-Za-z0-9 ]+', ' ', x)\n",
        ")"
      ]
    },
    {
      "cell_type": "markdown",
      "metadata": {
        "id": "btC5RULGBxLX"
      },
      "source": [
        "Miremos como se ven algunos de los resultados luego de remover esto"
      ]
    },
    {
      "cell_type": "code",
      "execution_count": null,
      "metadata": {
        "colab": {
          "base_uri": "https://localhost:8080/",
          "height": 87
        },
        "id": "wITFs61CB0cx",
        "outputId": "85d60bfd-8ca0-49b5-940f-ae9841f4925b"
      },
      "outputs": [
        {
          "output_type": "stream",
          "name": "stdout",
          "text": [
            "Review anterior:\n"
          ]
        },
        {
          "output_type": "execute_result",
          "data": {
            "text/plain": [
              "\"this saltwater taffy had great flavors and was very soft and chewy.  each candy was individually wrapped well.  none of the candies were stuck together, which did happen in the expensive version, fralinger's.  would highly recommend this candy!  i served it at a beach-themed party and everyone loved it!\""
            ],
            "application/vnd.google.colaboratory.intrinsic+json": {
              "type": "string"
            }
          },
          "metadata": {},
          "execution_count": 40
        }
      ],
      "source": [
        "print(\"Review anterior:\")\n",
        "review_backup.values[6]"
      ]
    },
    {
      "cell_type": "code",
      "execution_count": null,
      "metadata": {
        "colab": {
          "base_uri": "https://localhost:8080/",
          "height": 87
        },
        "id": "E8K8haC9B29Y",
        "outputId": "6af3a600-b526-47ba-dc11-923ca9d2e6b2"
      },
      "outputs": [
        {
          "output_type": "stream",
          "name": "stdout",
          "text": [
            "Review nuevo:\n"
          ]
        },
        {
          "output_type": "execute_result",
          "data": {
            "text/plain": [
              "'this saltwater taffy had great flavors and was very soft and chewy   each candy was individually wrapped well   none of the candies were stuck together  which did happen in the expensive version  fralinger s   would highly recommend this candy   i served it at a beach themed party and everyone loved it '"
            ],
            "application/vnd.google.colaboratory.intrinsic+json": {
              "type": "string"
            }
          },
          "metadata": {},
          "execution_count": 41
        }
      ],
      "source": [
        "print(\"Review nuevo:\")\n",
        "amazon_reviews.reviews_text_new[6]"
      ]
    },
    {
      "cell_type": "markdown",
      "metadata": {
        "id": "viiMJcdXB9fA"
      },
      "source": [
        "El numero de tokens unicos que se han borrado son"
      ]
    },
    {
      "cell_type": "code",
      "execution_count": null,
      "metadata": {
        "id": "HkwuWkWZB8oz"
      },
      "outputs": [],
      "source": [
        "token_lists = [word_tokenize(each) for each in amazon_reviews.Text]\n",
        "tokens = [item for sublist in token_lists for item in sublist]\n",
        "print(\"Numero de token unicos antes: \", len(set(tokens)))\n",
        "\n",
        "token_lists = [word_tokenize(each) for each in amazon_reviews.reviews_text_new]\n",
        "tokens = [item for sublist in token_lists for item in sublist]\n",
        "print(\"Numero de tokens unicos despues: \", len(set(tokens)))"
      ]
    },
    {
      "cell_type": "markdown",
      "metadata": {
        "id": "-EKO6f24CIbg"
      },
      "source": [
        "## stopwords y palabras de alta/baja frecuencia\n",
        "\n",
        "Vamos a remover estas palabras"
      ]
    },
    {
      "cell_type": "code",
      "execution_count": null,
      "metadata": {
        "id": "Z6uhTzzVCPB2"
      },
      "outputs": [],
      "source": [
        "import nltk\n",
        "nltk.download('stopwords')\n",
        "\n",
        "noise_words = []\n",
        "stopwords_corpus = nltk.corpus.stopwords\n",
        "eng_stop_words = stopwords_corpus.words('english')\n",
        "noise_words.extend(eng_stop_words)\n",
        "print(len(noise_words))\n",
        "noise_words"
      ]
    },
    {
      "cell_type": "markdown",
      "metadata": {
        "id": "oonZd40DCRnt"
      },
      "source": [
        "Encontremos las palabras de alta y baja frecuencia, que definiremos como el 1 % de las palabras que aparecen con más frecuencia en las reseñas, así como el 1 % de las palabras que aparecen con menos frecuencia en las reseñas (después de ajustar por mayúsculas y minúsculas y caracteres especiales)."
      ]
    },
    {
      "cell_type": "code",
      "execution_count": null,
      "metadata": {
        "id": "phySUXSpCb7N"
      },
      "outputs": [],
      "source": [
        "one_percentile = int(len(set(tokens)) * 0.01)\n",
        "top_1_percentile = Counter(tokens).most_common(one_percentile)\n",
        "top_1_percentile[:10]"
      ]
    },
    {
      "cell_type": "code",
      "execution_count": null,
      "metadata": {
        "id": "cIogh--ct3CJ"
      },
      "outputs": [],
      "source": [
        "pd.DataFrame(top_1_percentile[:10], columns=['Palabras','Frecuencia']).set_index('Palabras').plot(kind='bar')\n",
        "plt.title('Percentil 1 de palabras mas frecuentes')\n",
        "plt.xlabel('Palabras')\n",
        "plt.ylabel('Frecuencia')"
      ]
    },
    {
      "cell_type": "code",
      "execution_count": null,
      "metadata": {
        "id": "lnFGqSCTCdU5"
      },
      "outputs": [],
      "source": [
        "bottom_1_percentile = Counter(tokens).most_common()[-one_percentile:]\n",
        "bottom_1_percentile[:10]"
      ]
    },
    {
      "cell_type": "code",
      "execution_count": null,
      "metadata": {
        "id": "g-A1HtiWCfH2"
      },
      "outputs": [],
      "source": [
        "noise_words.extend([word for word,val in top_1_percentile])\n",
        "noise_words.extend([word for word,val in bottom_1_percentile])"
      ]
    },
    {
      "cell_type": "markdown",
      "metadata": {
        "id": "n51bDGhkCiQF"
      },
      "source": [
        "Las stopwords y las palabras de alta/baja frecuencia ahora se han agregado a noise_words, que se eliminarán de las revisiones antes de entrenar los modelos de aprendizaje automático.\n",
        "\n",
        "Es poco probable que las stopwords sean tan útiles, ya que esperamos que aparezcan con la misma frecuencia en las críticas positivas y negativas. Las palabras poco comunes pueden ser más significativas y, en teoría, podrían indicar el sentimiento de la revisión"
      ]
    },
    {
      "cell_type": "markdown",
      "metadata": {
        "id": "TFmioUxSCtCO"
      },
      "source": [
        "# Stemming y Lemantizacion\n",
        "\n",
        "Si quieren profundizar en los conceptos de [stemming](http://www.nltk.org/api/nltk.stem.html?highlight=lemmatizer), y[lemmatization](http://www.nltk.org/api/nltk.stem.html?highlight=lemmatizer#module-nltk.stem.wordnet) y otros tipos de normalizaciones pueden encontrar una buena introduccion en: https://nlp.stanford.edu/IR-book/html/htmledition/stemming-and-lemmatization-1.html."
      ]
    },
    {
      "cell_type": "code",
      "execution_count": null,
      "metadata": {
        "id": "uWkdbiEtC8Qc",
        "colab": {
          "base_uri": "https://localhost:8080/"
        },
        "outputId": "583cbb2c-06e4-4ca2-d29b-9cf9d3ba8d64"
      },
      "outputs": [
        {
          "output_type": "stream",
          "name": "stderr",
          "text": [
            "[nltk_data] Downloading package wordnet to /root/nltk_data...\n",
            "[nltk_data]   Package wordnet is already up-to-date!\n"
          ]
        }
      ],
      "source": [
        "from nltk.stem import PorterStemmer, WordNetLemmatizer, LancasterStemmer\n",
        "\n",
        "nltk.download('wordnet')\n",
        "\n",
        "from nltk.corpus import wordnet\n",
        "\n",
        "porter = PorterStemmer()\n",
        "lancaster = LancasterStemmer()\n",
        "lemmatizer = WordNetLemmatizer()"
      ]
    },
    {
      "cell_type": "markdown",
      "metadata": {
        "id": "OWrUPKFfC9sa"
      },
      "source": [
        "Los algoritmos de **Stemming** funcionan cortando el final o el principio de la palabra, teniendo en cuenta una lista de prefijos y sufijos comunes que se pueden encontrar.\n",
        "\n",
        "Por otro lado, la **lematización** toma en consideración el análisis morfológico de las palabras. Por lo tanto, la **lematización** tiene en cuenta la gramática de la palabra e intenta encontrar la palabra raíz en lugar de simplemente llegar a la palabra raíz mediante métodos de fuerza bruta."
      ]
    },
    {
      "cell_type": "code",
      "source": [
        "nltk.download('omw-1.4')"
      ],
      "metadata": {
        "colab": {
          "base_uri": "https://localhost:8080/"
        },
        "id": "l1-1NVYIkRxc",
        "outputId": "7cdb1ebf-fc98-4769-e13d-9267750ad11d"
      },
      "execution_count": null,
      "outputs": [
        {
          "output_type": "stream",
          "name": "stderr",
          "text": [
            "[nltk_data] Downloading package omw-1.4 to /root/nltk_data...\n"
          ]
        },
        {
          "output_type": "execute_result",
          "data": {
            "text/plain": [
              "True"
            ]
          },
          "metadata": {},
          "execution_count": 14
        }
      ]
    },
    {
      "cell_type": "code",
      "execution_count": null,
      "metadata": {
        "id": "CzTULvebDJgV",
        "colab": {
          "base_uri": "https://localhost:8080/"
        },
        "outputId": "f0a6b863-1577-4442-ffba-4204993d14f1"
      },
      "outputs": [
        {
          "output_type": "stream",
          "name": "stdout",
          "text": [
            "Lancaster Stemmer\n",
            "troubl\n",
            "troubl\n",
            "troubl\n",
            "WordNet Lemmatizer\n",
            "trouble\n",
            "trouble\n",
            "trouble\n"
          ]
        }
      ],
      "source": [
        "print(\"Lancaster Stemmer\")\n",
        "print(lancaster.stem(\"trouble\"))\n",
        "print(lancaster.stem(\"troubling\"))\n",
        "print(lancaster.stem(\"troubled\"))\n",
        "\n",
        "# Proveer una palabra que sera lemantizada\n",
        "print(\"WordNet Lemmatizer\")\n",
        "print(lemmatizer.lemmatize(\"trouble\", wordnet.NOUN))\n",
        "print(lemmatizer.lemmatize(\"troubling\", wordnet.VERB))\n",
        "print(lemmatizer.lemmatize(\"troubled\", wordnet.VERB))"
      ]
    },
    {
      "cell_type": "markdown",
      "metadata": {
        "id": "MfnEC2oUDQc5"
      },
      "source": [
        "Se puede ver que obtenemos una raíz de significado de Lemmatizer, mientras que Stemmer simplemente recorta y extrae la primera parte importante de la palabra."
      ]
    },
    {
      "cell_type": "markdown",
      "metadata": {
        "id": "EKYImfc-DSu4"
      },
      "source": [
        "# Creacion de modelo de ML"
      ]
    },
    {
      "cell_type": "code",
      "execution_count": null,
      "metadata": {
        "id": "fdRlAQcWDWEf",
        "colab": {
          "base_uri": "https://localhost:8080/",
          "height": 311
        },
        "outputId": "7eeb187b-4df6-442d-f8bd-46d72c71a8f2"
      },
      "outputs": [
        {
          "output_type": "error",
          "ename": "KeyError",
          "evalue": "ignored",
          "traceback": [
            "\u001b[0;31m---------------------------------------------------------------------------\u001b[0m",
            "\u001b[0;31mKeyError\u001b[0m                                  Traceback (most recent call last)",
            "\u001b[0;32m<ipython-input-16-1898ee4709cc>\u001b[0m in \u001b[0;36m<module>\u001b[0;34m\u001b[0m\n\u001b[0;32m----> 1\u001b[0;31m \u001b[0mamazon_reviews\u001b[0m\u001b[0;34m[\u001b[0m\u001b[0;34m[\u001b[0m\u001b[0;34m'Text'\u001b[0m\u001b[0;34m,\u001b[0m\u001b[0;34m'Score'\u001b[0m\u001b[0;34m,\u001b[0m\u001b[0;34m'Sentiment_rating'\u001b[0m\u001b[0;34m]\u001b[0m\u001b[0;34m]\u001b[0m\u001b[0;34m.\u001b[0m\u001b[0mhead\u001b[0m\u001b[0;34m(\u001b[0m\u001b[0;36m5\u001b[0m\u001b[0;34m)\u001b[0m\u001b[0;34m\u001b[0m\u001b[0;34m\u001b[0m\u001b[0m\n\u001b[0m",
            "\u001b[0;32m/usr/local/lib/python3.8/dist-packages/pandas/core/frame.py\u001b[0m in \u001b[0;36m__getitem__\u001b[0;34m(self, key)\u001b[0m\n\u001b[1;32m   3462\u001b[0m             \u001b[0;32mif\u001b[0m \u001b[0mis_iterator\u001b[0m\u001b[0;34m(\u001b[0m\u001b[0mkey\u001b[0m\u001b[0;34m)\u001b[0m\u001b[0;34m:\u001b[0m\u001b[0;34m\u001b[0m\u001b[0;34m\u001b[0m\u001b[0m\n\u001b[1;32m   3463\u001b[0m                 \u001b[0mkey\u001b[0m \u001b[0;34m=\u001b[0m \u001b[0mlist\u001b[0m\u001b[0;34m(\u001b[0m\u001b[0mkey\u001b[0m\u001b[0;34m)\u001b[0m\u001b[0;34m\u001b[0m\u001b[0;34m\u001b[0m\u001b[0m\n\u001b[0;32m-> 3464\u001b[0;31m             \u001b[0mindexer\u001b[0m \u001b[0;34m=\u001b[0m \u001b[0mself\u001b[0m\u001b[0;34m.\u001b[0m\u001b[0mloc\u001b[0m\u001b[0;34m.\u001b[0m\u001b[0m_get_listlike_indexer\u001b[0m\u001b[0;34m(\u001b[0m\u001b[0mkey\u001b[0m\u001b[0;34m,\u001b[0m \u001b[0maxis\u001b[0m\u001b[0;34m=\u001b[0m\u001b[0;36m1\u001b[0m\u001b[0;34m)\u001b[0m\u001b[0;34m[\u001b[0m\u001b[0;36m1\u001b[0m\u001b[0;34m]\u001b[0m\u001b[0;34m\u001b[0m\u001b[0;34m\u001b[0m\u001b[0m\n\u001b[0m\u001b[1;32m   3465\u001b[0m \u001b[0;34m\u001b[0m\u001b[0m\n\u001b[1;32m   3466\u001b[0m         \u001b[0;31m# take() does not accept boolean indexers\u001b[0m\u001b[0;34m\u001b[0m\u001b[0;34m\u001b[0m\u001b[0;34m\u001b[0m\u001b[0m\n",
            "\u001b[0;32m/usr/local/lib/python3.8/dist-packages/pandas/core/indexing.py\u001b[0m in \u001b[0;36m_get_listlike_indexer\u001b[0;34m(self, key, axis)\u001b[0m\n\u001b[1;32m   1312\u001b[0m             \u001b[0mkeyarr\u001b[0m\u001b[0;34m,\u001b[0m \u001b[0mindexer\u001b[0m\u001b[0;34m,\u001b[0m \u001b[0mnew_indexer\u001b[0m \u001b[0;34m=\u001b[0m \u001b[0max\u001b[0m\u001b[0;34m.\u001b[0m\u001b[0m_reindex_non_unique\u001b[0m\u001b[0;34m(\u001b[0m\u001b[0mkeyarr\u001b[0m\u001b[0;34m)\u001b[0m\u001b[0;34m\u001b[0m\u001b[0;34m\u001b[0m\u001b[0m\n\u001b[1;32m   1313\u001b[0m \u001b[0;34m\u001b[0m\u001b[0m\n\u001b[0;32m-> 1314\u001b[0;31m         \u001b[0mself\u001b[0m\u001b[0;34m.\u001b[0m\u001b[0m_validate_read_indexer\u001b[0m\u001b[0;34m(\u001b[0m\u001b[0mkeyarr\u001b[0m\u001b[0;34m,\u001b[0m \u001b[0mindexer\u001b[0m\u001b[0;34m,\u001b[0m \u001b[0maxis\u001b[0m\u001b[0;34m)\u001b[0m\u001b[0;34m\u001b[0m\u001b[0;34m\u001b[0m\u001b[0m\n\u001b[0m\u001b[1;32m   1315\u001b[0m \u001b[0;34m\u001b[0m\u001b[0m\n\u001b[1;32m   1316\u001b[0m         if needs_i8_conversion(ax.dtype) or isinstance(\n",
            "\u001b[0;32m/usr/local/lib/python3.8/dist-packages/pandas/core/indexing.py\u001b[0m in \u001b[0;36m_validate_read_indexer\u001b[0;34m(self, key, indexer, axis)\u001b[0m\n\u001b[1;32m   1375\u001b[0m \u001b[0;34m\u001b[0m\u001b[0m\n\u001b[1;32m   1376\u001b[0m             \u001b[0mnot_found\u001b[0m \u001b[0;34m=\u001b[0m \u001b[0mlist\u001b[0m\u001b[0;34m(\u001b[0m\u001b[0mensure_index\u001b[0m\u001b[0;34m(\u001b[0m\u001b[0mkey\u001b[0m\u001b[0;34m)\u001b[0m\u001b[0;34m[\u001b[0m\u001b[0mmissing_mask\u001b[0m\u001b[0;34m.\u001b[0m\u001b[0mnonzero\u001b[0m\u001b[0;34m(\u001b[0m\u001b[0;34m)\u001b[0m\u001b[0;34m[\u001b[0m\u001b[0;36m0\u001b[0m\u001b[0;34m]\u001b[0m\u001b[0;34m]\u001b[0m\u001b[0;34m.\u001b[0m\u001b[0munique\u001b[0m\u001b[0;34m(\u001b[0m\u001b[0;34m)\u001b[0m\u001b[0;34m)\u001b[0m\u001b[0;34m\u001b[0m\u001b[0;34m\u001b[0m\u001b[0m\n\u001b[0;32m-> 1377\u001b[0;31m             \u001b[0;32mraise\u001b[0m \u001b[0mKeyError\u001b[0m\u001b[0;34m(\u001b[0m\u001b[0;34mf\"{not_found} not in index\"\u001b[0m\u001b[0;34m)\u001b[0m\u001b[0;34m\u001b[0m\u001b[0;34m\u001b[0m\u001b[0m\n\u001b[0m\u001b[1;32m   1378\u001b[0m \u001b[0;34m\u001b[0m\u001b[0m\n\u001b[1;32m   1379\u001b[0m \u001b[0;34m\u001b[0m\u001b[0m\n",
            "\u001b[0;31mKeyError\u001b[0m: \"['Sentiment_rating'] not in index\""
          ]
        }
      ],
      "source": [
        "amazon_reviews[['Text','Score','Sentiment_rating']].head(5)"
      ]
    },
    {
      "cell_type": "markdown",
      "metadata": {
        "id": "I-0HWHdbDYwZ"
      },
      "source": [
        "Las variables independientes o características del modelo se derivan del texto de revisión. Previamente, discutimos cómo podemos usar **n-grams** para crear características, y específicamente cómo la bolsa de palabras es la interpretación más simple de estos n-gramas, sin tener en cuenta el orden y el contexto por completo y solo enfocándonos en la frecuencia/recuento. Usemos eso como punto de partida."
      ]
    },
    {
      "cell_type": "markdown",
      "metadata": {
        "id": "qENuMxTvDen5"
      },
      "source": [
        "# Bag of words\n",
        "\n",
        "CountVectorizer es una clase de Python que da cuenta automáticamente de ciertos pasos de preprocesamiento, como la eliminación de palabras vacías, la derivación, la creación de n-gramas y la tokenización de palabras:"
      ]
    },
    {
      "cell_type": "code",
      "execution_count": null,
      "metadata": {
        "id": "esyrY_TqDdst"
      },
      "outputs": [],
      "source": [
        "# Creacion de metodo para stemming\n",
        "from nltk.stem import PorterStemmer\n",
        "\n",
        "stemmer = PorterStemmer()\n",
        "analyzer = CountVectorizer().build_analyzer()\n",
        "\n",
        "def stemmed_words(doc):\n",
        "    return (stemmer.stem(w) for w in analyzer(doc))"
      ]
    },
    {
      "cell_type": "markdown",
      "metadata": {
        "id": "8OHClEiJDr9_"
      },
      "source": [
        "Usemos esto para crear una bolsa de palabras de las reseñas, excluyendo las palabras irrelevantes que identificamos anteriormente:"
      ]
    },
    {
      "cell_type": "code",
      "execution_count": null,
      "metadata": {
        "id": "7wV6wAd8DupW"
      },
      "outputs": [],
      "source": [
        "# Creacion de un objeto tipo CountVectorizer\n",
        "bow_counts = CountVectorizer(\n",
        "    tokenizer=word_tokenize,\n",
        "    stop_words=noise_words,\n",
        "    ngram_range=(1, 1)\n",
        ")"
      ]
    },
    {
      "cell_type": "markdown",
      "metadata": {
        "id": "0I--fC0SDz3o"
      },
      "source": [
        "Una vez que se prepara la bolsa de palabras, el conjunto de datos debe dividirse en conjuntos de entrenamiento y de prueba. También podríamos dividir los datos después de vectorizarlos, pero es útil dividir los datos lo antes posible en el proceso. Esto significa que una vez que hemos generado nuestras predicciones, podemos compararlas más fácilmente con los textos originales, antes de que hayan sido preprocesadas y vectorizadas."
      ]
    },
    {
      "cell_type": "code",
      "execution_count": null,
      "metadata": {
        "id": "3-D0n379D5_G"
      },
      "outputs": [],
      "source": [
        "reviews_train, reviews_test = train_test_split(amazon_reviews, test_size=0.2, random_state=0)"
      ]
    },
    {
      "cell_type": "code",
      "execution_count": null,
      "metadata": {
        "id": "3EkmtCUeD7Tu"
      },
      "outputs": [],
      "source": [
        "X_train_bow = bow_counts.fit_transform(reviews_train.reviews_text_new)\n",
        "X_test_bow = bow_counts.transform(reviews_test.reviews_text_new)"
      ]
    },
    {
      "cell_type": "markdown",
      "metadata": {
        "id": "8q-tk94fD_Vu"
      },
      "source": [
        "Tengan en cuenta que llamamos a ```fit_transform``` para vectorizar nuestro conjunto de entrenamiento y ```transform``` para vectorizar nuestro conjunto de prueba. Esto genera las asignaciones de vectorización solo en los datos del conjunto de entrenamiento, que es una restricción a la que nos enfrentaríamos en un problema del mundo real (no tener acceso a los datos de prueba durante el tiempo de entrenamiento).\n",
        "\n",
        "Por lo tanto, puede haber algunas palabras en el conjunto de prueba que no sabemos cómo vectorizar y se omitirán."
      ]
    },
    {
      "cell_type": "code",
      "execution_count": null,
      "metadata": {
        "id": "mu-ClINID76n"
      },
      "outputs": [],
      "source": [
        "y_train_bow = reviews_train['Sentiment_rating']\n",
        "y_test_bow = reviews_test['Sentiment_rating']"
      ]
    },
    {
      "cell_type": "code",
      "execution_count": null,
      "metadata": {
        "id": "KE-P_hwcEJzc"
      },
      "outputs": [],
      "source": [
        "y_test_bow.value_counts() / y_test_bow.shape[0]"
      ]
    },
    {
      "cell_type": "markdown",
      "metadata": {
        "id": "i3RSbM62ENeq"
      },
      "source": [
        "Los datos de prueba contienen 84% de opiniones positivas. El modelo de predicción más simple que podríamos pensar sería uno que prediga \"positivo\" para cada entrada. Llamaríamos a esto un modelo \"ingenuo\", y constituye una línea de base útil. En este caso, dicho modelo obtendría un 84 % de precisión, por lo que podemos considerarlo como una puntuación de referencia que nuestro modelo de aprendizaje automático debe superar."
      ]
    },
    {
      "cell_type": "markdown",
      "metadata": {
        "id": "b5GGWWW3EYyR"
      },
      "source": [
        "## Modelo de regresion logistica"
      ]
    },
    {
      "cell_type": "code",
      "execution_count": null,
      "metadata": {
        "id": "_H_xrYMjEcBs"
      },
      "outputs": [],
      "source": [
        "# Entrenar el modelo\n",
        "lr_model_all = LogisticRegression(C=1, solver=\"liblinear\")\n",
        "lr_model_all.fit(X_train_bow, y_train_bow)\n",
        "\n",
        "# Predecir el output\n",
        "test_pred_lr_prob = lr_model_all.predict_proba(X_test_bow)\n",
        "test_pred_lr_all = lr_model_all.predict(X_test_bow)\n",
        "\n",
        "print(\"F1 score: \", f1_score(y_test_bow, test_pred_lr_all))\n",
        "print(\"Accuracy: \", accuracy_score(y_test_bow, test_pred_lr_all) * 100)"
      ]
    },
    {
      "cell_type": "code",
      "execution_count": null,
      "metadata": {
        "id": "B9g9Z2AFEijY"
      },
      "outputs": [],
      "source": [
        "test_pred_lr_prob"
      ]
    },
    {
      "cell_type": "code",
      "execution_count": null,
      "metadata": {
        "id": "c3pDuetkEmfq"
      },
      "outputs": [],
      "source": [
        "probabilities = [each[1] for each in test_pred_lr_prob]"
      ]
    },
    {
      "cell_type": "code",
      "execution_count": null,
      "metadata": {
        "id": "yhK1q_skEoqv"
      },
      "outputs": [],
      "source": [
        "predictions = pd.DataFrame()\n",
        "predictions['Text'] = reviews_test['Text']\n",
        "predictions['Actual_Score'] = reviews_test['Score']\n",
        "predictions['Sentiment_rating'] = reviews_test['Sentiment_rating']\n",
        "predictions['Predicted_sentiment'] = test_pred_lr_all\n",
        "predictions['Predicted_probability'] = probabilities"
      ]
    },
    {
      "cell_type": "code",
      "execution_count": null,
      "metadata": {
        "id": "tk36qT2QEruF"
      },
      "outputs": [],
      "source": [
        "predictions.head(5)"
      ]
    },
    {
      "cell_type": "code",
      "execution_count": null,
      "metadata": {
        "id": "yOp3mDlXEuJA"
      },
      "outputs": [],
      "source": [
        "accuracy_score(predictions['Sentiment_rating'], predictions['Predicted_sentiment'])"
      ]
    },
    {
      "cell_type": "markdown",
      "metadata": {
        "id": "OBKZYoZtF4qw"
      },
      "source": [
        "En la columna ```Predicted_probability```, puede ver la confianza que tenía el modelo en sus predicciones, siendo las probabilidades muy cercanas a 0 predicciones de sentimientos negativos muy confiables y las probabilidades muy cercanas a 1, predicciones de sentimientos positivos muy confiables.\n",
        "\n",
        "Utilice esta información para encontrar el caso en el que el modelo tenía más confianza al predecir que una reseña tenía un sentimiento negativo cuando la puntuación real era positiva.\n",
        "\n",
        "Mire el texto y escriba algunas oraciones de análisis sobre por qué cree que el modelo se equivocó"
      ]
    },
    {
      "cell_type": "code",
      "execution_count": null,
      "metadata": {
        "id": "VN0O6ei8GuOS"
      },
      "outputs": [],
      "source": [
        "predictions[\n",
        "    predictions['Predicted_sentiment'] != predictions['Sentiment_rating']\n",
        "].sort_values(by=[\"Predicted_probability\"]).head(3)"
      ]
    },
    {
      "cell_type": "code",
      "execution_count": null,
      "metadata": {
        "id": "S-G3sENDGu_i"
      },
      "outputs": [],
      "source": [
        "predictions.loc[7692].values"
      ]
    },
    {
      "cell_type": "markdown",
      "metadata": {
        "id": "3zbOLxXOGxk_"
      },
      "source": [
        "Podemos ver que la reseña tiene un tono muy negativo y utiliza palabras que la modelo probablemente ha aprendido a asociar fuertemente con malas reseñas como \"caro\", \"malo\", \"peor\", \"odiado\", \"desagradable\", \" nunca\". Sin embargo, todos estos en realidad están dirigidos a un producto diferente. El autor dice que después de comprar este producto tiene el \"bebé más feliz\", pero eso no es lo suficientemente fuerte como para contrarrestar todos los aspectos negativos de la reseña."
      ]
    },
    {
      "cell_type": "markdown",
      "metadata": {
        "id": "uq3urjaaHMV0"
      },
      "source": [
        "Modifique el conjunto de características en el modelo para incluir bigramas, trigramas y 4-grams. No elimine las palabras irrelevantes definidas anteriormente antes de presentarlas. (Sugerencia: establece ngram_range=(1,4).)\n",
        "\n",
        "Al mismo tiempo, experimente con el ajuste de hiperparámetros. Cambie el valor C del clasificador de regresión logística a 0,9."
      ]
    },
    {
      "cell_type": "code",
      "execution_count": null,
      "metadata": {
        "id": "kEqVP5IuHSKk"
      },
      "outputs": [],
      "source": [
        "# Cambios con respecto al código anterior\n",
        "# 1. Aumentar los n-gramas de solo tener 1 gramo a (1 gramo, 2 gramos, 3 gramos y 4 gramos)\n",
        "# 2. Incluir las palabras vacías en las características de la bolsa de palabras\n",
        "bow_counts = CountVectorizer(\n",
        "    tokenizer=word_tokenize,\n",
        "    ngram_range=(1,4)\n",
        ")\n",
        "\n",
        "X_train_bow = bow_counts.fit_transform(reviews_train.reviews_text_new)\n",
        "X_test_bow = bow_counts.transform(reviews_test.reviews_text_new)"
      ]
    },
    {
      "cell_type": "code",
      "execution_count": null,
      "metadata": {
        "id": "8IPlWx1OHYKg"
      },
      "outputs": [],
      "source": [
        "# Observe el aumento de funciones con la inclusión de palabras vacías\n",
        "X_train_bow"
      ]
    },
    {
      "cell_type": "code",
      "execution_count": null,
      "metadata": {
        "id": "GatU304PHdRw"
      },
      "outputs": [],
      "source": [
        "# Cambios en la regresión logística\n",
        "# Cambio de la sanción de regularización por defecto de l2 a l1\n",
        "# Cambiando el parámetro de costo C a 0.9\n",
        "lr_model_all_new = LogisticRegression(C=0.9, solver=\"liblinear\")"
      ]
    },
    {
      "cell_type": "code",
      "execution_count": null,
      "metadata": {
        "id": "t-9RjVU3HjeM"
      },
      "outputs": [],
      "source": [
        "# Entrenar el modelo\n",
        "lr_model_all_new.fit(X_train_bow, y_train_bow)\n",
        "\n",
        "# Predecir resultados\n",
        "test_pred_lr_prob = lr_model_all_new.predict_proba(X_test_bow)\n",
        "test_pred_lr_all = lr_model_all_new.predict(X_test_bow)\n",
        "\n",
        "print(\"F1 score: \", f1_score(y_test_bow, test_pred_lr_all))\n",
        "print(\"Accuracy: \", accuracy_score(y_test_bow, test_pred_lr_all) * 100)"
      ]
    },
    {
      "cell_type": "markdown",
      "metadata": {
        "id": "AU11TtV5Hp3J"
      },
      "source": [
        "La precisión ha saltado del 90% al 92,2%. Este es un ejemplo de lo que el simple ajuste de hiperparámetros y la modificación de características de entrada pueden hacer en el rendimiento general. Incluso podemos obtener características interpretables de esto en términos de lo que más contribuyó al sentimiento positivo y negativo."
      ]
    },
    {
      "cell_type": "code",
      "execution_count": null,
      "metadata": {
        "id": "1zboEFrIHvC5"
      },
      "outputs": [],
      "source": [
        "lr_weights = pd.DataFrame(list(\n",
        "    zip(\n",
        "        bow_counts.get_feature_names(),\n",
        "        lr_model_all_new.coef_[0])\n",
        "    ),\n",
        "    columns=['words','weights']\n",
        ")\n",
        "\n",
        "lr_weights.sort_values(['weights'],ascending = False)[:15]"
      ]
    },
    {
      "cell_type": "code",
      "execution_count": null,
      "metadata": {
        "id": "jFRk5csSHxyj"
      },
      "outputs": [],
      "source": [
        "lr_weights.sort_values(['weights'],ascending = False)[-15:]"
      ]
    },
    {
      "cell_type": "markdown",
      "metadata": {
        "id": "u4WxBMCnHz-H"
      },
      "source": [
        "## Random forest"
      ]
    },
    {
      "cell_type": "code",
      "execution_count": null,
      "metadata": {
        "id": "8qAvpMnoH2zm"
      },
      "outputs": [],
      "source": [
        "rf_model_all = RandomForestClassifier(n_estimators=100)\n",
        "\n",
        "# Entrenamiento\n",
        "rf_model_all.fit(X_train_bow, y_train_bow)\n",
        "\n",
        "# predicciones\n",
        "test_pred_lr_prob = rf_model_all.predict_proba(X_test_bow)\n",
        "test_pred_lr_all = rf_model_all.predict(X_test_bow)"
      ]
    },
    {
      "cell_type": "code",
      "execution_count": null,
      "metadata": {
        "id": "r2Pu1uwZH7Ew"
      },
      "outputs": [],
      "source": [
        "print(\"F1 score: \", f1_score(y_test_bow,test_pred_lr_all))\n",
        "print(\"Accuracy: \", accuracy_score(y_test_bow,test_pred_lr_all)* 100)"
      ]
    },
    {
      "cell_type": "markdown",
      "metadata": {
        "id": "jpMWiD1gH-d8"
      },
      "source": [
        "Esto no es tan bueno como la regresión logística. Podemos obtener los n-gramas que fueron más importantes para las predicciones de la siguiente manera:"
      ]
    },
    {
      "cell_type": "code",
      "execution_count": null,
      "metadata": {
        "id": "l-pQMcXKIA3O"
      },
      "outputs": [],
      "source": [
        "feature_importances = pd.DataFrame(\n",
        "    rf_model_all.feature_importances_,\n",
        "    index=bow_counts.get_feature_names(),\n",
        "    columns=['importance']\n",
        ")"
      ]
    },
    {
      "cell_type": "code",
      "execution_count": null,
      "metadata": {
        "id": "_PP7hG-3IBXy"
      },
      "outputs": [],
      "source": [
        "feature_importances.sort_values(['importance'], ascending=False)[:10]"
      ]
    },
    {
      "cell_type": "markdown",
      "metadata": {
        "id": "2jl8v2WlIDHs"
      },
      "source": [
        "# Modelo TF-IDF\n",
        "\n",
        "Por supuesto, la bolsa de palabras no es la única forma de caracterizar el texto. Otro método, que mencionamos brevemente antes, es el método TF-IDF. Esto evalúa qué tan importante es una palabra para un documento dentro de una gran colección de documentos (es decir, corpus). La importancia aumenta proporcionalmente en función del número de veces que aparece una palabra en el documento, pero se compensa con la frecuencia de la palabra en el corpus.\n",
        "\n",
        "La TF-IDF es el producto de dos términos. El primero calcula la frecuencia de término normalizada (TF); es decir, el número de veces que aparece una palabra en un documento dividido por el número total de palabras en ese documento. El segundo término es la Frecuencia Inversa de Documentos (IDF), calculada como el logaritmo del número de documentos en el corpus dividido por el número de documentos"
      ]
    },
    {
      "cell_type": "markdown",
      "metadata": {
        "id": "iaDByDseIdYq"
      },
      "source": [
        "Menos formalmente, ¿qué significa esto?\n",
        "\n",
        "- Si una palabra aparece con mucha frecuencia en un documento específico, es probable que sea significativa.\n",
        "- Si una palabra aparece con mucha frecuencia en casi todos los documentos del corpus, es poco probable que sea significativa.\n",
        "- Por tanto, una palabra que aparece a menudo en un documento pero rara vez en el resto del corpus merece especial atención.\n",
        "\n",
        "TF-IDF no solo cuenta cada palabra, sino que aplica una ponderación para que las palabras comunes reciban menos atención y las palabras raras reciban más.\n",
        "\n",
        "Volvamos a presentar nuestro conjunto original de revisiones basado en TF-IDF y dividamos las funciones resultantes en conjuntos de entrenamiento y prueba:"
      ]
    },
    {
      "cell_type": "code",
      "execution_count": null,
      "metadata": {
        "id": "Qy27CGjZInLg"
      },
      "outputs": [],
      "source": [
        "# Cree un vectorizador: aún alimentamos nuestras stopwords, aunque\n",
        "# estos son menos relevantes ahora ya que TF-IDF los ponderaría menos\n",
        "# de todas formas.\n",
        "tfidf_counts = TfidfVectorizer(\n",
        "    tokenizer=word_tokenize,\n",
        "    stop_words=noise_words,\n",
        "    ngram_range=(1,1)\n",
        ")\n",
        "\n",
        "X_train_tfidf = tfidf_counts.fit_transform(reviews_train.reviews_text_new)\n",
        "X_test_tfidf = tfidf_counts.transform(reviews_test.reviews_text_new)"
      ]
    },
    {
      "cell_type": "markdown",
      "metadata": {
        "id": "2mcp31kGIuN4"
      },
      "source": [
        "## Regresion logistica"
      ]
    },
    {
      "cell_type": "code",
      "execution_count": null,
      "metadata": {
        "id": "h2fKRigVIxBs"
      },
      "outputs": [],
      "source": [
        "# Crear el clasificador\n",
        "lr_model_tf_idf = LogisticRegression(solver=\"liblinear\")\n",
        "\n",
        "# Entrenar\n",
        "lr_model_tf_idf.fit(X_train_tfidf, y_train_bow)\n",
        "\n",
        "# Predecir\n",
        "test_pred_lr_prob = lr_model_tf_idf.predict_proba(X_test_tfidf)\n",
        "test_pred_lr_all = lr_model_tf_idf.predict(X_test_tfidf)\n",
        "\n",
        "## Evaluar el modelo\n",
        "print(\"F1 score: \",f1_score(y_test_bow, test_pred_lr_all))\n",
        "print(\"Accuracy: \", accuracy_score(y_test_bow, test_pred_lr_all) * 100)"
      ]
    },
    {
      "cell_type": "markdown",
      "metadata": {
        "id": "A4uMiNZmI4Db"
      },
      "source": [
        "Aquí hemos logrado una precisión del 88 % con TF-IDF en comparación con el 90 % con 1-gram. Es difícil saber exactamente por qué este algoritmo de vectorización más sofisticado conduce a peores resultados, pero podría ser que penalizar palabras que son comunes en todo el corpus genere una desventaja para este conjunto de datos en particular. TF-IDF suele ser útil cuando los datos de prueba son muy diferentes de los datos de entrenamiento, lo que permite que se desprioricen las palabras que solo son comunes en el conjunto de entrenamiento."
      ]
    },
    {
      "cell_type": "markdown",
      "metadata": {
        "id": "SCsby16EJBGA"
      },
      "source": [
        "Trate de aumentar la precisión del modelo por\n",
        "\n",
        "- configurando ```ngram_range=(1,4)``` en el Vectorizador\n",
        "- no eliminar las palabras irrelevantes de antemano en el Vectorizador\n",
        "- configurando C=10 en el clasificador LogisticRegression\n",
        "- estableciendo penalización=\"l1\" en el clasificador LogisticRegression"
      ]
    },
    {
      "cell_type": "code",
      "execution_count": null,
      "metadata": {
        "id": "5UlnsuRcJKwQ"
      },
      "outputs": [],
      "source": [
        "tfidf_counts = TfidfVectorizer(\n",
        "    tokenizer=word_tokenize,\n",
        "    ngram_range=(1,4)\n",
        ")\n",
        "\n",
        "X_train_tfidf = tfidf_counts.fit_transform(reviews_train.reviews_text_new)\n",
        "X_test_tfidf = tfidf_counts.transform(reviews_test.reviews_text_new)"
      ]
    },
    {
      "cell_type": "code",
      "execution_count": null,
      "metadata": {
        "id": "Ur44xFjOJNqx"
      },
      "outputs": [],
      "source": [
        "# definiendo la clase del modelo\n",
        "lr_model_tf_idf_new = LogisticRegression(solver=\"liblinear\", penalty='l1', C=10)\n",
        "\n",
        "# Entrenar\n",
        "lr_model_tf_idf_new.fit(X_train_tfidf, y_train_bow)\n",
        "\n",
        "# Predecir\n",
        "test_pred_lr_prob = lr_model_tf_idf_new.predict_proba(X_test_tfidf)\n",
        "test_pred_lr_all = lr_model_tf_idf_new.predict(X_test_tfidf)\n",
        "\n",
        "# Evaluar el modelo\n",
        "print(\"F1 score: \",f1_score(y_test_bow, test_pred_lr_all))\n",
        "print(\"Accuracy: \", accuracy_score(y_test_bow, test_pred_lr_all)*100)"
      ]
    },
    {
      "cell_type": "markdown",
      "metadata": {
        "id": "VXgj1CPgJYg7"
      },
      "source": [
        "Esta es una mejora con respecto a nuestro resultado anterior, pero hicimos cuatro cambios al mismo tiempo, por lo que no sabemos cuáles ayudaron y cuánto.\n",
        "\n",
        "Probar diferentes hiperparámetros para mejorar su modelo se denomina ajuste de hiperparámetros y es un campo enorme por sí solo. Puede imaginar cómo ejecutar este modelo 16 veces, una vez con cada posible configuración de hiperparámetros que hemos probado, sería un poco complicado de seguir, ¡y esto es solo con 4 hiperparámetros y dos valores para cada uno! Con 100 o 1000 de hiperparámetros y 100 o 1000 de valores para cada uno, las combinaciones totales crecen muy rápidamente.\n",
        "\n",
        "Para ayudar con esto, scikit-learn proporciona la llamada funcionalidad de \"GridSearch\", donde puede configurar una canalización y especificar los rangos de hiperparámetros que desea \"buscar\". Scikit-learn probará cada combinación y entrenará y evaluará el modelo para cada caso, diciéndole cuál funcionó mejor.\n",
        "\n",
        "También podemos encontrar nuestras características más importantes nuevamente, como se muestra a continuación:"
      ]
    },
    {
      "cell_type": "code",
      "execution_count": null,
      "metadata": {
        "id": "lOnUb9NiJiEd"
      },
      "outputs": [],
      "source": [
        "lr_weights = pd.DataFrame(\n",
        "    list(\n",
        "        zip(tfidf_counts.get_feature_names(), lr_model_tf_idf_new.coef_[0])\n",
        "    ),\n",
        "    columns=['words','weights']\n",
        ")\n",
        "\n",
        "lr_weights.sort_values(['weights'],ascending = False)[:10]"
      ]
    },
    {
      "cell_type": "code",
      "execution_count": null,
      "metadata": {
        "id": "GvmARJjeJkG2"
      },
      "outputs": [],
      "source": [
        "lr_weights.sort_values(['weights'],ascending = False)[-10:]"
      ]
    },
    {
      "cell_type": "markdown",
      "metadata": {
        "id": "Pu7WHTrpJl_8"
      },
      "source": [
        "# Modelo Word Embeddings"
      ]
    },
    {
      "cell_type": "markdown",
      "metadata": {
        "id": "cvsz0rEbJrmb"
      },
      "source": [
        "El tipo final de caracterización que cubriremos son las incrustaciones de palabras (Word Embeddings). Este es un tipo de representación de palabras que permite que palabras con un significado similar tengan una representación similar. Al ser entrenados previamente en datos externos, como Wikipedia, las incrustaciones de palabras saben cuándo los conceptos están relacionados semánticamente; por ejemplo, los vectores para \"rey\" y \"reina\" se ubicarían uno cerca del otro, aunque no hay sintaxis ni similitud en ortografía entre estas palabras.\n",
        "\n",
        "Es este enfoque para representar palabras y documentos el que puede considerarse uno de los avances clave del aprendizaje profundo en los desafiantes problemas de procesamiento del lenguaje natural.\n",
        "\n",
        "Hay muchos conjuntos de datos de incrustaciones de palabras previamente entrenadas que están disponibles gratuitamente, o puede entrenar las suyas propias. Algunos de los avances más importantes en esta área incluyen Word2Vec, que se convirtió en el modelo a seguir de la NPL, y otros enfoques integrados como Glove, ELMo y BERT."
      ]
    },
    {
      "cell_type": "markdown",
      "metadata": {
        "id": "h8N02FZJJ-VF"
      },
      "source": [
        "Existen diferentes métodos para aprender incrustaciones de palabras: Word2Vec, GloVe, FastText. **Word2Vec** utiliza una red neuronal superficial y es de dos tipos; _CBOW_ y _Skip Gram_. **GloVe** es un algoritmo de aprendizaje no supervisado para obtener representaciones vectoriales de palabras. El entrenamiento se realiza en estadísticas globales agregadas de coocurrencia palabra-palabra de un corpus, y las representaciones resultantes muestran subestructuras lineales interesantes del espacio vectorial de palabras. **[fastText](https://fasttext.cc/)** es una biblioteca para aprender incrustaciones de palabras y clasificación de texto creada por el laboratorio de investigación de IA de Facebook."
      ]
    },
    {
      "cell_type": "markdown",
      "metadata": {
        "id": "2gzgZC5UKMyS"
      },
      "source": [
        "**Porque usar Word Embeddings en lugar de Bag of words o TF-IDF**\n",
        "Cada palabra está representada por un vector de valor real, que generalmente tiene decenas o cientos de dimensiones. Esto contrasta con los miles o millones de dimensiones requeridas para las representaciones de palabras dispersas. Por lo tanto, las incrustaciones de palabras pueden reducir drásticamente la cantidad de dimensiones requeridas para representar un documento de texto:"
      ]
    },
    {
      "cell_type": "code",
      "execution_count": null,
      "metadata": {
        "id": "fWaGepmSKVwl"
      },
      "outputs": [],
      "source": [
        "import gensim\n",
        "# Cargar una incrustación de palabras de guante preentrenada que se entrena en un conjunto de datos de Twitter\n",
        "# Esta palabra incrustada tiene 200 dimensiones, lo que significa que cada palabra está representada\n",
        "# por un vector de 200 dimensiones.\n",
        "model = gensim.models.KeyedVectors.load_word2vec_format(\n",
        "    os.path.join(os.getcwd(), 'glove.twitter.27B.200d_out.txt'),\n",
        "    binary=False,\n",
        "    unicode_errors='ignore'\n",
        ")"
      ]
    },
    {
      "cell_type": "markdown",
      "metadata": {
        "id": "OlmzuwOFKjRM"
      },
      "source": [
        "Teníamos aproximadamente 18000 tokens distintos para características de 1-grams en la representación de la bolsa de palabras, pero solo tendrán 200 dimensiones en esta inserción de palabras. ¡Esta es una gran diferencia!\n",
        "\n",
        "Además, las incrustaciones de palabras capturan el contexto y la semántica de las oraciones, ya que cada representación de vector de palabra se basa en su significado contextual.\n",
        "\n",
        "A continuación se muestra la representación vectorial de \"comida\" y \"genial\":"
      ]
    },
    {
      "cell_type": "code",
      "execution_count": null,
      "metadata": {
        "id": "OCU3QFnmKfXr"
      },
      "outputs": [],
      "source": [
        "print(\"El embedding para food es\", len(model['food']), \"dimensional\")\n",
        "\n",
        "model['food']"
      ]
    },
    {
      "cell_type": "code",
      "execution_count": null,
      "metadata": {
        "id": "1g4FvfwRKtp5"
      },
      "outputs": [],
      "source": [
        "print(\"El embedding para great es\", len(model['great']), \"dimensional\")\n",
        "\n",
        "model['great']"
      ]
    },
    {
      "cell_type": "markdown",
      "metadata": {
        "id": "z6zkIX7UKzlV"
      },
      "source": [
        "Como discutimos, el poder de las incrustaciones de palabras es que las palabras que tienen un significado similar están más juntas en el espacio vectorial. Podemos demostrar esto mirando la distancia del coseno entre algunos pares de palabras de la siguiente manera:"
      ]
    },
    {
      "cell_type": "code",
      "execution_count": null,
      "metadata": {
        "id": "1LG9xirxK2ET"
      },
      "outputs": [],
      "source": [
        "def print_similarity(word1, word2, model):\n",
        "    v1 = model[word1]\n",
        "    v2 = model[word2]\n",
        "    similarity = np.dot(v1, v2) / (np.linalg.norm(v1) * np.linalg.norm(v2))\n",
        "    print(f\"{word1} y {word2} son {round(similarity * 100)}% similar\")\n",
        "\n",
        "print_similarity(\"cat\", \"dog\", model)\n",
        "print_similarity(\"good\", \"bad\", model)\n",
        "print_similarity(\"great\", \"good\", model)\n",
        "print_similarity(\"grass\", \"model\", model)"
      ]
    },
    {
      "cell_type": "markdown",
      "metadata": {
        "id": "NyPpFZbQK8Ra"
      },
      "source": [
        "Aquí, \"significado similar\" se define vagamente como \"usado en contextos similares\". Debido a que hay muchos ejemplos como \"Acaricié a mi gato\" y \"Acaricié a mi perro\" donde estas palabras se usan en contextos similares, se consideran muy similares. También hay muchas oraciones en las que \"bueno\" y \"malo\" pueden intercambiarse y la oración puede seguir siendo válida, por lo que, aunque las consideremos \"opuestas\", nuestro modelo las considerará similares. \"hierba\" y \"modelo\" no tienen casi nada que ver entre sí, por lo que están muy separados.\n",
        "\n",
        "Para encontrar el vector de una reseña completa, obtenemos el vector de cada palabra de la reseña por separado y tomamos un promedio simple"
      ]
    },
    {
      "cell_type": "markdown",
      "metadata": {
        "id": "Axse7IKFLC0v"
      },
      "source": [
        "Calcule el vector para cada revisión individual en el conjunto de datos."
      ]
    },
    {
      "cell_type": "code",
      "execution_count": null,
      "metadata": {
        "id": "RQbosshgLHXN"
      },
      "outputs": [],
      "source": [
        "review_embeddings = []\n",
        "\n",
        "for each_review in amazon_reviews.reviews_text_new:\n",
        "    review_average = np.zeros(model.vector_size)\n",
        "    count_val = 0\n",
        "\n",
        "    for each_word in word_tokenize(each_review):\n",
        "\n",
        "        # Cambiar a \"if True\" para remover stopwords del promedio de embeddings\n",
        "        if False:\n",
        "            if(each_word.lower() in noise_words):\n",
        "                print(each_word.lower())\n",
        "                continue\n",
        "\n",
        "        if(each_word.lower() in model):\n",
        "            review_average += model[each_word.lower()]\n",
        "            count_val += 1\n",
        "\n",
        "    review_embeddings.append(list(review_average/count_val))"
      ]
    },
    {
      "cell_type": "markdown",
      "metadata": {
        "id": "xeD-CD9zLRqG"
      },
      "source": [
        "Cargar sus propios vectores de palabras es excelente para comprender cómo funcionan, pero también existen bibliotecas de nivel superior que abstraen código como el que se muestra arriba. En la industria, una biblioteca de NLP ampliamente utilizada es [SpaCy] (https://spacy.io/). Esta biblioteca le permite extraer de manera eficiente las incrustaciones de palabras de los textos y realizar operaciones de alto nivel sobre ellos.\n",
        "\n",
        "Convirtamos la lista de representaciones vectoriales para cada revisión en un DataFrame y dividámoslo en conjuntos de entrenamiento y prueba:"
      ]
    },
    {
      "cell_type": "code",
      "execution_count": null,
      "metadata": {
        "id": "YFztCDMZLWbz"
      },
      "outputs": [],
      "source": [
        "embedding_data = pd.DataFrame(review_embeddings)\n",
        "embedding_data = embedding_data.fillna(0)"
      ]
    },
    {
      "cell_type": "code",
      "execution_count": null,
      "metadata": {
        "id": "PKDP6ZYzLX_3"
      },
      "outputs": [],
      "source": [
        "X_train_embed, X_test_embed, y_train_embed, y_test_embed =  train_test_split(\n",
        "    embedding_data,\n",
        "    amazon_reviews.Sentiment_rating,\n",
        "    test_size=0.2,\n",
        "    random_state=0\n",
        ")"
      ]
    },
    {
      "cell_type": "markdown",
      "metadata": {
        "id": "SPWhQqYKLZX2"
      },
      "source": [
        "Ahora apliquemos el modelo de regresion logistica a nuestras word embeddings"
      ]
    },
    {
      "cell_type": "code",
      "execution_count": null,
      "metadata": {
        "id": "ecE_YyKuLc2-"
      },
      "outputs": [],
      "source": [
        "lr_model = LogisticRegression(penalty=\"l1\", C=10, solver=\"liblinear\")\n",
        "lr_model.fit(X_train_embed, y_train_embed)\n",
        "test_pred_lr_prob = lr_model.predict_proba(X_test_embed)\n",
        "test_pred_lr_all = lr_model.predict(X_test_embed)\n",
        "\n",
        "print(\"F1 score: \", f1_score(y_test_embed, test_pred_lr_all))\n",
        "print(\"Accuracy: \", accuracy_score(y_test_embed, test_pred_lr_all)*100)"
      ]
    },
    {
      "cell_type": "markdown",
      "metadata": {
        "id": "aLgmytl8LjYx"
      },
      "source": [
        "Desafortunadamente, esto no es tan bueno como las representaciones de bolsa de palabras o TF-IDF. Además, aunque las incrustaciones de palabras fueron realmente efectivas para reducir el número total de dimensiones, adolece del problema de la interpretabilidad. Esto significa que es muy difícil para nosotros incluso diagnosticar qué está causando su bajo rendimiento.\n",
        "\n",
        "Sin embargo, ¿recuerda cómo \"bueno\" y \"malo\" estaban juntos en el espacio vectorial? Esta es una de las razones por las que las incrustaciones de palabras pueden no funcionar tan bien para el análisis de sentimientos en conjuntos de datos más pequeños: las incrustaciones de palabras son buenas para usar \"conocimiento\" del mundo externo (latente en las incrustaciones preentrenadas) para inferir información adicional sobre un conjunto de datos más pequeño, pero en el caso del análisis de sentimientos, esto podría hacer más daño que bien al combinar palabras \"similares\" que en realidad están muy separadas para una tarea de análisis de sentimientos.\n",
        "\n",
        "**En nuestro caso, la creación de características usando TF-IDF nos dio una precisión del 92 % con características muy interpretables. Esta es una buena combinación, por lo que consideramos que este es el mejor modelo para nosotros aquí**.\n",
        "\n",
        "Tenga en cuenta que para un experimento real, habríamos dividido nuestro conjunto de datos en tres partes, no solo en dos. Cuando se ejecuta un experimento varias veces con diferentes parámetros, es casi seguro que algunos resultados serán mejores simplemente por casualidad, y es mala ciencia seleccionar el modelo con mejor desempeño después de docenas o cientos de ejecuciones.\n",
        "\n",
        "Para evitar este problema, los datos deben dividirse en conjuntos de \"entrenamiento\", \"prueba\" y \"validación\". El conjunto de \"prueba\" debe reservarse al comienzo del experimento y nunca mirarse. El modelo debe ajustarse utilizando el conjunto de \"validación\".\n",
        "\n",
        "Solo una vez que el experimentador esté satisfecho con el modelo al mejorar el rendimiento en el conjunto de validación, se debe ejecutar el modelo en el conjunto de prueba y esos resultados finales se toman como los resultados finales del experimento."
      ]
    },
    {
      "cell_type": "markdown",
      "metadata": {
        "id": "mACgQsCSLzu9"
      },
      "source": [
        "# Conclusiones"
      ]
    },
    {
      "cell_type": "markdown",
      "metadata": {
        "id": "hPvVo2MuL04X"
      },
      "source": [
        "En este caso, limpiamos y destacamos un conjunto de datos de reseñas de Amazon y construimos algunos modelos de clasificación en estas características para predecir el sentimiento. Vimos que la bolsa de palabras y TF-IDF brindaban características interpretables, mientras que las incrustaciones de palabras realmente no. Al aumentar el conjunto de n-gramas que usamos de 1-gram a 4-grams, pudimos obtener la precisión de nuestro modelo de regresión logística hasta en un 92 %."
      ]
    },
    {
      "cell_type": "markdown",
      "metadata": {
        "id": "8IUVh266MA_L"
      },
      "source": [
        "# Para llevar"
      ]
    },
    {
      "cell_type": "markdown",
      "metadata": {
        "id": "iN7hN-ZNMCUX"
      },
      "source": [
        "La construcción de modelos de aprendizaje automático en texto es una disciplina muy complicada. Algunas cosas importantes a tener en cuenta son las siguientes:\n",
        "\n",
        "1. Aunque existen diferentes tipos de preprocesamiento involucrados en los datos textuales, no todo tiene que aplicarse en cada caso. Por ejemplo, cuando se trata de mensajes de texto, los caracteres especiales pueden representar información importante y no es necesario eliminarlos. Además, las mayúsculas pueden significar que alguien está enojado y representan gritos, por lo que las mayúsculas y las minúsculas pueden representar información valiosa. En otras situaciones, es más valioso normalizarlas.\n",
        "\n",
        "2. El ajuste de hiperparámetros en los modelos de aprendizaje automático es un paso muy importante y, si bien los hiperparámetros predeterminados funcionan bien en muchos casos, a menudo se puede obtener un rendimiento adicional al ajustarlos. Se deben probar diferentes conjuntos de parámetros para ver qué contribuye al mejor modelo.\n",
        "\n",
        "3. Cada tarea de clasificación en NLP es diferente, pero el proceso a seguir es similar al que hicimos en este caso:  **discutir los datos -> crear características a partir del texto -> entrenar modelos -> evaluar modelos**."
      ]
    }
  ],
  "metadata": {
    "colab": {
      "collapsed_sections": [
        "eB-FMmvvOh90",
        "RrNKtx8EPrr1",
        "Lq1Cev75Qjy5",
        "27Owz6clRAe2",
        "qzhKZ2n_TEv4",
        "asrthaXMT1j0"
      ],
      "provenance": []
    },
    "kernelspec": {
      "display_name": "Python 3",
      "name": "python3"
    },
    "language_info": {
      "name": "python"
    }
  },
  "nbformat": 4,
  "nbformat_minor": 0
}